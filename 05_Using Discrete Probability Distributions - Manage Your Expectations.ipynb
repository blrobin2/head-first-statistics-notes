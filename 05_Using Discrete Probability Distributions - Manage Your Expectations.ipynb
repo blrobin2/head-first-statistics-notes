{
 "cells": [
  {
   "cell_type": "markdown",
   "id": "b2ec418b",
   "metadata": {},
   "source": [
    "* overall impact of events\n",
    "* predicting long-term outcomes\n",
    "* measuring certainty"
   ]
  },
  {
   "cell_type": "code",
   "execution_count": 44,
   "id": "42b04786",
   "metadata": {},
   "outputs": [],
   "source": [
    "import numpy as np\n",
    "import pandas as pd\n",
    "from fractions import Fraction\n",
    "import math\n",
    "\n",
    "def num_to_frac(i):\n",
    "    return Fraction(i).limit_denominator()"
   ]
  },
  {
   "cell_type": "code",
   "execution_count": 20,
   "id": "f98c1764",
   "metadata": {},
   "outputs": [
    {
     "name": "stdout",
     "output_type": "stream",
     "text": [
      "Probability of 💲💲💲 = 0.0010000000000000002\n",
      "Probability of 💲💲🍒 = 0.006000000000000002\n",
      "Probability of 🍋🍋🍋 = 0.008000000000000002\n",
      "Probability of 🍒🍒🍒 = 0.008000000000000002\n",
      "Probability of Winning Nothing = 0.977\n"
     ]
    }
   ],
   "source": [
    "liklihood_per_image = dict(\n",
    "    Dollar = 0.1,\n",
    "    Cherry = 0.2,\n",
    "    Lemon = 0.2,\n",
    "    Other = 0.5\n",
    ")\n",
    "\n",
    "# events are independent, so\n",
    "\n",
    "probability_of_3_dollars = liklihood_per_image['Dollar'] ** 3\n",
    "probability_of_2_dollar_and_cherry = liklihood_per_image['Dollar'] ** 2 * liklihood_per_image['Cherry']\n",
    "probability_of_2_dollar_and_cherry = probability_of_2_dollar_and_cherry * 3\n",
    "probability_of_3_lemons = liklihood_per_image['Lemon'] ** 3\n",
    "probability_of_3_cherrys = liklihood_per_image['Cherry'] ** 3\n",
    "\n",
    "probability_of_winning_something = probability_of_3_dollars + probability_of_2_dollar_and_cherry + probability_of_3_lemons + probability_of_3_cherrys\n",
    "probability_of_winnning_nothing = 1 - probability_of_winning_something\n",
    "\n",
    "\n",
    "print(f'Probability of 💲💲💲 = {probability_of_3_dollars}')\n",
    "print(f'Probability of 💲💲🍒 = {probability_of_2_dollar_and_cherry}')\n",
    "print(f'Probability of 🍋🍋🍋 = {probability_of_3_lemons}')\n",
    "print(f'Probability of 🍒🍒🍒 = {probability_of_3_cherrys}')\n",
    "print(f'Probability of Winning Nothing = {probability_of_winnning_nothing}')"
   ]
  },
  {
   "cell_type": "markdown",
   "id": "2969a9ce",
   "metadata": {},
   "source": [
    "# Probability Distribution"
   ]
  },
  {
   "cell_type": "code",
   "execution_count": 19,
   "id": "23de3411",
   "metadata": {},
   "outputs": [
    {
     "data": {
      "text/html": [
       "<div>\n",
       "<style scoped>\n",
       "    .dataframe tbody tr th:only-of-type {\n",
       "        vertical-align: middle;\n",
       "    }\n",
       "\n",
       "    .dataframe tbody tr th {\n",
       "        vertical-align: top;\n",
       "    }\n",
       "\n",
       "    .dataframe thead th {\n",
       "        text-align: right;\n",
       "    }\n",
       "</style>\n",
       "<table border=\"1\" class=\"dataframe\">\n",
       "  <thead>\n",
       "    <tr style=\"text-align: right;\">\n",
       "      <th></th>\n",
       "      <th>Probability</th>\n",
       "    </tr>\n",
       "    <tr>\n",
       "      <th>Combination</th>\n",
       "      <th></th>\n",
       "    </tr>\n",
       "  </thead>\n",
       "  <tbody>\n",
       "    <tr>\n",
       "      <th>None</th>\n",
       "      <td>0.977</td>\n",
       "    </tr>\n",
       "    <tr>\n",
       "      <th>Lemons</th>\n",
       "      <td>0.008</td>\n",
       "    </tr>\n",
       "    <tr>\n",
       "      <th>Cherries</th>\n",
       "      <td>0.008</td>\n",
       "    </tr>\n",
       "    <tr>\n",
       "      <th>Dollars/Cherry</th>\n",
       "      <td>0.006</td>\n",
       "    </tr>\n",
       "    <tr>\n",
       "      <th>Dollars</th>\n",
       "      <td>0.001</td>\n",
       "    </tr>\n",
       "  </tbody>\n",
       "</table>\n",
       "</div>"
      ],
      "text/plain": [
       "                Probability\n",
       "Combination                \n",
       "None                  0.977\n",
       "Lemons                0.008\n",
       "Cherries              0.008\n",
       "Dollars/Cherry        0.006\n",
       "Dollars               0.001"
      ]
     },
     "execution_count": 19,
     "metadata": {},
     "output_type": "execute_result"
    }
   ],
   "source": [
    "slots_probability_dist = pd.DataFrame(\n",
    "    data = dict(\n",
    "        Combination = ['None', 'Lemons', 'Cherries', 'Dollars/Cherry', 'Dollars'],\n",
    "        Probability = [\n",
    "            probability_of_winnning_nothing,\n",
    "            probability_of_3_lemons,\n",
    "            probability_of_3_cherrys,\n",
    "            probability_of_2_dollar_and_cherry,\n",
    "            probability_of_3_dollars\n",
    "        ]\n",
    "    )\n",
    ")\n",
    "slots_probability_dist.set_index('Combination', inplace=True)\n",
    "slots_probability_dist"
   ]
  },
  {
   "cell_type": "markdown",
   "id": "293b4314",
   "metadata": {},
   "source": [
    "We don't just want to know the probability of winning, we want to know how _much_ we stand to win"
   ]
  },
  {
   "cell_type": "code",
   "execution_count": 38,
   "id": "f8e29fa6",
   "metadata": {},
   "outputs": [
    {
     "data": {
      "text/html": [
       "<div>\n",
       "<style scoped>\n",
       "    .dataframe tbody tr th:only-of-type {\n",
       "        vertical-align: middle;\n",
       "    }\n",
       "\n",
       "    .dataframe tbody tr th {\n",
       "        vertical-align: top;\n",
       "    }\n",
       "\n",
       "    .dataframe thead th {\n",
       "        text-align: right;\n",
       "    }\n",
       "</style>\n",
       "<table border=\"1\" class=\"dataframe\">\n",
       "  <thead>\n",
       "    <tr style=\"text-align: right;\">\n",
       "      <th></th>\n",
       "      <th>Probability</th>\n",
       "      <th>Gains</th>\n",
       "    </tr>\n",
       "    <tr>\n",
       "      <th>Combination</th>\n",
       "      <th></th>\n",
       "      <th></th>\n",
       "    </tr>\n",
       "  </thead>\n",
       "  <tbody>\n",
       "    <tr>\n",
       "      <th>None</th>\n",
       "      <td>0.977</td>\n",
       "      <td>-1</td>\n",
       "    </tr>\n",
       "    <tr>\n",
       "      <th>Lemons</th>\n",
       "      <td>0.008</td>\n",
       "      <td>4</td>\n",
       "    </tr>\n",
       "    <tr>\n",
       "      <th>Cherries</th>\n",
       "      <td>0.008</td>\n",
       "      <td>9</td>\n",
       "    </tr>\n",
       "    <tr>\n",
       "      <th>Dollars/Cherry</th>\n",
       "      <td>0.006</td>\n",
       "      <td>14</td>\n",
       "    </tr>\n",
       "    <tr>\n",
       "      <th>Dollars</th>\n",
       "      <td>0.001</td>\n",
       "      <td>19</td>\n",
       "    </tr>\n",
       "  </tbody>\n",
       "</table>\n",
       "</div>"
      ],
      "text/plain": [
       "                Probability  Gains\n",
       "Combination                       \n",
       "None                  0.977     -1\n",
       "Lemons                0.008      4\n",
       "Cherries              0.008      9\n",
       "Dollars/Cherry        0.006     14\n",
       "Dollars               0.001     19"
      ]
     },
     "execution_count": 38,
     "metadata": {},
     "output_type": "execute_result"
    }
   ],
   "source": [
    "cost_per_game = 1\n",
    "dollar_win = 20\n",
    "dollar_cherry_win = 15\n",
    "cherry_win = 10\n",
    "lemon_win = 5\n",
    "nothing = 0\n",
    "\n",
    "slots_probability_dist['Gains'] = [\n",
    "    nothing - cost_per_game,\n",
    "    lemon_win - cost_per_game,\n",
    "    cherry_win - cost_per_game,\n",
    "    dollar_cherry_win - cost_per_game,\n",
    "    dollar_win - cost_per_game\n",
    "]\n",
    "slots_probability_dist"
   ]
  },
  {
   "cell_type": "markdown",
   "id": "0ea091ac",
   "metadata": {},
   "source": [
    "* __random variable__ - a variable that can take on a set of values, where each value is associated with a specific probability\n",
    "\n",
    "In the slots machine example, the random variable represents that amount we'll gain each game\n",
    "\n",
    "| Combination     | None | Lemons | Cherries | dollar/cherry | Dollars | \n",
    "| --------------- | ---- | ------ | -------- | ------------- | ------- |\n",
    "| $x$ | -1 | 4 | 9 | 14 | 19 |\n",
    "| $P(X = x)$ | 0.997 | 0.008 | 0.008 | 0.006 | 0.001 |\n",
    "\n",
    "* The value of each combination's winnings is represented by $x$\n",
    "* $X$ is the variable\n",
    "* The probability that $X = 9$ is like saying that the value of the winnings is \\$9\n",
    "\n",
    "The variable is __discrete__ meaning it can only take exact values"
   ]
  },
  {
   "cell_type": "code",
   "execution_count": 33,
   "id": "f73dfee1",
   "metadata": {},
   "outputs": [
    {
     "data": {
      "image/png": "[encoded data removed]",
      "text/plain": [
       "<Figure size 432x288 with 1 Axes>"
      ]
     },
     "metadata": {
      "needs_background": "light"
     },
     "output_type": "display_data"
    }
   ],
   "source": [
    "slots_probability_dist.set_index('Gains')['Probability'].plot(\n",
    "    kind='bar',\n",
    "    title='Slot Machine Probabilities',\n",
    "    xlabel='x',\n",
    "    ylabel='P(X = x)'\n",
    ");"
   ]
  },
  {
   "cell_type": "markdown",
   "id": "8ff6c582",
   "metadata": {},
   "source": [
    "* The probability of losing \\$1 is nearly 1\n",
    "* The probabilities for winning \\$4, \\$9, \\$14, and \\$19 are so tiny, they barely register on the graph\n",
    "\n",
    "# Expectation and Variance of Discrete Probability Distributions\n",
    "\n",
    "## Expectation gives you a prediction of the results...\n",
    "\n",
    "* The __expectation__ is how much you can typically expect to win or lose each game.\n",
    "    * It's sort of like the mean for probability distributions\n",
    "    * $E(X) = \\mu$\n",
    "    \n",
    "### $$\n",
    "E(X) = \\sum{xP(X = x)}\n",
    "$$\n",
    "\n",
    "* $E(X)$ is the expectation of $X$\n",
    "* Multiply each value by its probability\n",
    "* Once you're done multiplying, add the whole lot up together"
   ]
  },
  {
   "cell_type": "code",
   "execution_count": 35,
   "id": "81de510f",
   "metadata": {},
   "outputs": [
    {
     "name": "stdout",
     "output_type": "stream",
     "text": [
      "E(X) = -0.7699999999999999\n"
     ]
    }
   ],
   "source": [
    "slots_expectation = (slots_probability_dist['Gains'] * slots_probability_dist['Probability']).sum()\n",
    "print(f'E(X) = {slots_expectation}')"
   ]
  },
  {
   "cell_type": "markdown",
   "id": "04614b96",
   "metadata": {},
   "source": [
    "In other words, you can expect to lose \\$0.77 per game\n",
    "\n",
    "If you played the slot machine 100 times, you could expect to lose \\$77\n",
    "\n",
    "## ... and Variance tells you about the spread of the results\n",
    "\n",
    "Previously, we calculated variance with $Variance = \\frac{\\sum{(x - \\mu)^2}}{n}$\n",
    "\n",
    "For probability distributions, we use __expectation__ instead of __mean__ (or rather, we use the mean as it's understood for probability distributions)\n",
    "\n",
    "### $$\n",
    "Var(X) = E(X - \\mu)^2\n",
    "$$\n",
    "\n",
    "How do you calculate $E(X - \\mu)^2$ ?\n",
    "\n",
    "### $$\n",
    "E(X - \\mu)^2 = \\sum{(x - \\mu)^2P(X = x)}\n",
    "$$"
   ]
  },
  {
   "cell_type": "code",
   "execution_count": 45,
   "id": "28543418",
   "metadata": {},
   "outputs": [
    {
     "name": "stdout",
     "output_type": "stream",
     "text": [
      "Var(X) = 2.6971000000000003\n",
      "𝜎 = 1.642284993537967\n"
     ]
    }
   ],
   "source": [
    "slots_variance = ((slots_probability_dist['Gains'] - slots_expectation) ** 2 * slots_probability_dist['Probability']).sum()\n",
    "print(f'Var(X) = {slots_variance}')\n",
    "\n",
    "std_deviation = math.sqrt(slots_variance)\n",
    "print(f'𝜎 = {std_deviation}')"
   ]
  },
  {
   "cell_type": "markdown",
   "id": "a24365bc",
   "metadata": {},
   "source": [
    "If the slot machine has a low expectation, I guess I would hope for a high variance, since that would mean that in the spread I would have a better possibility of getting higher than the expectation over time\n",
    "\n",
    "In general, the smaller the variance is, the closer your average winnings per game are likely to be to the expectation. If you play a slot machine with a larger variance, your overall winnings will be less reliable\n",
    "\n",
    "### Expectation and Variance\n",
    "* __Expectation__ : $E(X) = \\sum{xP(X = x)}$\n",
    "* __Variance__ : $Var(X) = E(X - \\mu)^2$"
   ]
  },
  {
   "cell_type": "code",
   "execution_count": 64,
   "id": "54291a90",
   "metadata": {},
   "outputs": [
    {
     "name": "stdout",
     "output_type": "stream",
     "text": [
      "E(X) = 2.95\n",
      "Var(X) = 1.2475\n"
     ]
    },
    {
     "data": {
      "image/png": "[encoded data removed]",
      "text/plain": [
       "<Figure size 432x288 with 1 Axes>"
      ]
     },
     "metadata": {
      "needs_background": "light"
     },
     "output_type": "display_data"
    }
   ],
   "source": [
    "prob_dist = pd.DataFrame(data={\n",
    "    'x': [1, 2, 3, 4, 5],\n",
    "    'P(X = x)': [0.1, 0.25, 0.35, 0.2, 0.1]\n",
    "})\n",
    "prob_dist.set_index('x', inplace=True)\n",
    "\n",
    "e_x = (prob_dist.index * prob_dist['P(X = x)']).sum()\n",
    "print(f'E(X) = {e_x}')\n",
    "\n",
    "var_x = ((prob_dist.index - e_x) ** 2 * prob_dist['P(X = x)']).sum()\n",
    "print(f'Var(X) = {var_x}')\n",
    "\n",
    "prob_dist['P(X = x)'].plot(kind='bar');"
   ]
  },
  {
   "cell_type": "code",
   "execution_count": 67,
   "id": "3cc07b06",
   "metadata": {},
   "outputs": [
    {
     "name": "stdout",
     "output_type": "stream",
     "text": [
      "-4.1\n"
     ]
    }
   ],
   "source": [
    "def new_value(x):\n",
    "    return x * 2 - 10\n",
    "\n",
    "print(new_value(e_x))"
   ]
  },
  {
   "cell_type": "markdown",
   "id": "fab3227b",
   "metadata": {},
   "source": [
    "If all of the values are doubled minus 10, you can just perform that calculation on the expectation to get the new expectation"
   ]
  },
  {
   "cell_type": "code",
   "execution_count": 71,
   "id": "7b09fca8",
   "metadata": {},
   "outputs": [
    {
     "data": {
      "text/html": [
       "<div>\n",
       "<style scoped>\n",
       "    .dataframe tbody tr th:only-of-type {\n",
       "        vertical-align: middle;\n",
       "    }\n",
       "\n",
       "    .dataframe tbody tr th {\n",
       "        vertical-align: top;\n",
       "    }\n",
       "\n",
       "    .dataframe thead th {\n",
       "        text-align: right;\n",
       "    }\n",
       "</style>\n",
       "<table border=\"1\" class=\"dataframe\">\n",
       "  <thead>\n",
       "    <tr style=\"text-align: right;\">\n",
       "      <th></th>\n",
       "      <th>P(Y = y)</th>\n",
       "    </tr>\n",
       "    <tr>\n",
       "      <th>y</th>\n",
       "      <th></th>\n",
       "    </tr>\n",
       "  </thead>\n",
       "  <tbody>\n",
       "    <tr>\n",
       "      <th>-2</th>\n",
       "      <td>0.977</td>\n",
       "    </tr>\n",
       "    <tr>\n",
       "      <th>23</th>\n",
       "      <td>0.008</td>\n",
       "    </tr>\n",
       "    <tr>\n",
       "      <th>48</th>\n",
       "      <td>0.008</td>\n",
       "    </tr>\n",
       "    <tr>\n",
       "      <th>73</th>\n",
       "      <td>0.006</td>\n",
       "    </tr>\n",
       "    <tr>\n",
       "      <th>98</th>\n",
       "      <td>0.001</td>\n",
       "    </tr>\n",
       "  </tbody>\n",
       "</table>\n",
       "</div>"
      ],
      "text/plain": [
       "     P(Y = y)\n",
       "y            \n",
       "-2      0.977\n",
       " 23     0.008\n",
       " 48     0.008\n",
       " 73     0.006\n",
       " 98     0.001"
      ]
     },
     "execution_count": 71,
     "metadata": {},
     "output_type": "execute_result"
    }
   ],
   "source": [
    "# Cost has doubled, but winnings are 5 times more\n",
    "slots_probability_dist_2 = slots_probability_dist.copy()\n",
    "slots_probability_dist_2['Gains'] = [\n",
    "    (nothing * 5) - (cost_per_game * 2),\n",
    "    (lemon_win * 5) - (cost_per_game * 2),\n",
    "    (cherry_win * 5) - (cost_per_game * 2),\n",
    "    (dollar_cherry_win * 5) - (cost_per_game * 2),\n",
    "    (dollar_win * 5) - (cost_per_game * 2)\n",
    "]\n",
    "slots_probability_dist_2.columns = ['P(Y = y)', 'y']\n",
    "slots_probability_dist_2.set_index('y', inplace=True)\n",
    "slots_probability_dist_2"
   ]
  },
  {
   "cell_type": "code",
   "execution_count": 74,
   "id": "0d9d6d20",
   "metadata": {},
   "outputs": [
    {
     "name": "stdout",
     "output_type": "stream",
     "text": [
      "E(X) = -0.7699999999999999\n",
      "E(Y) = -0.8499999999999998\n",
      "Var(X) = 2.6971000000000003\n",
      "Var(Y) = 67.42750000000001\n"
     ]
    }
   ],
   "source": [
    "e_y = (slots_probability_dist_2.index * slots_probability_dist_2['P(Y = y)']).sum()\n",
    "print(f'E(X) = {slots_expectation}')\n",
    "print(f'E(Y) = {e_y}')\n",
    "\n",
    "var_y = ((slots_probability_dist_2.index - e_y) ** 2 * slots_probability_dist_2['P(Y = y)']).sum()\n",
    "print(f'Var(X) = {slots_variance}')\n",
    "print(f'Var(Y) = {var_y}')"
   ]
  },
  {
   "cell_type": "markdown",
   "id": "2bddcfcc",
   "metadata": {},
   "source": [
    "With these new values, the expectation is lower, but the variance is significantly higher\n",
    "\n",
    "This means that we stand to lose more money in the long term on this machine, but there's less certainty"
   ]
  },
  {
   "cell_type": "markdown",
   "id": "e963be7c",
   "metadata": {},
   "source": [
    "* $X = original\\,win - original\\,cost$\n",
    "* $X = original\\,win - 1$\n",
    "* $original\\,win = X + 1$\n",
    "\n",
    "\n",
    "* $Y = 5(original\\,win) - new\\,cost$\n",
    "* $Y = 5(X + 1) - 2$\n",
    "* $Y = 5X + 5 - 2$\n",
    "* $Y = 5X + 3$"
   ]
  },
  {
   "cell_type": "code",
   "execution_count": 76,
   "id": "4c467911",
   "metadata": {},
   "outputs": [
    {
     "data": {
      "text/plain": [
       "-0.8499999999999996"
      ]
     },
     "execution_count": 76,
     "metadata": {},
     "output_type": "execute_result"
    }
   ],
   "source": [
    "5 * slots_expectation + 3"
   ]
  },
  {
   "cell_type": "code",
   "execution_count": 79,
   "id": "27fee55c",
   "metadata": {},
   "outputs": [
    {
     "data": {
      "text/plain": [
       "67.42750000000001"
      ]
     },
     "execution_count": 79,
     "metadata": {},
     "output_type": "execute_result"
    }
   ],
   "source": [
    "5**2 * slots_variance"
   ]
  },
  {
   "cell_type": "markdown",
   "id": "5b605e73",
   "metadata": {},
   "source": [
    "## General formulas for linear transformations\n",
    "\n",
    "If you have a variable $X$ and numbers $a$ and $b$ then:"
   ]
  },
  {
   "cell_type": "markdown",
   "id": "d096ef63",
   "metadata": {},
   "source": [
    "* $E(aX + b) = a(E(X)) + b$\n",
    "* $Var(aX + b) = a^2Var(X)$"
   ]
  },
  {
   "cell_type": "markdown",
   "id": "5c3e0a0b",
   "metadata": {},
   "source": [
    "## Summary So Far\n",
    "\n",
    "* __Probability distributions__ describe the probability of all possible outcomes of a given variable\n",
    "* The __expectation__ is the expected average long-term outcome\n",
    "    * It is represented as either E(X) or $\\mu$\n",
    "    * It is calculated using $E(X) = \\sum{xP(X = x)}$\n",
    "* The __expectation of a function of X__ is given by $E(f(X)) = \\sum{f(x)P(X = x)}$\n",
    "* The __variance of a probability distribution__ is given by $Var(X) = E(X - \\mu)^2$\n",
    "* The __standard deviation of a probability distribution__ is given by $\\sigma = \\sqrt{Var(X)}$\n",
    "* __Linear transforms__ are when a variable $X$ is transormed into $aX + b$, where $a$ and $b$ are constants\n",
    "    * The expectation is given by $E(aX + b) = aE(X) + b$\n",
    "    * The variance is given by $Var(aX + b) = a^2Var(X)$\n",
    "    \n",
    "# Independent Observations\n",
    "\n",
    "* When we play multiple games on a slot machine, each game is called an _event_, and the outcome of each games is called an __observation__\n",
    "    * Each observation has the same expectation and variance, but their outcomes are different. You may not gain the same amount each game\n",
    "* If the probability distribution of the slot machines gain is represented by $X$, we call the first observation $X_1$ and the second observation $X_2$\n",
    "* If we want to find the expectation and variance of two games on the slot machine, what we really want to find is the expectation and variance of $X_1 + X_2$\n",
    "\n",
    "### Expectation\n",
    "\n",
    "* $E(X_1 + X_2) = E(X_1) + E(X_2)$\n",
    "* $E(X_1 + X_2) = E(X) + E(X)$\n",
    "* $E(X_1 + X_2) = 2E(X)$"
   ]
  },
  {
   "cell_type": "code",
   "execution_count": 83,
   "id": "f8d2cd2b",
   "metadata": {},
   "outputs": [
    {
     "name": "stdout",
     "output_type": "stream",
     "text": [
      "𝐸(𝑋1+𝑋2) = -1.5399999999999998\n"
     ]
    }
   ],
   "source": [
    "slots_expectation_after_two_games = slots_expectation * 2\n",
    "print(f'𝐸(𝑋1+𝑋2) = {slots_expectation_after_two_games}')"
   ]
  },
  {
   "cell_type": "markdown",
   "id": "44cb0aa9",
   "metadata": {},
   "source": [
    "### $$\n",
    "E(X_1 + X_2 + \\dots + X_n) = nE(X)\n",
    "$$\n",
    "\n",
    "Where $n$ is the number of observations\n",
    "\n",
    "### Variance\n",
    "\n",
    "* $Var(X_1 + X_2) = Var(X_1) + Var(X_2)$\n",
    "* $Var(X_1 + X_2) = Var(X) + Var(X)$\n",
    "* $Var(X_1 + X_2) = 2Var(X)$"
   ]
  },
  {
   "cell_type": "code",
   "execution_count": 84,
   "id": "e54e85a9",
   "metadata": {},
   "outputs": [
    {
     "name": "stdout",
     "output_type": "stream",
     "text": [
      "𝑉𝑎𝑟(𝑋1+𝑋2) = 5.3942000000000005\n"
     ]
    }
   ],
   "source": [
    "slots_variance_after_two_games = slots_variance * 2\n",
    "print(f'𝑉𝑎𝑟(𝑋1+𝑋2) = {slots_variance_after_two_games}')"
   ]
  },
  {
   "cell_type": "markdown",
   "id": "5fb217d6",
   "metadata": {},
   "source": [
    "### $$\n",
    "Var(X_1 + X_2 + \\dots + X_n) = nVar(X)\n",
    "$$\n",
    "\n",
    "Where $n$ is the number of observations\n",
    "\n",
    "## Summary So Far\n",
    "\n",
    "* Probability distributions describe the probability of all possible outcomes of a given random variable\n",
    "* The expectation of a random variable $X$ is the expected long-term average\n",
    "    * It's represented as either $E(X)$ or $\\mu$\n",
    "    * It is calulated using $E(X) = \\sum{xP(X=X)}$\n",
    "* The variance of a random variable X is given by $Var(X) = E(X - \\mu)^2$\n",
    "* The standard deviation $\\sigma$ is the square root of the variance\n",
    "* Linear transforms are when a random variable $X$ is transformed into $aX + b$, where $a$ and $b$ are numbers\n",
    "    * The expectation is given by $E(aX + b) = aE(X) + b$\n",
    "    * The variance is given by $Var(aX + b) = a^2Var(X)$\n",
    "    \n",
    "    \n",
    "## Linear Transform Or Independent Observation?\n",
    "* The amount of coffee in an extra large cup of coffee; X is the amount of coffee in a normal-sized cup: linear transform\n",
    "* Drinking an extra cup of coffee per day; X is the amount of coffee in a cup: independent observation\n",
    "* Finding the net gain from buying 10 lottery tickets; X is the net gain of buying one lottery ticket: independent observation\n",
    "* Finding the net gain from a lottery ticket after the price of tickets goes up; X is the net gain of buying 1 lottery ticket: linear transform\n",
    "* Buying an extra hen to lay eggs for breakfast; X is the number of eggs laid per week by a certain breed of hen: independent observation"
   ]
  },
  {
   "cell_type": "code",
   "execution_count": 88,
   "id": "d9ff07b2",
   "metadata": {},
   "outputs": [
    {
     "data": {
      "text/html": [
       "<div>\n",
       "<style scoped>\n",
       "    .dataframe tbody tr th:only-of-type {\n",
       "        vertical-align: middle;\n",
       "    }\n",
       "\n",
       "    .dataframe tbody tr th {\n",
       "        vertical-align: top;\n",
       "    }\n",
       "\n",
       "    .dataframe thead th {\n",
       "        text-align: right;\n",
       "    }\n",
       "</style>\n",
       "<table border=\"1\" class=\"dataframe\">\n",
       "  <thead>\n",
       "    <tr style=\"text-align: right;\">\n",
       "      <th></th>\n",
       "      <th>P(X = x)</th>\n",
       "    </tr>\n",
       "    <tr>\n",
       "      <th>x</th>\n",
       "      <th></th>\n",
       "    </tr>\n",
       "  </thead>\n",
       "  <tbody>\n",
       "    <tr>\n",
       "      <th>-0.5</th>\n",
       "      <td>0.80</td>\n",
       "    </tr>\n",
       "    <tr>\n",
       "      <th>1.5</th>\n",
       "      <td>0.10</td>\n",
       "    </tr>\n",
       "    <tr>\n",
       "      <th>4.5</th>\n",
       "      <td>0.07</td>\n",
       "    </tr>\n",
       "    <tr>\n",
       "      <th>9.5</th>\n",
       "      <td>0.03</td>\n",
       "    </tr>\n",
       "  </tbody>\n",
       "</table>\n",
       "</div>"
      ],
      "text/plain": [
       "      P(X = x)\n",
       "x             \n",
       "-0.5      0.80\n",
       " 1.5      0.10\n",
       " 4.5      0.07\n",
       " 9.5      0.03"
      ]
     },
     "execution_count": 88,
     "metadata": {},
     "output_type": "execute_result"
    }
   ],
   "source": [
    "cost_per_cookie = 0.5\n",
    "gains = np.array([0, 2, 5, 10]) - cost_per_cookie\n",
    "probability_of_2 = 0.1\n",
    "probability_of_5 = 0.07\n",
    "probability_of_10 = 0.03\n",
    "probability_of_nothing = 1 - probability_of_2 - probability_of_5 - probability_of_10\n",
    "\n",
    "\n",
    "fortune_cookie_dist = pd.DataFrame(data = {\n",
    "    'x': gains,\n",
    "    'P(X = x)': [probability_of_nothing, probability_of_2, probability_of_5, probability_of_10]\n",
    "})\n",
    "fortune_cookie_dist.set_index('x', inplace=True)\n",
    "fortune_cookie_dist"
   ]
  },
  {
   "cell_type": "code",
   "execution_count": 91,
   "id": "555fafef",
   "metadata": {},
   "outputs": [
    {
     "name": "stdout",
     "output_type": "stream",
     "text": [
      "E(X) = 0.35000000000000003\n",
      "Var(X) = 4.4275\n"
     ]
    }
   ],
   "source": [
    "fortune_expectation = (fortune_cookie_dist.index * fortune_cookie_dist['P(X = x)']).sum()\n",
    "print(f'E(X) = {fortune_expectation}')\n",
    "fortune_variance = ((fortune_cookie_dist.index - fortune_expectation) ** 2 * fortune_cookie_dist['P(X = x)']).sum()\n",
    "print(f'Var(X) = {fortune_variance}')"
   ]
  },
  {
   "cell_type": "code",
   "execution_count": 94,
   "id": "1feb19f4",
   "metadata": {},
   "outputs": [
    {
     "name": "stdout",
     "output_type": "stream",
     "text": [
      "E(X + 0.5) = -0.14999999999999997\n",
      "Var(X + 0.5) = 4.4275\n"
     ]
    }
   ],
   "source": [
    "print(f'E(X + 0.5) = {fortune_expectation - 0.5}')\n",
    "print(f'Var(X + 0.5) = {fortune_variance}')"
   ]
  },
  {
   "cell_type": "markdown",
   "id": "042c3fcf",
   "metadata": {},
   "source": [
    "# Addition and Subtraction of Random Variables\n",
    "\n",
    "## Add $E(X)$ and $E(Y)$ to get $E(X + Y)$...\n",
    "\n",
    "* $E(X + Y) = E(X) + E(Y)$\n",
    "* $Var(X + Y) = Var(X) + Var(Y)$\n",
    "\n",
    "\n",
    "* It should make intuitive sense: if you win \\$5 in one game and \\$10 in another, you've won \\$15\n",
    "* And, as you add two variances together, inevitably the variance will increase and the probability distribution varies more\n",
    "\n",
    "__BUT REMEMBER__ - Adding the variances together only works for independent random variariables. If they are not independent, then the above is no longer true\n",
    "\n",
    "## ...Subtract $E(X)$ and $E(Y)$ to get $E(X - Y)$\n",
    "\n",
    "* $E(X - Y) = E(X) - E(Y)$\n",
    "\n",
    "Variance is not as simple conceptually:\n",
    "\n",
    "* $Var(X - Y) = Var(X) + Var(Y)$\n",
    "\n",
    "Because regardless, you are increasing the variance of the probability distribution by introducing another probability distribution\n",
    "\n",
    "# Adding and Subtracing Linear Transforms\n",
    "\n",
    "## Adding Linear Transforms\n",
    "* $E(aX + bY) = aE(X) + bE(Y)$\n",
    "* $Var(aX + bY) = a^2Var(X) + b^2Var(Y)$\n",
    "\n",
    "## Subtracting Linear Transforms\n",
    "* $E(aX - bY) = aE(X) - bE(Y)$\n",
    "* $Var(aX - bY) = a^2Var(X) + b^2Var(Y)$\n",
    "\n",
    "As with random variables, you still add together the variances when subtracting linear transforms\n",
    "\n",
    "## Summary So Far\n",
    "\n",
    "* __Independent observations of X__ are different instances of $X$. Each observation has the same probability distribution, but the outcomes can be different\n",
    "* If $X_1, X_2, \\dots, X_n$ are independent observations of $X$ then:\n",
    "    * $E(X_1 + X_2 + \\dots + X_n) = nE(X)$\n",
    "    * $Var(X_1 + X_2 + \\dots + X_n) = nVar(X)$\n",
    "* If $X$ and $Y$ are independent random variables, then:\n",
    "    * $E(X + Y) = E(X) + E(Y)$\n",
    "    * $E(X - Y) = E(X) - E(Y)$\n",
    "    * $Var(X + Y) = Var(X) + Var(Y)$\n",
    "    * $Var(X - Y) = Var(X) + Var(Y)$\n",
    "* The expectation and variance of linear transforms of X and Y are given by\n",
    "    * $E(aX + bY) = aE(X) + bE(Y)$\n",
    "    * $E(aX - bY) = aE(X) - bE(Y)$\n",
    "    * $Var(aX + bY) = a^2Var(X) + b^2Var(Y)$\n",
    "    * $Var(aX - bY) = a^2Var(X) + b^2Var(Y)$\n",
    "    \n",
    "    \n",
    "    \n",
    "### Shortcuts or formulas\n",
    "* $E(aX + b) = a(E(X) + b$\n",
    "* $Var(aX + b) = a^2Var(X)$\n",
    "* $E(X) = \\sum{xP(X = x)}$\n",
    "* $E(f(X)) = \\sum{f(x)P(X = x)}$\n",
    "* $Var(aX - bY) = a^2Var(X) + b^2Var(Y)$\n",
    "* $Var(X) = E(X - \\mu)^2 = \\sum{(x - \\mu)^2P(X = x)}$\n",
    "* $E(aX - bY) = aE(X) + bE(Y)$\n",
    "* $E(X_1 + X_2 + X_3) = 3E(X)$\n",
    "* $Var(X_1 + X_2 + X_3) = 3Var(X)$\n",
    "* $E(x^2) = \\sum{x^2P(X = x)}$\n",
    "* $Var(aX - b) = a^2Var(X)$"
   ]
  },
  {
   "cell_type": "code",
   "execution_count": 97,
   "id": "93a5395d",
   "metadata": {},
   "outputs": [
    {
     "data": {
      "text/html": [
       "<div>\n",
       "<style scoped>\n",
       "    .dataframe tbody tr th:only-of-type {\n",
       "        vertical-align: middle;\n",
       "    }\n",
       "\n",
       "    .dataframe tbody tr th {\n",
       "        vertical-align: top;\n",
       "    }\n",
       "\n",
       "    .dataframe thead th {\n",
       "        text-align: right;\n",
       "    }\n",
       "</style>\n",
       "<table border=\"1\" class=\"dataframe\">\n",
       "  <thead>\n",
       "    <tr style=\"text-align: right;\">\n",
       "      <th>x</th>\n",
       "      <th>10</th>\n",
       "      <th>15</th>\n",
       "      <th>20</th>\n",
       "      <th>25</th>\n",
       "    </tr>\n",
       "  </thead>\n",
       "  <tbody>\n",
       "    <tr>\n",
       "      <th>P(X = x)</th>\n",
       "      <td>0.2</td>\n",
       "      <td>0.5</td>\n",
       "      <td>0.2</td>\n",
       "      <td>0.1</td>\n",
       "    </tr>\n",
       "  </tbody>\n",
       "</table>\n",
       "</div>"
      ],
      "text/plain": [
       "x          10   15   20   25\n",
       "P(X = x)  0.2  0.5  0.2  0.1"
      ]
     },
     "execution_count": 97,
     "metadata": {},
     "output_type": "execute_result"
    }
   ],
   "source": [
    "weekday_prices = pd.DataFrame(data = {\n",
    "    'x': [10, 15, 20, 25],\n",
    "    'P(X = x)': [0.2, 0.5, 0.2, 0.1]\n",
    "})\n",
    "weekday_prices.set_index('x', inplace=True)\n",
    "\n",
    "weekday_prices.T"
   ]
  },
  {
   "cell_type": "code",
   "execution_count": 98,
   "id": "dd962eff",
   "metadata": {},
   "outputs": [
    {
     "data": {
      "text/html": [
       "<div>\n",
       "<style scoped>\n",
       "    .dataframe tbody tr th:only-of-type {\n",
       "        vertical-align: middle;\n",
       "    }\n",
       "\n",
       "    .dataframe tbody tr th {\n",
       "        vertical-align: top;\n",
       "    }\n",
       "\n",
       "    .dataframe thead th {\n",
       "        text-align: right;\n",
       "    }\n",
       "</style>\n",
       "<table border=\"1\" class=\"dataframe\">\n",
       "  <thead>\n",
       "    <tr style=\"text-align: right;\">\n",
       "      <th>y</th>\n",
       "      <th>15</th>\n",
       "      <th>20</th>\n",
       "      <th>25</th>\n",
       "      <th>30</th>\n",
       "    </tr>\n",
       "  </thead>\n",
       "  <tbody>\n",
       "    <tr>\n",
       "      <th>P(Y = y)</th>\n",
       "      <td>0.15</td>\n",
       "      <td>0.6</td>\n",
       "      <td>0.2</td>\n",
       "      <td>0.05</td>\n",
       "    </tr>\n",
       "  </tbody>\n",
       "</table>\n",
       "</div>"
      ],
      "text/plain": [
       "y           15   20   25    30\n",
       "P(Y = y)  0.15  0.6  0.2  0.05"
      ]
     },
     "execution_count": 98,
     "metadata": {},
     "output_type": "execute_result"
    }
   ],
   "source": [
    "weekend_prices = pd.DataFrame(data = {\n",
    "    'y': [15, 20, 25, 30],\n",
    "    'P(Y = y)': [0.15, 0.6, 0.2, 0.05]\n",
    "})\n",
    "weekend_prices.set_index('y', inplace=True)\n",
    "weekend_prices.T"
   ]
  },
  {
   "cell_type": "code",
   "execution_count": 99,
   "id": "a9eeca26",
   "metadata": {},
   "outputs": [
    {
     "name": "stdout",
     "output_type": "stream",
     "text": [
      "Weekend group of 20 = 415.0\n",
      "Weekday group of 25 = 400.0\n"
     ]
    }
   ],
   "source": [
    "weekday_expectation = (weekday_prices.index * weekday_prices['P(X = x)']).sum()\n",
    "weekend_expectation = (weekend_prices.index * weekend_prices['P(Y = y)']).sum()\n",
    "\n",
    "print(f'Weekend group of 20 = {weekend_expectation * 20}')\n",
    "print(f'Weekday group of 25 = {weekday_expectation * 25}')"
   ]
  },
  {
   "cell_type": "markdown",
   "id": "e551fbdf",
   "metadata": {},
   "source": [
    "Weekend group of 20 should expect to pay more than a weekday group of 25"
   ]
  },
  {
   "cell_type": "code",
   "execution_count": 100,
   "id": "85155275",
   "metadata": {},
   "outputs": [
    {
     "data": {
      "text/html": [
       "<div>\n",
       "<style scoped>\n",
       "    .dataframe tbody tr th:only-of-type {\n",
       "        vertical-align: middle;\n",
       "    }\n",
       "\n",
       "    .dataframe tbody tr th {\n",
       "        vertical-align: top;\n",
       "    }\n",
       "\n",
       "    .dataframe thead th {\n",
       "        text-align: right;\n",
       "    }\n",
       "</style>\n",
       "<table border=\"1\" class=\"dataframe\">\n",
       "  <thead>\n",
       "    <tr style=\"text-align: right;\">\n",
       "      <th>x</th>\n",
       "      <th>20</th>\n",
       "      <th>30</th>\n",
       "      <th>40</th>\n",
       "      <th>45</th>\n",
       "    </tr>\n",
       "  </thead>\n",
       "  <tbody>\n",
       "    <tr>\n",
       "      <th>P(X = x)</th>\n",
       "      <td>0.3</td>\n",
       "      <td>0.4</td>\n",
       "      <td>0.2</td>\n",
       "      <td>0.1</td>\n",
       "    </tr>\n",
       "  </tbody>\n",
       "</table>\n",
       "</div>"
      ],
      "text/plain": [
       "x          20   30   40   45\n",
       "P(X = x)  0.3  0.4  0.2  0.1"
      ]
     },
     "execution_count": 100,
     "metadata": {},
     "output_type": "execute_result"
    }
   ],
   "source": [
    "restaurant_a = pd.DataFrame({\n",
    "    'x': [20, 30, 40, 45],\n",
    "    'P(X = x)': [0.3, 0.4, 0.2, 0.1]\n",
    "})\n",
    "restaurant_a.set_index('x', inplace=True)\n",
    "restaurant_a.T"
   ]
  },
  {
   "cell_type": "code",
   "execution_count": 101,
   "id": "b1d19852",
   "metadata": {},
   "outputs": [
    {
     "data": {
      "text/html": [
       "<div>\n",
       "<style scoped>\n",
       "    .dataframe tbody tr th:only-of-type {\n",
       "        vertical-align: middle;\n",
       "    }\n",
       "\n",
       "    .dataframe tbody tr th {\n",
       "        vertical-align: top;\n",
       "    }\n",
       "\n",
       "    .dataframe thead th {\n",
       "        text-align: right;\n",
       "    }\n",
       "</style>\n",
       "<table border=\"1\" class=\"dataframe\">\n",
       "  <thead>\n",
       "    <tr style=\"text-align: right;\">\n",
       "      <th>y</th>\n",
       "      <th>10</th>\n",
       "      <th>15</th>\n",
       "      <th>18</th>\n",
       "    </tr>\n",
       "  </thead>\n",
       "  <tbody>\n",
       "    <tr>\n",
       "      <th>P(Y = y)</th>\n",
       "      <td>0.2</td>\n",
       "      <td>0.6</td>\n",
       "      <td>0.2</td>\n",
       "    </tr>\n",
       "  </tbody>\n",
       "</table>\n",
       "</div>"
      ],
      "text/plain": [
       "y          10   15   18\n",
       "P(Y = y)  0.2  0.6  0.2"
      ]
     },
     "execution_count": 101,
     "metadata": {},
     "output_type": "execute_result"
    }
   ],
   "source": [
    "restaurant_b = pd.DataFrame({\n",
    "    'y': [10, 15, 18],\n",
    "    'P(Y = y)': [0.2, 0.6, 0.2]\n",
    "})\n",
    "restaurant_b.set_index('y', inplace=True)\n",
    "restaurant_b.T"
   ]
  },
  {
   "cell_type": "markdown",
   "id": "7a6a8d31",
   "metadata": {},
   "source": [
    "* $E(X - Y) = E(X) - E(Y)$\n",
    "* $Var(X - Y) = Var(X) + Var(Y)$"
   ]
  },
  {
   "cell_type": "code",
   "execution_count": 104,
   "id": "7b82ddf2",
   "metadata": {},
   "outputs": [
    {
     "name": "stdout",
     "output_type": "stream",
     "text": [
      "E(A - B) = 15.9\n",
      "Var(A - B) = 78.89\n"
     ]
    }
   ],
   "source": [
    "restaurant_a_expectation = (restaurant_a.index * restaurant_a['P(X = x)']).sum()\n",
    "restaurant_b_expectation = (restaurant_b.index * restaurant_b['P(Y = y)']).sum()\n",
    "print(f'E(A - B) = {restaurant_a_expectation - restaurant_b_expectation}')\n",
    "\n",
    "restaurant_a_variance = ((restaurant_a.index - restaurant_a_expectation) ** 2 * restaurant_a['P(X = x)']).sum()\n",
    "restaurant_b_variance = ((restaurant_b.index - restaurant_b_expectation) ** 2 * restaurant_b['P(Y = y)']).sum()\n",
    "print(f'Var(A - B) = {restaurant_a_variance + restaurant_b_variance}')"
   ]
  },
  {
   "cell_type": "code",
   "execution_count": null,
   "id": "dde474dc",
   "metadata": {},
   "outputs": [],
   "source": []
  }
 ],
 "metadata": {
  "kernelspec": {
   "display_name": "Python 3",
   "language": "python",
   "name": "python3"
  },
  "language_info": {
   "codemirror_mode": {
    "name": "ipython",
    "version": 3
   },
   "file_extension": ".py",
   "mimetype": "text/x-python",
   "name": "python",
   "nbconvert_exporter": "python",
   "pygments_lexer": "ipython3",
   "version": "3.8.8"
  }
 },
 "nbformat": 4,
 "nbformat_minor": 5
}
