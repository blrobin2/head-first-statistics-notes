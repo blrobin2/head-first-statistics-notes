{
 "cells": [
  {
   "cell_type": "code",
   "execution_count": 2,
   "id": "934178d5",
   "metadata": {},
   "outputs": [],
   "source": [
    "from matplotlib_venn import venn2, venn3\n",
    "import matplotlib.pyplot as plt"
   ]
  },
  {
   "cell_type": "markdown",
   "id": "68a30d3f",
   "metadata": {},
   "source": [
    "* __event__ - an outcome or occurence that has a probability assigned to it\n",
    "    * Any outcome where you can say how likely it is to occur"
   ]
  },
  {
   "cell_type": "code",
   "execution_count": 6,
   "id": "b7c95aa5",
   "metadata": {},
   "outputs": [
    {
     "name": "stdout",
     "output_type": "stream",
     "text": [
      "Likelihood of getting 7: 0.02631578947368421\n"
     ]
    }
   ],
   "source": [
    "roulette_slots = 38\n",
    "seven_pockets = 1\n",
    "print(f'Likelihood of getting 7: {seven_pockets/roulette_slots}')"
   ]
  },
  {
   "cell_type": "markdown",
   "id": "561ec55b",
   "metadata": {},
   "source": [
    "On a scale of 0 to 1, the probability of getting 7 on a routelle wheel is 0.026. Not impossible, but not very likely\n",
    "\n",
    "$Probability = \\frac{number\\,of\\,ways\\,of\\,winning}{number\\,of\\,possible\\,outcomes}$\n",
    "\n",
    "For the probability of some event $A$: $P(A) = \\frac{n(A)}{n(S)}$\n",
    "\n",
    "* __$S$__ - possibility space / sample space. All possible outcomes. $A$ is a subset of $S$\n",
    "* __$A'$__ - complementary event. The event that does not occur\n",
    "\n",
    "\n",
    "$P(A) + P(A') = 1$\n",
    "\n",
    "Therefore...\n",
    "\n",
    "$P(A') = 1 - P(A)$"
   ]
  },
  {
   "cell_type": "code",
   "execution_count": 7,
   "id": "ab74019a",
   "metadata": {},
   "outputs": [
    {
     "name": "stdout",
     "output_type": "stream",
     "text": [
      "Getting 9: 0.02631578947368421\n",
      "Getting Green: 0.05263157894736842\n",
      "Getting Black: 0.47368421052631576\n",
      "Getting 38: 0.0\n"
     ]
    }
   ],
   "source": [
    "nine_pockets = 1\n",
    "print(f'Getting 9: {nine_pockets/roulette_slots}')\n",
    "green_pockets = 2\n",
    "print(f'Getting Green: {green_pockets/roulette_slots}')\n",
    "black_pockets = (roulette_slots - green_pockets) / 2\n",
    "print(f'Getting Black: {black_pockets/roulette_slots}')\n",
    "thirtyeight_pockets = 0\n",
    "print(f'Getting 38: {thirtyeight_pockets/roulette_slots}')"
   ]
  },
  {
   "cell_type": "markdown",
   "id": "4e19f248",
   "metadata": {},
   "source": [
    "### No matter how unlikely an event is, if it's not impossible, it can still happen\n",
    "\n",
    "$P(Black or Red) = P(Green')$\n"
   ]
  },
  {
   "cell_type": "code",
   "execution_count": 9,
   "id": "d4b5e7ed",
   "metadata": {},
   "outputs": [
    {
     "name": "stdout",
     "output_type": "stream",
     "text": [
      "Getting Red or Black: 0.9473684210526316\n",
      "See?:0.9473684210526315\n"
     ]
    }
   ],
   "source": [
    "p_green = green_pockets/roulette_slots\n",
    "p_black_or_red = 1 - p_green\n",
    "print(f'Getting Red or Black: {p_black_or_red}')\n",
    "red_or_black = 36\n",
    "print(f'See?:{red_or_black/roulette_slots}')"
   ]
  },
  {
   "cell_type": "markdown",
   "id": "12d26b10",
   "metadata": {},
   "source": [
    "$P(Black\\,or\\,Red) = P(Black) + P(Red)$"
   ]
  },
  {
   "cell_type": "code",
   "execution_count": 11,
   "id": "75c273a9",
   "metadata": {},
   "outputs": [
    {
     "name": "stdout",
     "output_type": "stream",
     "text": [
      "Getting Red or Black: 0.9473684210526315\n"
     ]
    }
   ],
   "source": [
    "red_pockets = 18\n",
    "p_black_or_red = (black_pockets/roulette_slots) + (red_pockets/roulette_slots)\n",
    "print(f'Getting Red or Black: {p_black_or_red}')"
   ]
  },
  {
   "cell_type": "markdown",
   "id": "b8219873",
   "metadata": {},
   "source": [
    "## Summary So Far\n",
    "\n",
    "* __Probability__: to find the probability of an event $A$, use $P(A) = \\frac{n(A)}{n(S)}$\n",
    "* __A'__: $A'$ is the complementary event of $A$. It's the probability that event $A$ does not occur: $P(A') = 1 - P(A)$\n",
    "\n",
    "You can't always add together two probabilities to get the new probability\n",
    "\n",
    "$P(Black\\,or\\,Even) = ?$"
   ]
  },
  {
   "cell_type": "code",
   "execution_count": 15,
   "id": "40efd752",
   "metadata": {},
   "outputs": [
    {
     "name": "stdout",
     "output_type": "stream",
     "text": [
      "Getting Black: 0.47368421052631576\n",
      "Getting Even: 0.47368421052631576\n",
      "If I add them together... 0.9473684210526315\n",
      "Black or Even: 0.6842105263157895\n"
     ]
    }
   ],
   "source": [
    "p_black = black_pockets / roulette_slots\n",
    "black_pockets = 18\n",
    "print(f'Getting Black: {p_black}')\n",
    "even_slots = 18\n",
    "p_even = even_slots / roulette_slots\n",
    "print(f'Getting Even: {p_even}')\n",
    "print(f'If I add them together... {p_black + p_even}')\n",
    "\n",
    "# manually counting...\n",
    "black_or_even_slots = 26\n",
    "print(f'Black or Even: {black_or_even_slots / roulette_slots}')"
   ]
  },
  {
   "cell_type": "markdown",
   "id": "e69c5ec3",
   "metadata": {},
   "source": [
    "* when events are __mutually exclusive__ only one of the two can occur. These types of events can be added together\n",
    "* when events __intersect__, it's possible they can occur simultaneously."
   ]
  },
  {
   "cell_type": "code",
   "execution_count": 16,
   "id": "3d6c3d80",
   "metadata": {},
   "outputs": [
    {
     "data": {
      "image/png": "[encoded data removed]",
      "text/plain": [
       "<Figure size 432x288 with 1 Axes>"
      ]
     },
     "metadata": {},
     "output_type": "display_data"
    }
   ],
   "source": [
    "venn2(subsets=(black_pockets, red_pockets, 0), set_labels=('Black', 'Red'));"
   ]
  },
  {
   "cell_type": "code",
   "execution_count": 27,
   "id": "3e733b9c",
   "metadata": {},
   "outputs": [
    {
     "data": {
      "image/png": "[encoded data removed]",
      "text/plain": [
       "<Figure size 432x288 with 1 Axes>"
      ]
     },
     "metadata": {},
     "output_type": "display_data"
    }
   ],
   "source": [
    "venn2(subsets=(8, 8, 10), set_labels=('Black', 'Even'));"
   ]
  },
  {
   "cell_type": "markdown",
   "id": "0bcb5e18",
   "metadata": {},
   "source": [
    "$P(Black \\cup Even) = P(Black) + P(Even) - P(Black \\cap Even)$\n",
    "\n",
    "* $\\cap = intersection$ - and\n",
    "* $\\cup = union$ - or - __exhaustive__\n",
    "\n",
    "More generally:\n",
    "\n",
    "$P(A \\cup B) = P(A) + P(B) - P(A \\cap B)$"
   ]
  },
  {
   "cell_type": "code",
   "execution_count": 20,
   "id": "b7d44395",
   "metadata": {},
   "outputs": [
    {
     "name": "stdout",
     "output_type": "stream",
     "text": [
      "Black or Even: 0.6842105263157894\n"
     ]
    }
   ],
   "source": [
    "p_black_or_even = p_black + p_even - (10/roulette_slots)\n",
    "print(f'Black or Even: {p_black_or_even}')"
   ]
  },
  {
   "cell_type": "markdown",
   "id": "a054f23a",
   "metadata": {},
   "source": [
    "* If $A$ and $B$ are __exclusive__, then $P(A \\cap B) = 0$\n",
    "* If $A$ and $B$ are __exhaustive__, then $P(A \\cup B) = 1$"
   ]
  },
  {
   "cell_type": "code",
   "execution_count": 26,
   "id": "c0eb926a",
   "metadata": {},
   "outputs": [
    {
     "data": {
      "image/png": "[encoded data removed]",
      "text/plain": [
       "<Figure size 432x288 with 1 Axes>"
      ]
     },
     "metadata": {},
     "output_type": "display_data"
    }
   ],
   "source": [
    "sports_enthusiasts = 50\n",
    "baseball_only = 10\n",
    "football_only = 12\n",
    "basketball_only = 18\n",
    "baseball_and_basketball = 6\n",
    "football_and_basketball = 4\n",
    "football_and_baseball = 0\n",
    "all_sports = 0\n",
    "\n",
    "venn3(\n",
    "    subsets=(baseball_only, basketball_only, baseball_and_basketball, football_only, football_and_baseball, football_and_basketball, all_sports),\n",
    "    set_labels=('Baseball', 'Basketball', 'Football')\n",
    ");"
   ]
  },
  {
   "cell_type": "markdown",
   "id": "4b7d0b1d",
   "metadata": {},
   "source": [
    "total_baseball_players = 16\n",
    "total_basketball_players = 28\n",
    "total_football_players = 16\n",
    "\n",
    "Football and Baseball are mutally exclusive\n",
    "\n",
    "Football, Basketball, and Baseball are exhaustive"
   ]
  },
  {
   "cell_type": "markdown",
   "id": "82f9b344",
   "metadata": {},
   "source": [
    "## Conditional Probabilities\n",
    "\n",
    "\n",
    "### $P(Even\\,given\\,black) = \\frac{Black\\,and\\,even}{Black}$"
   ]
  },
  {
   "cell_type": "code",
   "execution_count": 28,
   "id": "c3a6d4cc",
   "metadata": {},
   "outputs": [
    {
     "data": {
      "image/png": "[encoded data removed]",
      "text/plain": [
       "<Figure size 432x288 with 1 Axes>"
      ]
     },
     "metadata": {},
     "output_type": "display_data"
    }
   ],
   "source": [
    "venn2(subsets=(8, 8, 10), set_labels=('Black', 'Even'));"
   ]
  },
  {
   "cell_type": "code",
   "execution_count": 29,
   "id": "1a8e9563",
   "metadata": {},
   "outputs": [
    {
     "name": "stdout",
     "output_type": "stream",
     "text": [
      "Even given black: 0.5555555555555556\n"
     ]
    }
   ],
   "source": [
    "num_black = 18\n",
    "num_even_and_black = 10\n",
    "p_even_given_black = num_even_and_black / num_black\n",
    "print(f'Even given black: {p_even_given_black}')"
   ]
  },
  {
   "cell_type": "markdown",
   "id": "2d82c275",
   "metadata": {},
   "source": [
    "* __conditional probabilities__ - the probability of one even occurring relative to another occurring\n",
    "    * $|$ - 'given'\n",
    "\n",
    "### $P(A | B) = \\frac{P(A \\cap B)}{P(B)}$\n",
    "\n",
    "We can use this equation to find $P(A \\cap B)$\n",
    "\n",
    "$P(A \\cap B) = P(A | B) \\times P(B)$\n",
    "\n",
    "Or even\n",
    "\n",
    "$P(B \\cap A) = P(B | A) \\times P(A)$\n",
    "\n",
    "## Probability Tree"
   ]
  },
  {
   "cell_type": "code",
   "execution_count": 3,
   "id": "323920de",
   "metadata": {},
   "outputs": [],
   "source": [
    "import pydotplus.graphviz as gv\n",
    "from IPython.display import SVG"
   ]
  },
  {
   "cell_type": "code",
   "execution_count": 50,
   "id": "db0aab4c",
   "metadata": {
    "scrolled": false
   },
   "outputs": [
    {
     "data": {
      "image/svg+xml": [
       "<svg xmlns=\"http://www.w3.org/2000/svg\" xmlns:xlink=\"http://www.w3.org/1999/xlink\" width=\"346pt\" height=\"239pt\" viewBox=\"0.00 0.00 346.08 239.00\">\n",
       "<g id=\"graph0\" class=\"graph\" transform=\"scale(1 1) rotate(0) translate(4 235)\">\n",
       "<title>G</title>\n",
       "<polygon fill=\"white\" stroke=\"transparent\" points=\"-4,4 -4,-235 342.08,-235 342.08,4 -4,4\"/>\n",
       "<!-- Roulette -->\n",
       "<g id=\"node1\" class=\"node\">\n",
       "<title>Roulette</title>\n",
       "<ellipse fill=\"none\" stroke=\"black\" cx=\"40.95\" cy=\"-129\" rx=\"40.89\" ry=\"18\"/>\n",
       "<text text-anchor=\"middle\" x=\"40.95\" y=\"-125.3\" font-family=\"Times New Roman,serif\" font-size=\"14.00\">Roulette</text>\n",
       "</g>\n",
       "<!-- Black -->\n",
       "<g id=\"node2\" class=\"node\">\n",
       "<title>Black</title>\n",
       "<ellipse fill=\"none\" stroke=\"black\" cx=\"181.39\" cy=\"-129\" rx=\"31.4\" ry=\"18\"/>\n",
       "<text text-anchor=\"middle\" x=\"181.39\" y=\"-125.3\" font-family=\"Times New Roman,serif\" font-size=\"14.00\">Black</text>\n",
       "</g>\n",
       "<!-- Roulette&#45;&gt;Black -->\n",
       "<g id=\"edge1\" class=\"edge\">\n",
       "<title>Roulette-&gt;Black</title>\n",
       "<path fill=\"none\" stroke=\"black\" d=\"M81.99,-129C100.23,-129 121.78,-129 140.06,-129\"/>\n",
       "<polygon fill=\"black\" stroke=\"black\" points=\"140.11,-132.5 150.11,-129 140.11,-125.5 140.11,-132.5\"/>\n",
       "<text text-anchor=\"middle\" x=\"115.39\" y=\"-132.8\" font-family=\"Times New Roman,serif\" font-size=\"14.00\">18/38</text>\n",
       "</g>\n",
       "<!-- Red -->\n",
       "<g id=\"node3\" class=\"node\">\n",
       "<title>Red</title>\n",
       "<ellipse fill=\"none\" stroke=\"black\" cx=\"181.39\" cy=\"-186\" rx=\"27\" ry=\"18\"/>\n",
       "<text text-anchor=\"middle\" x=\"181.39\" y=\"-182.3\" font-family=\"Times New Roman,serif\" font-size=\"14.00\">Red</text>\n",
       "</g>\n",
       "<!-- Roulette&#45;&gt;Red -->\n",
       "<g id=\"edge2\" class=\"edge\">\n",
       "<title>Roulette-&gt;Red</title>\n",
       "<path fill=\"none\" stroke=\"black\" d=\"M71.31,-141.09C93.95,-150.41 125.22,-163.29 148.48,-172.86\"/>\n",
       "<polygon fill=\"black\" stroke=\"black\" points=\"147.33,-176.17 157.91,-176.74 149.99,-169.7 147.33,-176.17\"/>\n",
       "<text text-anchor=\"middle\" x=\"115.39\" y=\"-167.8\" font-family=\"Times New Roman,serif\" font-size=\"14.00\">18/38</text>\n",
       "</g>\n",
       "<!-- Green -->\n",
       "<g id=\"node4\" class=\"node\">\n",
       "<title>Green</title>\n",
       "<ellipse fill=\"none\" stroke=\"black\" cx=\"181.39\" cy=\"-72\" rx=\"32.49\" ry=\"18\"/>\n",
       "<text text-anchor=\"middle\" x=\"181.39\" y=\"-68.3\" font-family=\"Times New Roman,serif\" font-size=\"14.00\">Green</text>\n",
       "</g>\n",
       "<!-- Roulette&#45;&gt;Green -->\n",
       "<g id=\"edge3\" class=\"edge\">\n",
       "<title>Roulette-&gt;Green</title>\n",
       "<path fill=\"none\" stroke=\"black\" d=\"M71.31,-116.91C92.98,-107.99 122.55,-95.81 145.44,-86.39\"/>\n",
       "<polygon fill=\"black\" stroke=\"black\" points=\"146.88,-89.58 154.8,-82.54 144.22,-83.11 146.88,-89.58\"/>\n",
       "<text text-anchor=\"middle\" x=\"115.39\" y=\"-106.8\" font-family=\"Times New Roman,serif\" font-size=\"14.00\">2/38</text>\n",
       "</g>\n",
       "<!-- Odd -->\n",
       "<g id=\"node5\" class=\"node\">\n",
       "<title>Odd</title>\n",
       "<ellipse fill=\"none\" stroke=\"black\" cx=\"309.48\" cy=\"-213\" rx=\"27.1\" ry=\"18\"/>\n",
       "<text text-anchor=\"middle\" x=\"309.48\" y=\"-209.3\" font-family=\"Times New Roman,serif\" font-size=\"14.00\">Odd</text>\n",
       "</g>\n",
       "<!-- Black&#45;&gt;Odd -->\n",
       "<g id=\"edge4\" class=\"edge\">\n",
       "<title>Black-&gt;Odd</title>\n",
       "<path fill=\"none\" stroke=\"black\" d=\"M212.61,-129.23C228.79,-130.69 248.32,-134.75 262.89,-145 275.6,-153.95 272.31,-162.03 280.89,-175 283.85,-179.48 287.11,-184.16 290.32,-188.65\"/>\n",
       "<polygon fill=\"black\" stroke=\"black\" points=\"287.64,-190.92 296.35,-196.95 293.3,-186.8 287.64,-190.92\"/>\n",
       "<text text-anchor=\"middle\" x=\"247.39\" y=\"-148.8\" font-family=\"Times New Roman,serif\" font-size=\"14.00\">8/18</text>\n",
       "</g>\n",
       "<!-- Even -->\n",
       "<g id=\"node6\" class=\"node\">\n",
       "<title>Even</title>\n",
       "<ellipse fill=\"none\" stroke=\"black\" cx=\"309.48\" cy=\"-148\" rx=\"28.7\" ry=\"18\"/>\n",
       "<text text-anchor=\"middle\" x=\"309.48\" y=\"-144.3\" font-family=\"Times New Roman,serif\" font-size=\"14.00\">Even</text>\n",
       "</g>\n",
       "<!-- Black&#45;&gt;Even -->\n",
       "<g id=\"edge5\" class=\"edge\">\n",
       "<title>Black-&gt;Even</title>\n",
       "<path fill=\"none\" stroke=\"black\" d=\"M205.36,-117.13C221.69,-110.31 243.99,-104.3 262.89,-111 271.59,-114.09 279.84,-119.62 286.87,-125.48\"/>\n",
       "<polygon fill=\"black\" stroke=\"black\" points=\"284.75,-128.28 294.52,-132.39 289.44,-123.09 284.75,-128.28\"/>\n",
       "<text text-anchor=\"middle\" x=\"247.39\" y=\"-114.8\" font-family=\"Times New Roman,serif\" font-size=\"14.00\">10/18</text>\n",
       "</g>\n",
       "<!-- Red&#45;&gt;Odd -->\n",
       "<g id=\"edge6\" class=\"edge\">\n",
       "<title>Red-&gt;Odd</title>\n",
       "<path fill=\"none\" stroke=\"black\" d=\"M205.83,-194.48C213.99,-197.19 223.26,-200 231.89,-202 244.87,-205.01 259.3,-207.34 272.1,-209.06\"/>\n",
       "<polygon fill=\"black\" stroke=\"black\" points=\"272.04,-212.58 282.4,-210.37 272.92,-205.64 272.04,-212.58\"/>\n",
       "<text text-anchor=\"middle\" x=\"247.39\" y=\"-210.8\" font-family=\"Times New Roman,serif\" font-size=\"14.00\">10/18</text>\n",
       "</g>\n",
       "<!-- Red&#45;&gt;Even -->\n",
       "<g id=\"edge7\" class=\"edge\">\n",
       "<title>Red-&gt;Even</title>\n",
       "<path fill=\"none\" stroke=\"black\" d=\"M206.83,-179.8C222.85,-175.62 244.21,-169.82 262.89,-164 266.74,-162.8 270.76,-161.48 274.74,-160.14\"/>\n",
       "<polygon fill=\"black\" stroke=\"black\" points=\"276.14,-163.36 284.45,-156.79 273.86,-156.74 276.14,-163.36\"/>\n",
       "<text text-anchor=\"middle\" x=\"247.39\" y=\"-176.8\" font-family=\"Times New Roman,serif\" font-size=\"14.00\">8/18</text>\n",
       "</g>\n",
       "<!-- 0 -->\n",
       "<g id=\"node7\" class=\"node\">\n",
       "<title>0</title>\n",
       "<ellipse fill=\"none\" stroke=\"black\" cx=\"309.48\" cy=\"-72\" rx=\"27\" ry=\"18\"/>\n",
       "<text text-anchor=\"middle\" x=\"309.48\" y=\"-68.3\" font-family=\"Times New Roman,serif\" font-size=\"14.00\">0</text>\n",
       "</g>\n",
       "<!-- Green&#45;&gt;0 -->\n",
       "<g id=\"edge8\" class=\"edge\">\n",
       "<title>Green-&gt;0</title>\n",
       "<path fill=\"none\" stroke=\"black\" d=\"M214.21,-72C231.86,-72 253.87,-72 272.19,-72\"/>\n",
       "<polygon fill=\"black\" stroke=\"black\" points=\"272.2,-75.5 282.2,-72 272.2,-68.5 272.2,-75.5\"/>\n",
       "<text text-anchor=\"middle\" x=\"247.39\" y=\"-75.8\" font-family=\"Times New Roman,serif\" font-size=\"14.00\">1/2</text>\n",
       "</g>\n",
       "<!-- 00 -->\n",
       "<g id=\"node8\" class=\"node\">\n",
       "<title>00</title>\n",
       "<ellipse fill=\"none\" stroke=\"black\" cx=\"309.48\" cy=\"-18\" rx=\"27\" ry=\"18\"/>\n",
       "<text text-anchor=\"middle\" x=\"309.48\" y=\"-14.3\" font-family=\"Times New Roman,serif\" font-size=\"14.00\">00</text>\n",
       "</g>\n",
       "<!-- Green&#45;&gt;00 -->\n",
       "<g id=\"edge9\" class=\"edge\">\n",
       "<title>Green-&gt;00</title>\n",
       "<path fill=\"none\" stroke=\"black\" d=\"M207.6,-61.2C227.55,-52.66 255.51,-40.69 276.93,-31.51\"/>\n",
       "<polygon fill=\"black\" stroke=\"black\" points=\"278.45,-34.67 286.27,-27.51 275.7,-28.23 278.45,-34.67\"/>\n",
       "<text text-anchor=\"middle\" x=\"247.39\" y=\"-52.8\" font-family=\"Times New Roman,serif\" font-size=\"14.00\">1/2</text>\n",
       "</g>\n",
       "</g>\n",
       "</svg>"
      ],
      "text/plain": [
       "<IPython.core.display.SVG object>"
      ]
     },
     "execution_count": 50,
     "metadata": {},
     "output_type": "execute_result"
    }
   ],
   "source": [
    "graph = gv.Graph(rankdir='LR')\n",
    "node = gv.Node('Roulette')\n",
    "graph.add_node(node)\n",
    "graph.add_node(gv.Node('Black'))\n",
    "graph.add_node(gv.Node('Red'))\n",
    "graph.add_node(gv.Node('Green'))\n",
    "graph.add_edge(gv.Edge('Roulette', 'Black', label = '18/38'))\n",
    "graph.add_edge(gv.Edge('Roulette', 'Red', label='18/38'))\n",
    "graph.add_edge(gv.Edge('Roulette', 'Green', label='2/38'))\n",
    "graph.add_node(gv.Node('Odd'))\n",
    "graph.add_node(gv.Node('Even'))\n",
    "graph.add_edge(gv.Edge('Black', 'Odd', label='8/18'))\n",
    "graph.add_edge(gv.Edge('Black', 'Even', label='10/18'))\n",
    "graph.add_edge(gv.Edge('Red', 'Odd', label='10/18'))\n",
    "graph.add_edge(gv.Edge('Red', 'Even', label='8/18'))\n",
    "graph.add_node(gv.Node('0'))\n",
    "graph.add_node(gv.Node('00'))\n",
    "graph.add_edge(gv.Edge('Green', '0', label='1/2'))\n",
    "graph.add_edge(gv.Edge('Green', '00', label='1/2'))\n",
    "t = gv.graph_from_dot_data(graph.to_string())\n",
    "t.write_svg('roulette.svg')\n",
    "SVG('roulette.svg')"
   ]
  },
  {
   "cell_type": "markdown",
   "id": "69a487c6",
   "metadata": {},
   "source": [
    "* The first set of branches shows the probability for each outcome\n",
    "    * For example, the probability of getting black is 18/38, or 0.474\n",
    "* The second set of branches shows the probability of outcomes __given the outcome of the branch it is linked to__\n",
    "    * For example, the probability of getting an odd pocket given we know it's black is 8/18, or 0.444"
   ]
  },
  {
   "cell_type": "code",
   "execution_count": 91,
   "id": "de25b00f",
   "metadata": {},
   "outputs": [
    {
     "data": {
      "image/svg+xml": [
       "<svg xmlns=\"http://www.w3.org/2000/svg\" xmlns:xlink=\"http://www.w3.org/1999/xlink\" width=\"616pt\" height=\"221pt\" viewBox=\"0.00 0.00 615.87 221.00\">\n",
       "<g id=\"graph0\" class=\"graph\" transform=\"scale(1 1) rotate(0) translate(4 217)\">\n",
       "<title>G</title>\n",
       "<polygon fill=\"white\" stroke=\"transparent\" points=\"-4,4 -4,-217 611.87,-217 611.87,4 -4,4\"/>\n",
       "<!-- B and A -->\n",
       "<g id=\"node1\" class=\"node\">\n",
       "<title>B and A</title>\n",
       "<ellipse fill=\"none\" stroke=\"black\" cx=\"40.95\" cy=\"-95\" rx=\"40.89\" ry=\"18\"/>\n",
       "<text text-anchor=\"middle\" x=\"40.95\" y=\"-91.3\" font-family=\"Times New Roman,serif\" font-size=\"14.00\">B and A</text>\n",
       "</g>\n",
       "<!-- B -->\n",
       "<g id=\"node2\" class=\"node\">\n",
       "<title>B</title>\n",
       "<ellipse fill=\"none\" stroke=\"black\" cx=\"174.89\" cy=\"-122\" rx=\"27\" ry=\"18\"/>\n",
       "<text text-anchor=\"middle\" x=\"174.89\" y=\"-118.3\" font-family=\"Times New Roman,serif\" font-size=\"14.00\">B</text>\n",
       "</g>\n",
       "<!-- B and A&#45;&gt;B -->\n",
       "<g id=\"edge1\" class=\"edge\">\n",
       "<title>B and A-&gt;B</title>\n",
       "<path fill=\"none\" stroke=\"black\" d=\"M78.35,-102.45C97.27,-106.32 120.29,-111.03 138.99,-114.86\"/>\n",
       "<polygon fill=\"black\" stroke=\"black\" points=\"138.38,-118.31 148.88,-116.88 139.78,-111.45 138.38,-118.31\"/>\n",
       "<text text-anchor=\"middle\" x=\"114.89\" y=\"-115.8\" font-family=\"Times New Roman,serif\" font-size=\"14.00\">P(B)</text>\n",
       "</g>\n",
       "<!-- B&#39; -->\n",
       "<g id=\"node3\" class=\"node\">\n",
       "<title>B'</title>\n",
       "<ellipse fill=\"none\" stroke=\"black\" cx=\"174.89\" cy=\"-68\" rx=\"27\" ry=\"18\"/>\n",
       "<text text-anchor=\"middle\" x=\"174.89\" y=\"-64.3\" font-family=\"Times New Roman,serif\" font-size=\"14.00\">B'</text>\n",
       "</g>\n",
       "<!-- B and A&#45;&gt;B&#39; -->\n",
       "<g id=\"edge2\" class=\"edge\">\n",
       "<title>B and A-&gt;B'</title>\n",
       "<path fill=\"none\" stroke=\"black\" d=\"M78.35,-87.55C97.27,-83.68 120.29,-78.97 138.99,-75.14\"/>\n",
       "<polygon fill=\"black\" stroke=\"black\" points=\"139.78,-78.55 148.88,-73.12 138.38,-71.69 139.78,-78.55\"/>\n",
       "<text text-anchor=\"middle\" x=\"114.89\" y=\"-86.8\" font-family=\"Times New Roman,serif\" font-size=\"14.00\">P(B')</text>\n",
       "</g>\n",
       "<!-- A -->\n",
       "<g id=\"node4\" class=\"node\">\n",
       "<title>A</title>\n",
       "<ellipse fill=\"none\" stroke=\"black\" cx=\"309.89\" cy=\"-148\" rx=\"27\" ry=\"18\"/>\n",
       "<text text-anchor=\"middle\" x=\"309.89\" y=\"-144.3\" font-family=\"Times New Roman,serif\" font-size=\"14.00\">A</text>\n",
       "</g>\n",
       "<!-- B&#45;&gt;A -->\n",
       "<g id=\"edge3\" class=\"edge\">\n",
       "<title>B-&gt;A</title>\n",
       "<path fill=\"none\" stroke=\"black\" d=\"M200.91,-126.89C221.4,-130.9 250.64,-136.61 273.52,-141.09\"/>\n",
       "<polygon fill=\"black\" stroke=\"black\" points=\"273.05,-144.56 283.54,-143.04 274.39,-137.69 273.05,-144.56\"/>\n",
       "<text text-anchor=\"middle\" x=\"242.39\" y=\"-141.8\" font-family=\"Times New Roman,serif\" font-size=\"14.00\">P(A|B)</text>\n",
       "</g>\n",
       "<!-- A&#39; -->\n",
       "<g id=\"node5\" class=\"node\">\n",
       "<title>A'</title>\n",
       "<ellipse fill=\"none\" stroke=\"black\" cx=\"309.89\" cy=\"-68\" rx=\"27\" ry=\"18\"/>\n",
       "<text text-anchor=\"middle\" x=\"309.89\" y=\"-64.3\" font-family=\"Times New Roman,serif\" font-size=\"14.00\">A'</text>\n",
       "</g>\n",
       "<!-- B&#45;&gt;A&#39; -->\n",
       "<g id=\"edge4\" class=\"edge\">\n",
       "<title>B-&gt;A'</title>\n",
       "<path fill=\"none\" stroke=\"black\" d=\"M200.12,-115.09C218.26,-109.61 243.53,-101.34 264.89,-92 269.98,-89.78 275.25,-87.17 280.32,-84.52\"/>\n",
       "<polygon fill=\"black\" stroke=\"black\" points=\"281.99,-87.59 289.11,-79.75 278.65,-81.44 281.99,-87.59\"/>\n",
       "<text text-anchor=\"middle\" x=\"242.39\" y=\"-111.8\" font-family=\"Times New Roman,serif\" font-size=\"14.00\">P(A'|B)</text>\n",
       "</g>\n",
       "<!-- B&#39;&#45;&gt;A -->\n",
       "<g id=\"edge5\" class=\"edge\">\n",
       "<title>B'-&gt;A</title>\n",
       "<path fill=\"none\" stroke=\"black\" d=\"M201.17,-63.36C220.09,-61.26 245.87,-61.39 264.89,-73 274.32,-78.75 287.34,-102.42 296.77,-121.65\"/>\n",
       "<polygon fill=\"black\" stroke=\"black\" points=\"293.73,-123.41 301.21,-130.91 300.04,-120.38 293.73,-123.41\"/>\n",
       "<text text-anchor=\"middle\" x=\"242.39\" y=\"-76.8\" font-family=\"Times New Roman,serif\" font-size=\"14.00\">P(A|B')</text>\n",
       "</g>\n",
       "<!-- B&#39;&#45;&gt;A&#39; -->\n",
       "<g id=\"edge6\" class=\"edge\">\n",
       "<title>B'-&gt;A'</title>\n",
       "<path fill=\"none\" stroke=\"black\" d=\"M192.27,-53.9C200.08,-48.07 209.9,-42 219.89,-39 239.05,-33.25 245.74,-33.25 264.89,-39 271.6,-41.01 278.24,-44.42 284.24,-48.2\"/>\n",
       "<polygon fill=\"black\" stroke=\"black\" points=\"282.3,-51.11 292.52,-53.9 286.26,-45.34 282.3,-51.11\"/>\n",
       "<text text-anchor=\"middle\" x=\"242.39\" y=\"-42.8\" font-family=\"Times New Roman,serif\" font-size=\"14.00\">P(A'|B')</text>\n",
       "</g>\n",
       "<!-- P(A ∩ B) = P(A|B) x P(B) -->\n",
       "<g id=\"node6\" class=\"node\">\n",
       "<title>P(A ∩ B) = P(A|B) x P(B)</title>\n",
       "<ellipse fill=\"none\" stroke=\"black\" cx=\"490.88\" cy=\"-195\" rx=\"106.68\" ry=\"18\"/>\n",
       "<text text-anchor=\"middle\" x=\"490.88\" y=\"-191.3\" font-family=\"Times New Roman,serif\" font-size=\"14.00\">P(A ∩ B) = P(A|B) x P(B)</text>\n",
       "</g>\n",
       "<!-- A&#45;&gt;P(A ∩ B) = P(A|B) x P(B) -->\n",
       "<g id=\"edge7\" class=\"edge\">\n",
       "<title>A-&gt;P(A ∩ B) = P(A|B) x P(B)</title>\n",
       "<path fill=\"none\" stroke=\"black\" d=\"M334.4,-155.95C346.19,-159.81 360.72,-164.38 373.89,-168 387.13,-171.64 401.3,-175.2 415.03,-178.49\"/>\n",
       "<polygon fill=\"black\" stroke=\"black\" points=\"414.39,-181.93 424.93,-180.83 416.01,-175.12 414.39,-181.93\"/>\n",
       "</g>\n",
       "<!-- P(A ∩ B&#39;) = P(A|B&#39;) x P(B&#39;) -->\n",
       "<g id=\"node7\" class=\"node\">\n",
       "<title>P(A ∩ B') = P(A|B') x P(B')</title>\n",
       "<ellipse fill=\"none\" stroke=\"black\" cx=\"490.88\" cy=\"-141\" rx=\"112.38\" ry=\"18\"/>\n",
       "<text text-anchor=\"middle\" x=\"490.88\" y=\"-137.3\" font-family=\"Times New Roman,serif\" font-size=\"14.00\">P(A ∩ B') = P(A|B') x P(B')</text>\n",
       "</g>\n",
       "<!-- A&#45;&gt;P(A ∩ B&#39;) = P(A|B&#39;) x P(B&#39;) -->\n",
       "<g id=\"edge8\" class=\"edge\">\n",
       "<title>A-&gt;P(A ∩ B') = P(A|B') x P(B')</title>\n",
       "<path fill=\"none\" stroke=\"black\" d=\"M336.92,-146.98C346.64,-146.6 358.41,-146.14 371.06,-145.65\"/>\n",
       "<polygon fill=\"black\" stroke=\"black\" points=\"371.52,-149.13 381.37,-145.24 371.24,-142.14 371.52,-149.13\"/>\n",
       "</g>\n",
       "<!-- P(A&#39; ∩ B) = P(A&#39;|B) x P(B) -->\n",
       "<g id=\"node8\" class=\"node\">\n",
       "<title>P(A' ∩ B) = P(A'|B) x P(B)</title>\n",
       "<ellipse fill=\"none\" stroke=\"black\" cx=\"490.88\" cy=\"-72\" rx=\"111.28\" ry=\"18\"/>\n",
       "<text text-anchor=\"middle\" x=\"490.88\" y=\"-68.3\" font-family=\"Times New Roman,serif\" font-size=\"14.00\">P(A' ∩ B) = P(A'|B) x P(B)</text>\n",
       "</g>\n",
       "<!-- A&#39;&#45;&gt;P(A&#39; ∩ B) = P(A&#39;|B) x P(B) -->\n",
       "<g id=\"edge9\" class=\"edge\">\n",
       "<title>A'-&gt;P(A' ∩ B) = P(A'|B) x P(B)</title>\n",
       "<path fill=\"none\" stroke=\"black\" d=\"M336.92,-68.58C346.48,-68.8 358.04,-69.05 370.46,-69.33\"/>\n",
       "<polygon fill=\"black\" stroke=\"black\" points=\"370.52,-72.83 380.59,-69.56 370.67,-65.83 370.52,-72.83\"/>\n",
       "</g>\n",
       "<!-- P(A&#39; ∩ B&#39;) = P(A&#39;|B&#39;) x P(B&#39;) -->\n",
       "<g id=\"node9\" class=\"node\">\n",
       "<title>P(A' ∩ B') = P(A'|B') x P(B')</title>\n",
       "<ellipse fill=\"none\" stroke=\"black\" cx=\"490.88\" cy=\"-18\" rx=\"116.98\" ry=\"18\"/>\n",
       "<text text-anchor=\"middle\" x=\"490.88\" y=\"-14.3\" font-family=\"Times New Roman,serif\" font-size=\"14.00\">P(A' ∩ B') = P(A'|B') x P(B')</text>\n",
       "</g>\n",
       "<!-- A&#39;&#45;&gt;P(A&#39; ∩ B&#39;) = P(A&#39;|B&#39;) x P(B&#39;) -->\n",
       "<g id=\"edge10\" class=\"edge\">\n",
       "<title>A'-&gt;P(A' ∩ B') = P(A'|B') x P(B')</title>\n",
       "<path fill=\"none\" stroke=\"black\" d=\"M333.42,-59.02C345.33,-54.47 360.28,-49.05 373.89,-45 385.85,-41.44 398.62,-38.06 411.16,-34.96\"/>\n",
       "<polygon fill=\"black\" stroke=\"black\" points=\"412.24,-38.3 421.13,-32.55 410.59,-31.5 412.24,-38.3\"/>\n",
       "</g>\n",
       "</g>\n",
       "</svg>"
      ],
      "text/plain": [
       "<IPython.core.display.SVG object>"
      ]
     },
     "execution_count": 91,
     "metadata": {},
     "output_type": "execute_result"
    }
   ],
   "source": [
    "graph = gv.Graph(rankdir='LR')\n",
    "\n",
    "graph.add_node(gv.Node('B and A'))\n",
    "graph.add_node(gv.Node('B'))\n",
    "graph.add_node(gv.Node(\"B'\"))\n",
    "graph.add_edge(gv.Edge('B and A', 'B', label='P(B)'))\n",
    "graph.add_edge(gv.Edge('B and A', \"B'\", label=\"P(B')\"))\n",
    "\n",
    "graph.add_node(gv.Node('A'))\n",
    "graph.add_node(gv.Node(\"A'\"))\n",
    "graph.add_edge(gv.Edge('B', 'A', label='P(A|B)'))\n",
    "graph.add_edge(gv.Edge('B', \"A'\", label=\"P(A'|B)\"))\n",
    "\n",
    "graph.add_edge(gv.Edge(\"B'\", 'A', label=\"P(A|B')\"))\n",
    "graph.add_edge(gv.Edge(\"B'\", \"A'\", label=\"P(A'|B')\"))\n",
    "\n",
    "graph.add_node(gv.Node('P(A ∩ B) = P(A|B) x P(B)'))\n",
    "graph.add_edge(gv.Edge('A', 'P(A ∩ B) = P(A|B) x P(B)'))\n",
    "\n",
    "graph.add_node(gv.Node(\"P(A ∩ B') = P(A|B') x P(B')\"))\n",
    "graph.add_edge(gv.Edge('A', \"P(A ∩ B') = P(A|B') x P(B')\"))\n",
    "\n",
    "graph.add_node(gv.Node(\"P(A' ∩ B) = P(A'|B) x P(B)\"))\n",
    "graph.add_edge(gv.Edge(\"A'\", \"P(A' ∩ B) = P(A'|B) x P(B)\"))\n",
    "\n",
    "graph.add_node(gv.Node(\"P(A' ∩ B') = P(A'|B') x P(B')\"))\n",
    "graph.add_edge(gv.Edge(\"A'\", \"P(A' ∩ B') = P(A'|B') x P(B')\"))\n",
    "\n",
    "t = gv.graph_from_dot_data(graph.to_string())\n",
    "t.write_svg('b_and_a.svg')\n",
    "SVG('b_and_a.svg')"
   ]
  },
  {
   "cell_type": "code",
   "execution_count": 61,
   "id": "30befd32",
   "metadata": {},
   "outputs": [
    {
     "data": {
      "image/svg+xml": [
       "<svg xmlns=\"http://www.w3.org/2000/svg\" xmlns:xlink=\"http://www.w3.org/1999/xlink\" width=\"429pt\" height=\"125pt\" viewBox=\"0.00 0.00 429.27 125.47\">\n",
       "<g id=\"graph0\" class=\"graph\" transform=\"scale(1 1) rotate(0) translate(4 121.47)\">\n",
       "<title>G</title>\n",
       "<polygon fill=\"white\" stroke=\"transparent\" points=\"-4,4 -4,-121.47 425.27,-121.47 425.27,4 -4,4\"/>\n",
       "<!-- Donuts and Coffee -->\n",
       "<g id=\"node1\" class=\"node\">\n",
       "<title>Donuts and Coffee</title>\n",
       "<ellipse fill=\"none\" stroke=\"black\" cx=\"79.94\" cy=\"-57.47\" rx=\"79.89\" ry=\"18\"/>\n",
       "<text text-anchor=\"middle\" x=\"79.94\" y=\"-53.77\" font-family=\"Times New Roman,serif\" font-size=\"14.00\">Donuts and Coffee</text>\n",
       "</g>\n",
       "<!-- Donuts -->\n",
       "<g id=\"node2\" class=\"node\">\n",
       "<title>Donuts</title>\n",
       "<ellipse fill=\"none\" stroke=\"black\" cx=\"252.88\" cy=\"-84.47\" rx=\"37.09\" ry=\"18\"/>\n",
       "<text text-anchor=\"middle\" x=\"252.88\" y=\"-80.77\" font-family=\"Times New Roman,serif\" font-size=\"14.00\">Donuts</text>\n",
       "</g>\n",
       "<!-- Donuts and Coffee&#45;&gt;Donuts -->\n",
       "<g id=\"edge1\" class=\"edge\">\n",
       "<title>Donuts and Coffee-&gt;Donuts</title>\n",
       "<path fill=\"none\" stroke=\"black\" d=\"M146.06,-67.75C166.44,-70.97 188.45,-74.45 207.1,-77.4\"/>\n",
       "<polygon fill=\"black\" stroke=\"black\" points=\"206.66,-80.87 217.08,-78.97 207.75,-73.96 206.66,-80.87\"/>\n",
       "<text text-anchor=\"middle\" x=\"186.89\" y=\"-78.27\" font-family=\"Times New Roman,serif\" font-size=\"14.00\">3/4</text>\n",
       "</g>\n",
       "<!-- Donuts&#39; -->\n",
       "<g id=\"node3\" class=\"node\">\n",
       "<title>Donuts'</title>\n",
       "<ellipse fill=\"none\" stroke=\"black\" cx=\"252.88\" cy=\"-30.47\" rx=\"38.99\" ry=\"18\"/>\n",
       "<text text-anchor=\"middle\" x=\"252.88\" y=\"-26.77\" font-family=\"Times New Roman,serif\" font-size=\"14.00\">Donuts'</text>\n",
       "</g>\n",
       "<!-- Donuts and Coffee&#45;&gt;Donuts&#39; -->\n",
       "<g id=\"edge2\" class=\"edge\">\n",
       "<title>Donuts and Coffee-&gt;Donuts'</title>\n",
       "<path fill=\"none\" stroke=\"black\" d=\"M146.06,-47.19C165.87,-44.06 187.22,-40.68 205.53,-37.79\"/>\n",
       "<polygon fill=\"black\" stroke=\"black\" points=\"206.31,-41.21 215.64,-36.2 205.22,-34.3 206.31,-41.21\"/>\n",
       "<text text-anchor=\"middle\" x=\"186.89\" y=\"-45.27\" font-family=\"Times New Roman,serif\" font-size=\"14.00\">1/4</text>\n",
       "</g>\n",
       "<!-- Coffee -->\n",
       "<g id=\"node4\" class=\"node\">\n",
       "<title>Coffee</title>\n",
       "<ellipse fill=\"none\" stroke=\"black\" cx=\"383.58\" cy=\"-99.47\" rx=\"36\" ry=\"18\"/>\n",
       "<text text-anchor=\"middle\" x=\"383.58\" y=\"-95.77\" font-family=\"Times New Roman,serif\" font-size=\"14.00\">Coffee</text>\n",
       "</g>\n",
       "<!-- Donuts&#45;&gt;Coffee -->\n",
       "<g id=\"edge3\" class=\"edge\">\n",
       "<title>Donuts-&gt;Coffee</title>\n",
       "<path fill=\"none\" stroke=\"black\" d=\"M288.5,-89.67C295.57,-90.66 302.96,-91.64 309.88,-92.47 318.93,-93.55 328.64,-94.58 337.92,-95.5\"/>\n",
       "<polygon fill=\"black\" stroke=\"black\" points=\"337.86,-99.01 348.15,-96.48 338.53,-92.04 337.86,-99.01\"/>\n",
       "<text text-anchor=\"middle\" x=\"318.88\" y=\"-97.27\" font-family=\"Times New Roman,serif\" font-size=\"14.00\">3/5</text>\n",
       "</g>\n",
       "<!-- Coffee&#39; -->\n",
       "<g id=\"node5\" class=\"node\">\n",
       "<title>Coffee'</title>\n",
       "<ellipse fill=\"none\" stroke=\"black\" cx=\"383.58\" cy=\"-30.47\" rx=\"37.89\" ry=\"18\"/>\n",
       "<text text-anchor=\"middle\" x=\"383.58\" y=\"-26.77\" font-family=\"Times New Roman,serif\" font-size=\"14.00\">Coffee'</text>\n",
       "</g>\n",
       "<!-- Donuts&#45;&gt;Coffee&#39; -->\n",
       "<g id=\"edge4\" class=\"edge\">\n",
       "<title>Donuts-&gt;Coffee'</title>\n",
       "<path fill=\"none\" stroke=\"black\" d=\"M282.07,-73.26C295.91,-67.7 312.81,-60.83 327.88,-54.47 333.77,-51.98 340,-49.3 346.06,-46.66\"/>\n",
       "<polygon fill=\"black\" stroke=\"black\" points=\"347.62,-49.8 355.38,-42.59 344.81,-43.39 347.62,-49.8\"/>\n",
       "<text text-anchor=\"middle\" x=\"318.88\" y=\"-64.27\" font-family=\"Times New Roman,serif\" font-size=\"14.00\">2/5</text>\n",
       "</g>\n",
       "<!-- Donuts&#39;&#45;&gt;Coffee -->\n",
       "<g id=\"edge5\" class=\"edge\">\n",
       "<title>Donuts'-&gt;Coffee</title>\n",
       "<path fill=\"none\" stroke=\"black\" d=\"M291.59,-27.25C303.74,-27.68 316.89,-29.8 327.88,-35.47 339.11,-41.26 337.72,-47.82 345.88,-57.47 350.86,-63.37 356.31,-69.67 361.43,-75.54\"/>\n",
       "<polygon fill=\"black\" stroke=\"black\" points=\"358.94,-78.01 368.16,-83.22 364.2,-73.39 358.94,-78.01\"/>\n",
       "<text text-anchor=\"middle\" x=\"318.88\" y=\"-39.27\" font-family=\"Times New Roman,serif\" font-size=\"14.00\">1/3</text>\n",
       "</g>\n",
       "<!-- Donuts&#39;&#45;&gt;Coffee&#39; -->\n",
       "<g id=\"edge6\" class=\"edge\">\n",
       "<title>Donuts'-&gt;Coffee'</title>\n",
       "<path fill=\"none\" stroke=\"black\" d=\"M274.15,-15.13C288.76,-5.92 309.13,3.19 327.88,-1.47 336.11,-3.52 344.46,-7.06 352.08,-10.98\"/>\n",
       "<polygon fill=\"black\" stroke=\"black\" points=\"350.51,-14.11 360.95,-15.87 353.89,-7.98 350.51,-14.11\"/>\n",
       "<text text-anchor=\"middle\" x=\"318.88\" y=\"-5.27\" font-family=\"Times New Roman,serif\" font-size=\"14.00\">2/3</text>\n",
       "</g>\n",
       "</g>\n",
       "</svg>"
      ],
      "text/plain": [
       "<IPython.core.display.SVG object>"
      ]
     },
     "execution_count": 61,
     "metadata": {},
     "output_type": "execute_result"
    }
   ],
   "source": [
    "graph = gv.Graph(rankdir='LR')\n",
    "\n",
    "donuts_and_coffee = 'Donuts and Coffee'\n",
    "graph.add_node(gv.Node(donuts_and_coffee))\n",
    "\n",
    "donuts = 'Donuts'\n",
    "not_donuts = \"Donuts'\"\n",
    "\n",
    "graph.add_node(gv.Node(donuts))\n",
    "graph.add_node(gv.Node(not_donuts))\n",
    "graph.add_edge(gv.Edge(donuts_and_coffee, donuts, label='3/4'))\n",
    "graph.add_edge(gv.Edge(donuts_and_coffee, not_donuts, label='1/4'))\n",
    "\n",
    "coffee = 'Coffee'\n",
    "not_coffee = \"Coffee'\"\n",
    "\n",
    "graph.add_node(gv.Node(coffee))\n",
    "graph.add_node(gv.Node(not_coffee))\n",
    "\n",
    "graph.add_edge(gv.Edge(donuts, coffee, label='3/5'))\n",
    "graph.add_edge(gv.Edge(donuts, not_coffee, label='2/5'))\n",
    "\n",
    "graph.add_edge(gv.Edge(not_donuts, coffee, label='1/3'))\n",
    "graph.add_edge(gv.Edge(not_donuts, not_coffee, label='2/3'))\n",
    "\n",
    "t = gv.graph_from_dot_data(graph.to_string())\n",
    "filename = 'donuts_and_coffee.svg'\n",
    "t.write_svg(filename)\n",
    "SVG(filename)"
   ]
  },
  {
   "cell_type": "markdown",
   "id": "556f1de4",
   "metadata": {},
   "source": [
    "### Working with Trees\n",
    "\n",
    "1. Work out the levels\n",
    "    * For example, if you need the probability of $P(A | B)$, you'll probably need the first level to cover $B$, and the second level $A$\n",
    "2. Fill in what you know\n",
    "3. Remember that each set of branches sums to 1\n",
    "    * Remember, $P(A) = 1 - P(A')$\n",
    "4. Remember your formula\n",
    "    * For most other probabilities, use: $P(A | B) = \\frac{P(A \\cap B)}{P(B)}$"
   ]
  },
  {
   "cell_type": "code",
   "execution_count": 24,
   "id": "3db3c4ef",
   "metadata": {},
   "outputs": [
    {
     "name": "stdout",
     "output_type": "stream",
     "text": [
      "P(Donuts') = 1/4\n",
      "P(Donuts' ∩ Coffee) = 1/12\n",
      "P(Coffee'|Donuts) = 2/5\n",
      "P(Coffee) = 8/15\n",
      "P(Donuts|Coffee) = 27/32\n"
     ]
    }
   ],
   "source": [
    "from fractions import Fraction\n",
    "\n",
    "p_not_donuts = 1 / 4\n",
    "p_not_donuts_and_coffee = (1 / 4) * (1 / 3)\n",
    "p_donuts_given_no_coffee = 2 / 5\n",
    "\n",
    "p_donuts_and_coffee = (3 / 4) * (3 / 5)\n",
    "p_coffee = p_not_donuts_and_coffee + p_donuts_and_coffee\n",
    "p_coffee_given_donuts = p_donuts_and_coffee / p_coffee\n",
    "\n",
    "def num_to_frac(i):\n",
    "    return Fraction(i).limit_denominator()\n",
    "\n",
    "print(f\"P(Donuts') = {num_to_frac(p_not_donuts)}\")\n",
    "print(f\"P(Donuts' ∩ Coffee) = {num_to_frac(p_not_donuts_and_coffee)}\")\n",
    "print(f\"P(Coffee'|Donuts) = {num_to_frac(p_donuts_given_no_coffee)}\")\n",
    "print(f\"P(Coffee) = {num_to_frac(p_coffee)}\")\n",
    "print(f\"P(Donuts|Coffee) = {num_to_frac(p_coffee_given_donuts)}\")"
   ]
  },
  {
   "cell_type": "code",
   "execution_count": 82,
   "id": "28405cb9",
   "metadata": {},
   "outputs": [
    {
     "data": {
      "image/svg+xml": [
       "<svg xmlns=\"http://www.w3.org/2000/svg\" xmlns:xlink=\"http://www.w3.org/1999/xlink\" width=\"346pt\" height=\"239pt\" viewBox=\"0.00 0.00 346.08 239.00\">\n",
       "<g id=\"graph0\" class=\"graph\" transform=\"scale(1 1) rotate(0) translate(4 235)\">\n",
       "<title>G</title>\n",
       "<polygon fill=\"white\" stroke=\"transparent\" points=\"-4,4 -4,-235 342.08,-235 342.08,4 -4,4\"/>\n",
       "<!-- Roulette -->\n",
       "<g id=\"node1\" class=\"node\">\n",
       "<title>Roulette</title>\n",
       "<ellipse fill=\"none\" stroke=\"black\" cx=\"40.95\" cy=\"-129\" rx=\"40.89\" ry=\"18\"/>\n",
       "<text text-anchor=\"middle\" x=\"40.95\" y=\"-125.3\" font-family=\"Times New Roman,serif\" font-size=\"14.00\">Roulette</text>\n",
       "</g>\n",
       "<!-- Black -->\n",
       "<g id=\"node2\" class=\"node\">\n",
       "<title>Black</title>\n",
       "<ellipse fill=\"none\" stroke=\"black\" cx=\"181.39\" cy=\"-129\" rx=\"31.4\" ry=\"18\"/>\n",
       "<text text-anchor=\"middle\" x=\"181.39\" y=\"-125.3\" font-family=\"Times New Roman,serif\" font-size=\"14.00\">Black</text>\n",
       "</g>\n",
       "<!-- Roulette&#45;&gt;Black -->\n",
       "<g id=\"edge1\" class=\"edge\">\n",
       "<title>Roulette-&gt;Black</title>\n",
       "<path fill=\"none\" stroke=\"black\" d=\"M81.99,-129C100.23,-129 121.78,-129 140.06,-129\"/>\n",
       "<polygon fill=\"black\" stroke=\"black\" points=\"140.11,-132.5 150.11,-129 140.11,-125.5 140.11,-132.5\"/>\n",
       "<text text-anchor=\"middle\" x=\"115.39\" y=\"-132.8\" font-family=\"Times New Roman,serif\" font-size=\"14.00\">18/38</text>\n",
       "</g>\n",
       "<!-- Red -->\n",
       "<g id=\"node3\" class=\"node\">\n",
       "<title>Red</title>\n",
       "<ellipse fill=\"none\" stroke=\"black\" cx=\"181.39\" cy=\"-186\" rx=\"27\" ry=\"18\"/>\n",
       "<text text-anchor=\"middle\" x=\"181.39\" y=\"-182.3\" font-family=\"Times New Roman,serif\" font-size=\"14.00\">Red</text>\n",
       "</g>\n",
       "<!-- Roulette&#45;&gt;Red -->\n",
       "<g id=\"edge2\" class=\"edge\">\n",
       "<title>Roulette-&gt;Red</title>\n",
       "<path fill=\"none\" stroke=\"black\" d=\"M71.31,-141.09C93.95,-150.41 125.22,-163.29 148.48,-172.86\"/>\n",
       "<polygon fill=\"black\" stroke=\"black\" points=\"147.33,-176.17 157.91,-176.74 149.99,-169.7 147.33,-176.17\"/>\n",
       "<text text-anchor=\"middle\" x=\"115.39\" y=\"-167.8\" font-family=\"Times New Roman,serif\" font-size=\"14.00\">18/38</text>\n",
       "</g>\n",
       "<!-- Green -->\n",
       "<g id=\"node4\" class=\"node\">\n",
       "<title>Green</title>\n",
       "<ellipse fill=\"none\" stroke=\"black\" cx=\"181.39\" cy=\"-72\" rx=\"32.49\" ry=\"18\"/>\n",
       "<text text-anchor=\"middle\" x=\"181.39\" y=\"-68.3\" font-family=\"Times New Roman,serif\" font-size=\"14.00\">Green</text>\n",
       "</g>\n",
       "<!-- Roulette&#45;&gt;Green -->\n",
       "<g id=\"edge3\" class=\"edge\">\n",
       "<title>Roulette-&gt;Green</title>\n",
       "<path fill=\"none\" stroke=\"black\" d=\"M71.31,-116.91C92.98,-107.99 122.55,-95.81 145.44,-86.39\"/>\n",
       "<polygon fill=\"black\" stroke=\"black\" points=\"146.88,-89.58 154.8,-82.54 144.22,-83.11 146.88,-89.58\"/>\n",
       "<text text-anchor=\"middle\" x=\"115.39\" y=\"-106.8\" font-family=\"Times New Roman,serif\" font-size=\"14.00\">2/38</text>\n",
       "</g>\n",
       "<!-- Odd -->\n",
       "<g id=\"node5\" class=\"node\">\n",
       "<title>Odd</title>\n",
       "<ellipse fill=\"none\" stroke=\"black\" cx=\"309.48\" cy=\"-213\" rx=\"27.1\" ry=\"18\"/>\n",
       "<text text-anchor=\"middle\" x=\"309.48\" y=\"-209.3\" font-family=\"Times New Roman,serif\" font-size=\"14.00\">Odd</text>\n",
       "</g>\n",
       "<!-- Black&#45;&gt;Odd -->\n",
       "<g id=\"edge4\" class=\"edge\">\n",
       "<title>Black-&gt;Odd</title>\n",
       "<path fill=\"none\" stroke=\"black\" d=\"M212.61,-129.23C228.79,-130.69 248.32,-134.75 262.89,-145 275.6,-153.95 272.31,-162.03 280.89,-175 283.85,-179.48 287.11,-184.16 290.32,-188.65\"/>\n",
       "<polygon fill=\"black\" stroke=\"black\" points=\"287.64,-190.92 296.35,-196.95 293.3,-186.8 287.64,-190.92\"/>\n",
       "<text text-anchor=\"middle\" x=\"247.39\" y=\"-148.8\" font-family=\"Times New Roman,serif\" font-size=\"14.00\">8/18</text>\n",
       "</g>\n",
       "<!-- Even -->\n",
       "<g id=\"node6\" class=\"node\">\n",
       "<title>Even</title>\n",
       "<ellipse fill=\"none\" stroke=\"black\" cx=\"309.48\" cy=\"-148\" rx=\"28.7\" ry=\"18\"/>\n",
       "<text text-anchor=\"middle\" x=\"309.48\" y=\"-144.3\" font-family=\"Times New Roman,serif\" font-size=\"14.00\">Even</text>\n",
       "</g>\n",
       "<!-- Black&#45;&gt;Even -->\n",
       "<g id=\"edge5\" class=\"edge\">\n",
       "<title>Black-&gt;Even</title>\n",
       "<path fill=\"none\" stroke=\"black\" d=\"M205.36,-117.13C221.69,-110.31 243.99,-104.3 262.89,-111 271.59,-114.09 279.84,-119.62 286.87,-125.48\"/>\n",
       "<polygon fill=\"black\" stroke=\"black\" points=\"284.75,-128.28 294.52,-132.39 289.44,-123.09 284.75,-128.28\"/>\n",
       "<text text-anchor=\"middle\" x=\"247.39\" y=\"-114.8\" font-family=\"Times New Roman,serif\" font-size=\"14.00\">10/18</text>\n",
       "</g>\n",
       "<!-- Red&#45;&gt;Odd -->\n",
       "<g id=\"edge6\" class=\"edge\">\n",
       "<title>Red-&gt;Odd</title>\n",
       "<path fill=\"none\" stroke=\"black\" d=\"M205.83,-194.48C213.99,-197.19 223.26,-200 231.89,-202 244.87,-205.01 259.3,-207.34 272.1,-209.06\"/>\n",
       "<polygon fill=\"black\" stroke=\"black\" points=\"272.04,-212.58 282.4,-210.37 272.92,-205.64 272.04,-212.58\"/>\n",
       "<text text-anchor=\"middle\" x=\"247.39\" y=\"-210.8\" font-family=\"Times New Roman,serif\" font-size=\"14.00\">10/18</text>\n",
       "</g>\n",
       "<!-- Red&#45;&gt;Even -->\n",
       "<g id=\"edge7\" class=\"edge\">\n",
       "<title>Red-&gt;Even</title>\n",
       "<path fill=\"none\" stroke=\"black\" d=\"M206.83,-179.8C222.85,-175.62 244.21,-169.82 262.89,-164 266.74,-162.8 270.76,-161.48 274.74,-160.14\"/>\n",
       "<polygon fill=\"black\" stroke=\"black\" points=\"276.14,-163.36 284.45,-156.79 273.86,-156.74 276.14,-163.36\"/>\n",
       "<text text-anchor=\"middle\" x=\"247.39\" y=\"-176.8\" font-family=\"Times New Roman,serif\" font-size=\"14.00\">8/18</text>\n",
       "</g>\n",
       "<!-- 0 -->\n",
       "<g id=\"node7\" class=\"node\">\n",
       "<title>0</title>\n",
       "<ellipse fill=\"none\" stroke=\"black\" cx=\"309.48\" cy=\"-72\" rx=\"27\" ry=\"18\"/>\n",
       "<text text-anchor=\"middle\" x=\"309.48\" y=\"-68.3\" font-family=\"Times New Roman,serif\" font-size=\"14.00\">0</text>\n",
       "</g>\n",
       "<!-- Green&#45;&gt;0 -->\n",
       "<g id=\"edge8\" class=\"edge\">\n",
       "<title>Green-&gt;0</title>\n",
       "<path fill=\"none\" stroke=\"black\" d=\"M214.21,-72C231.86,-72 253.87,-72 272.19,-72\"/>\n",
       "<polygon fill=\"black\" stroke=\"black\" points=\"272.2,-75.5 282.2,-72 272.2,-68.5 272.2,-75.5\"/>\n",
       "<text text-anchor=\"middle\" x=\"247.39\" y=\"-75.8\" font-family=\"Times New Roman,serif\" font-size=\"14.00\">1/2</text>\n",
       "</g>\n",
       "<!-- 00 -->\n",
       "<g id=\"node8\" class=\"node\">\n",
       "<title>00</title>\n",
       "<ellipse fill=\"none\" stroke=\"black\" cx=\"309.48\" cy=\"-18\" rx=\"27\" ry=\"18\"/>\n",
       "<text text-anchor=\"middle\" x=\"309.48\" y=\"-14.3\" font-family=\"Times New Roman,serif\" font-size=\"14.00\">00</text>\n",
       "</g>\n",
       "<!-- Green&#45;&gt;00 -->\n",
       "<g id=\"edge9\" class=\"edge\">\n",
       "<title>Green-&gt;00</title>\n",
       "<path fill=\"none\" stroke=\"black\" d=\"M207.6,-61.2C227.55,-52.66 255.51,-40.69 276.93,-31.51\"/>\n",
       "<polygon fill=\"black\" stroke=\"black\" points=\"278.45,-34.67 286.27,-27.51 275.7,-28.23 278.45,-34.67\"/>\n",
       "<text text-anchor=\"middle\" x=\"247.39\" y=\"-52.8\" font-family=\"Times New Roman,serif\" font-size=\"14.00\">1/2</text>\n",
       "</g>\n",
       "</g>\n",
       "</svg>"
      ],
      "text/plain": [
       "<IPython.core.display.SVG object>"
      ]
     },
     "execution_count": 82,
     "metadata": {},
     "output_type": "execute_result"
    }
   ],
   "source": [
    "SVG('roulette.svg')"
   ]
  },
  {
   "cell_type": "markdown",
   "id": "e53ce709",
   "metadata": {},
   "source": [
    "Even though this chart gives us $P(Even | Black)$, we can use it to get to $P(Black | Even)$ by using the formula $P(Black | Even) = \\frac{P(Black \\cap Even)}{P(Even)}$\n",
    "\n",
    "1. Finding $P(Black \\cap Even)$\n",
    "    * _Hint_: $\\cap$ is _commutative_, so $P(Black \\cap Even)$ = $P(Even \\cap Black)$"
   ]
  },
  {
   "cell_type": "code",
   "execution_count": 85,
   "id": "46ce030a",
   "metadata": {},
   "outputs": [
    {
     "name": "stdout",
     "output_type": "stream",
     "text": [
      "P(Black ∩ Even) = 5/19\n"
     ]
    }
   ],
   "source": [
    "p_black = (18 / 38)\n",
    "p_even_given_black = (10 / 18)\n",
    "p_even_and_black = p_black * p_even_given_black \n",
    "print(f\"P(Black ∩ Even) = {num_to_frac(p_even_and_black)}\")"
   ]
  },
  {
   "cell_type": "markdown",
   "id": "b3e8ffa7",
   "metadata": {},
   "source": [
    "2. Finding $P(Even)$\n",
    "    * Consider all the ways you can get Even, which are:\n",
    "        * A pocket that is both red and even\n",
    "        * A pocket that is both black and even\n",
    "    * Therefore, we can get there by: $P(Black \\cap Even) + P(Red \\cap Even)$"
   ]
  },
  {
   "cell_type": "code",
   "execution_count": 87,
   "id": "8c033c30",
   "metadata": {},
   "outputs": [
    {
     "name": "stdout",
     "output_type": "stream",
     "text": [
      "P(Even) = 9/19\n"
     ]
    }
   ],
   "source": [
    "p_red = (18 / 38)\n",
    "p_even_given_red = (8 / 18)\n",
    "p_even_and_red = p_red * p_even_given_red\n",
    "p_even = p_even_and_black + p_even_and_red\n",
    "print(f\"P(Even) = {num_to_frac(p_even)}\")"
   ]
  },
  {
   "cell_type": "markdown",
   "id": "fc851849",
   "metadata": {},
   "source": [
    "3. Finding $P(Black|Even)$\n",
    "    * This is where we can utilize $\\frac{P(Black \\cap Even)}{P(Even)}$\n",
    "    * Expanded out:\n",
    "    \n",
    "### $\\frac{P(Black) \\times P(Even | Black)}{P(Black) \\times P(Even | Black) + P(Red) \\times P(Even | Red)}$"
   ]
  },
  {
   "cell_type": "code",
   "execution_count": 88,
   "id": "5172c3f2",
   "metadata": {},
   "outputs": [
    {
     "name": "stdout",
     "output_type": "stream",
     "text": [
      "P(Black | Even) = 5/9\n"
     ]
    }
   ],
   "source": [
    "p_black_given_even = p_even_and_black / p_even\n",
    "print(f\"P(Black | Even) = {num_to_frac(p_black_given_even)}\")"
   ]
  },
  {
   "cell_type": "markdown",
   "id": "3294fa83",
   "metadata": {},
   "source": [
    "## $P(A | B) = \\frac{P(A \\cap B)}{P(B)}$\n",
    "\n",
    "1. $P(A \\cap B) = P(A) \\times P(B | A)$\n",
    "2. $P(B) = P(A \\cap B) + P(A' \\cap B)$\n",
    "    1. $P(A \\cap B) = P(A) \\times P(B | A)$\n",
    "    2. $P(A' \\cap B) = P(A') \\times P(B | A')$\n",
    "    3. $P(B) = P(A) \\times P(B | A) + P(A') \\times P(B | A')$\n",
    "\n",
    "The $P(B)$ part is known as the __Law of Total Probability__\n",
    "\n",
    "The completely expanded formula:\n",
    "\n",
    "## $P(A | B) = \\frac{P(A) \\times P(B | A)}{P(A) \\times P(B | A) + P(A') \\times P(B | A')}$\n",
    "\n",
    "is called __Bayes' Theorem__. It gives you a means of finding reverse conditional probabilities"
   ]
  },
  {
   "cell_type": "code",
   "execution_count": 92,
   "id": "1aa3dada",
   "metadata": {},
   "outputs": [
    {
     "data": {
      "image/svg+xml": [
       "<svg xmlns=\"http://www.w3.org/2000/svg\" xmlns:xlink=\"http://www.w3.org/1999/xlink\" width=\"409pt\" height=\"126pt\" viewBox=\"0.00 0.00 408.97 125.52\">\n",
       "<g id=\"graph0\" class=\"graph\" transform=\"scale(1 1) rotate(0) translate(4 121.52)\">\n",
       "<title>G</title>\n",
       "<polygon fill=\"white\" stroke=\"transparent\" points=\"-4,4 -4,-121.52 404.97,-121.52 404.97,4 -4,4\"/>\n",
       "<!-- Game Testing -->\n",
       "<g id=\"node1\" class=\"node\">\n",
       "<title>Game Testing</title>\n",
       "<ellipse fill=\"none\" stroke=\"black\" cx=\"61.74\" cy=\"-57.52\" rx=\"61.99\" ry=\"18\"/>\n",
       "<text text-anchor=\"middle\" x=\"61.74\" y=\"-53.82\" font-family=\"Times New Roman,serif\" font-size=\"14.00\">Game Testing</text>\n",
       "</g>\n",
       "<!-- Game 1 -->\n",
       "<g id=\"node2\" class=\"node\">\n",
       "<title>Game 1</title>\n",
       "<ellipse fill=\"none\" stroke=\"black\" cx=\"216.49\" cy=\"-84.52\" rx=\"38.99\" ry=\"18\"/>\n",
       "<text text-anchor=\"middle\" x=\"216.49\" y=\"-80.82\" font-family=\"Times New Roman,serif\" font-size=\"14.00\">Game 1</text>\n",
       "</g>\n",
       "<!-- Game Testing&#45;&gt;Game 1 -->\n",
       "<g id=\"edge1\" class=\"edge\">\n",
       "<title>Game Testing-&gt;Game 1</title>\n",
       "<path fill=\"none\" stroke=\"black\" d=\"M114.88,-66.74C132.8,-69.91 152.7,-73.42 170.04,-76.49\"/>\n",
       "<polygon fill=\"black\" stroke=\"black\" points=\"169.46,-79.94 179.92,-78.24 170.68,-73.05 169.46,-79.94\"/>\n",
       "<text text-anchor=\"middle\" x=\"150.49\" y=\"-77.32\" font-family=\"Times New Roman,serif\" font-size=\"14.00\">4/5</text>\n",
       "</g>\n",
       "<!-- Game 2 -->\n",
       "<g id=\"node3\" class=\"node\">\n",
       "<title>Game 2</title>\n",
       "<ellipse fill=\"none\" stroke=\"black\" cx=\"216.49\" cy=\"-30.52\" rx=\"38.99\" ry=\"18\"/>\n",
       "<text text-anchor=\"middle\" x=\"216.49\" y=\"-26.82\" font-family=\"Times New Roman,serif\" font-size=\"14.00\">Game 2</text>\n",
       "</g>\n",
       "<!-- Game Testing&#45;&gt;Game 2 -->\n",
       "<g id=\"edge2\" class=\"edge\">\n",
       "<title>Game Testing-&gt;Game 2</title>\n",
       "<path fill=\"none\" stroke=\"black\" d=\"M114.88,-48.31C132.8,-45.14 152.7,-41.62 170.04,-38.56\"/>\n",
       "<polygon fill=\"black\" stroke=\"black\" points=\"170.68,-42 179.92,-36.81 169.46,-35.1 170.68,-42\"/>\n",
       "<text text-anchor=\"middle\" x=\"150.49\" y=\"-46.32\" font-family=\"Times New Roman,serif\" font-size=\"14.00\">1/5</text>\n",
       "</g>\n",
       "<!-- Enjoyed -->\n",
       "<g id=\"node4\" class=\"node\">\n",
       "<title>Enjoyed</title>\n",
       "<ellipse fill=\"none\" stroke=\"black\" cx=\"358.73\" cy=\"-99.52\" rx=\"40.09\" ry=\"18\"/>\n",
       "<text text-anchor=\"middle\" x=\"358.73\" y=\"-95.82\" font-family=\"Times New Roman,serif\" font-size=\"14.00\">Enjoyed</text>\n",
       "</g>\n",
       "<!-- Game 1&#45;&gt;Enjoyed -->\n",
       "<g id=\"edge3\" class=\"edge\">\n",
       "<title>Game 1-&gt;Enjoyed</title>\n",
       "<path fill=\"none\" stroke=\"black\" d=\"M253.89,-90.04C260.41,-90.94 267.14,-91.81 273.48,-92.52 284.76,-93.8 296.91,-94.94 308.38,-95.91\"/>\n",
       "<polygon fill=\"black\" stroke=\"black\" points=\"308.42,-99.43 318.67,-96.76 309,-92.45 308.42,-99.43\"/>\n",
       "<text text-anchor=\"middle\" x=\"285.98\" y=\"-98.32\" font-family=\"Times New Roman,serif\" font-size=\"14.00\">3/5</text>\n",
       "</g>\n",
       "<!-- Enjoyed&#39; -->\n",
       "<g id=\"node5\" class=\"node\">\n",
       "<title>Enjoyed'</title>\n",
       "<ellipse fill=\"none\" stroke=\"black\" cx=\"358.73\" cy=\"-30.52\" rx=\"42.49\" ry=\"18\"/>\n",
       "<text text-anchor=\"middle\" x=\"358.73\" y=\"-26.82\" font-family=\"Times New Roman,serif\" font-size=\"14.00\">Enjoyed'</text>\n",
       "</g>\n",
       "<!-- Game 1&#45;&gt;Enjoyed&#39; -->\n",
       "<g id=\"edge4\" class=\"edge\">\n",
       "<title>Game 1-&gt;Enjoyed'</title>\n",
       "<path fill=\"none\" stroke=\"black\" d=\"M247.57,-73.63C262.86,-68.02 281.7,-61.03 298.48,-54.52 304.88,-52.04 311.64,-49.36 318.22,-46.72\"/>\n",
       "<polygon fill=\"black\" stroke=\"black\" points=\"319.7,-49.9 327.66,-42.91 317.08,-43.41 319.7,-49.9\"/>\n",
       "<text text-anchor=\"middle\" x=\"285.98\" y=\"-67.32\" font-family=\"Times New Roman,serif\" font-size=\"14.00\">2/5</text>\n",
       "</g>\n",
       "<!-- Game 2&#45;&gt;Enjoyed -->\n",
       "<g id=\"edge5\" class=\"edge\">\n",
       "<title>Game 2-&gt;Enjoyed</title>\n",
       "<path fill=\"none\" stroke=\"black\" d=\"M254.63,-26.65C269.02,-26.69 285.19,-28.71 298.48,-35.52 309.73,-41.28 308.05,-48.12 316.48,-57.52 321.95,-63.62 328.04,-70.02 333.82,-75.93\"/>\n",
       "<polygon fill=\"black\" stroke=\"black\" points=\"331.39,-78.45 340.92,-83.1 336.37,-73.53 331.39,-78.45\"/>\n",
       "<text text-anchor=\"middle\" x=\"285.98\" y=\"-39.32\" font-family=\"Times New Roman,serif\" font-size=\"14.00\">7/10</text>\n",
       "</g>\n",
       "<!-- Game 2&#45;&gt;Enjoyed&#39; -->\n",
       "<g id=\"edge6\" class=\"edge\">\n",
       "<title>Game 2-&gt;Enjoyed'</title>\n",
       "<path fill=\"none\" stroke=\"black\" d=\"M239.67,-15.92C249.58,-10.23 261.68,-4.4 273.48,-1.52 291.16,2.78 310.37,-2.99 325.98,-10.48\"/>\n",
       "<polygon fill=\"black\" stroke=\"black\" points=\"324.7,-13.77 335.18,-15.3 327.95,-7.56 324.7,-13.77\"/>\n",
       "<text text-anchor=\"middle\" x=\"285.98\" y=\"-5.32\" font-family=\"Times New Roman,serif\" font-size=\"14.00\">3/10</text>\n",
       "</g>\n",
       "</g>\n",
       "</svg>"
      ],
      "text/plain": [
       "<IPython.core.display.SVG object>"
      ]
     },
     "execution_count": 92,
     "metadata": {},
     "output_type": "execute_result"
    }
   ],
   "source": [
    "graph = gv.Graph(rankdir='LR')\n",
    "\n",
    "game_testing = 'Game Testing'\n",
    "graph.add_node(gv.Node(game_testing))\n",
    "\n",
    "game1 = 'Game 1'\n",
    "game2 = 'Game 2'\n",
    "\n",
    "graph.add_node(gv.Node(game1))\n",
    "graph.add_node(gv.Node(game2))\n",
    "graph.add_edge(gv.Edge(game_testing, game1, label='4/5'))\n",
    "graph.add_edge(gv.Edge(game_testing, game2, label='1/5'))\n",
    "\n",
    "enjoyed = 'Enjoyed'\n",
    "not_enjoyed = \"Enjoyed'\"\n",
    "\n",
    "graph.add_node(gv.Node(enjoyed))\n",
    "graph.add_node(gv.Node(not_enjoyed))\n",
    "\n",
    "graph.add_edge(gv.Edge(game1, enjoyed, label='3/5'))\n",
    "graph.add_edge(gv.Edge(game1, not_enjoyed, label='2/5'))\n",
    "\n",
    "graph.add_edge(gv.Edge(game2, enjoyed, label='7/10'))\n",
    "graph.add_edge(gv.Edge(game2, not_enjoyed, label='3/10'))\n",
    "\n",
    "t = gv.graph_from_dot_data(graph.to_string())\n",
    "filename = 'game_testing.svg'\n",
    "t.write_svg(filename)\n",
    "SVG(filename)"
   ]
  },
  {
   "cell_type": "markdown",
   "id": "8f483c8b",
   "metadata": {},
   "source": [
    "$P(Game\\,2|Enjoyed) = \\frac{P(Game\\,2 \\cap Enjoyed)}{P(Enjoyed)}$"
   ]
  },
  {
   "cell_type": "code",
   "execution_count": 94,
   "id": "7f5a7f93",
   "metadata": {},
   "outputs": [
    {
     "name": "stdout",
     "output_type": "stream",
     "text": [
      "P(Game 2|Enjoyed) = 0.2258064516129032\n"
     ]
    }
   ],
   "source": [
    "p_game2 = 1 / 5\n",
    "p_enjoyed_given_game2 = 7 / 10\n",
    "p_game2_and_enjoyed = p_game2 * p_enjoyed_given_game2\n",
    "\n",
    "p_game1 = 4/5\n",
    "p_enjoyed_given_game1 = 3/5\n",
    "p_game1_and_enjoyed = p_game1 * p_enjoyed_given_game1\n",
    "\n",
    "p_enjoyed = p_game2_and_enjoyed + p_game1_and_enjoyed\n",
    "\n",
    "p_game2_given_enjoyed = p_game2_and_enjoyed / p_enjoyed\n",
    "\n",
    "print(f\"P(Game 2|Enjoyed) = {p_game2_given_enjoyed}\")"
   ]
  },
  {
   "cell_type": "markdown",
   "id": "6599edea",
   "metadata": {},
   "source": [
    "## Summary So Far\n",
    "\n",
    "### Law of Total Probability\n",
    "\n",
    "If you have two events $A$ and $B$, then\n",
    "\n",
    "$$\n",
    "P(B) = P(B \\cap A) + P(B \\cap A') = P(A) \\times P(B | A) + P(A') \\times P(B | A')\n",
    "$$\n",
    "\n",
    "The Law of Total Proability is the denominator of Bayes' Theorem\n",
    "\n",
    "### Bayes' Theorem\n",
    "\n",
    "If you have $n$ mutually exclusive and exhaustive events, $A$, through to $A_n$, and $B$ is another event, then\n",
    "\n",
    "$$\n",
    "P(A | B) = \\frac{P(A) \\times P(B | A)}{P(A) \\times P(B | A) + P(A') \\times P(B | A')}\n",
    "$$\n",
    "\n",
    "# Dependent Events\n",
    "\n",
    "The likelihood of an event happening twice in a row?"
   ]
  },
  {
   "cell_type": "code",
   "execution_count": 8,
   "id": "c9fc3082",
   "metadata": {},
   "outputs": [
    {
     "data": {
      "image/svg+xml": [
       "<svg xmlns=\"http://www.w3.org/2000/svg\" xmlns:xlink=\"http://www.w3.org/1999/xlink\" width=\"398pt\" height=\"476pt\" viewBox=\"0.00 0.00 398.08 476.00\">\n",
       "<g id=\"graph0\" class=\"graph\" transform=\"scale(1 1) rotate(0) translate(4 472)\">\n",
       "<title>G</title>\n",
       "<polygon fill=\"white\" stroke=\"transparent\" points=\"-4,4 -4,-472 394.08,-472 394.08,4 -4,4\"/>\n",
       "<!-- Roulette -->\n",
       "<g id=\"node1\" class=\"node\">\n",
       "<title>Roulette</title>\n",
       "<ellipse fill=\"none\" stroke=\"black\" cx=\"40.95\" cy=\"-234\" rx=\"40.89\" ry=\"18\"/>\n",
       "<text text-anchor=\"middle\" x=\"40.95\" y=\"-230.3\" font-family=\"Times New Roman,serif\" font-size=\"14.00\">Roulette</text>\n",
       "</g>\n",
       "<!-- Black -->\n",
       "<g id=\"node2\" class=\"node\">\n",
       "<title>Black</title>\n",
       "<ellipse fill=\"none\" stroke=\"black\" cx=\"181.39\" cy=\"-369\" rx=\"31.4\" ry=\"18\"/>\n",
       "<text text-anchor=\"middle\" x=\"181.39\" y=\"-365.3\" font-family=\"Times New Roman,serif\" font-size=\"14.00\">Black</text>\n",
       "</g>\n",
       "<!-- Roulette&#45;&gt;Black -->\n",
       "<g id=\"edge1\" class=\"edge\">\n",
       "<title>Roulette-&gt;Black</title>\n",
       "<path fill=\"none\" stroke=\"black\" d=\"M58.65,-250.28C83.23,-274.26 129.26,-319.14 157.14,-346.33\"/>\n",
       "<polygon fill=\"black\" stroke=\"black\" points=\"154.88,-349.02 164.49,-353.49 159.77,-344 154.88,-349.02\"/>\n",
       "<text text-anchor=\"middle\" x=\"115.39\" y=\"-320.8\" font-family=\"Times New Roman,serif\" font-size=\"14.00\">18/38</text>\n",
       "</g>\n",
       "<!-- Red -->\n",
       "<g id=\"node3\" class=\"node\">\n",
       "<title>Red</title>\n",
       "<ellipse fill=\"none\" stroke=\"black\" cx=\"181.39\" cy=\"-234\" rx=\"27\" ry=\"18\"/>\n",
       "<text text-anchor=\"middle\" x=\"181.39\" y=\"-230.3\" font-family=\"Times New Roman,serif\" font-size=\"14.00\">Red</text>\n",
       "</g>\n",
       "<!-- Roulette&#45;&gt;Red -->\n",
       "<g id=\"edge2\" class=\"edge\">\n",
       "<title>Roulette-&gt;Red</title>\n",
       "<path fill=\"none\" stroke=\"black\" d=\"M81.99,-234C101.53,-234 124.87,-234 143.91,-234\"/>\n",
       "<polygon fill=\"black\" stroke=\"black\" points=\"144,-237.5 154,-234 144,-230.5 144,-237.5\"/>\n",
       "<text text-anchor=\"middle\" x=\"115.39\" y=\"-237.8\" font-family=\"Times New Roman,serif\" font-size=\"14.00\">18/38</text>\n",
       "</g>\n",
       "<!-- Green -->\n",
       "<g id=\"node4\" class=\"node\">\n",
       "<title>Green</title>\n",
       "<ellipse fill=\"none\" stroke=\"black\" cx=\"181.39\" cy=\"-99\" rx=\"32.49\" ry=\"18\"/>\n",
       "<text text-anchor=\"middle\" x=\"181.39\" y=\"-95.3\" font-family=\"Times New Roman,serif\" font-size=\"14.00\">Green</text>\n",
       "</g>\n",
       "<!-- Roulette&#45;&gt;Green -->\n",
       "<g id=\"edge3\" class=\"edge\">\n",
       "<title>Roulette-&gt;Green</title>\n",
       "<path fill=\"none\" stroke=\"black\" d=\"M58.65,-217.72C83.23,-193.74 129.26,-148.86 157.14,-121.67\"/>\n",
       "<polygon fill=\"black\" stroke=\"black\" points=\"159.77,-124 164.49,-114.51 154.88,-118.98 159.77,-124\"/>\n",
       "<text text-anchor=\"middle\" x=\"115.39\" y=\"-177.8\" font-family=\"Times New Roman,serif\" font-size=\"14.00\">2/38</text>\n",
       "</g>\n",
       "<!-- BlackBlack -->\n",
       "<g id=\"node5\" class=\"node\">\n",
       "<title>BlackBlack</title>\n",
       "<ellipse fill=\"none\" stroke=\"black\" cx=\"335.48\" cy=\"-450\" rx=\"51.99\" ry=\"18\"/>\n",
       "<text text-anchor=\"middle\" x=\"335.48\" y=\"-446.3\" font-family=\"Times New Roman,serif\" font-size=\"14.00\">BlackBlack</text>\n",
       "</g>\n",
       "<!-- Black&#45;&gt;BlackBlack -->\n",
       "<g id=\"edge4\" class=\"edge\">\n",
       "<title>Black-&gt;BlackBlack</title>\n",
       "<path fill=\"none\" stroke=\"black\" d=\"M202.26,-382.68C211.16,-388.58 221.88,-395.41 231.89,-401 251.64,-412.04 274.27,-423.02 293.25,-431.78\"/>\n",
       "<polygon fill=\"black\" stroke=\"black\" points=\"291.97,-435.04 302.52,-436.01 294.88,-428.67 291.97,-435.04\"/>\n",
       "<text text-anchor=\"middle\" x=\"247.39\" y=\"-419.8\" font-family=\"Times New Roman,serif\" font-size=\"14.00\">18/38</text>\n",
       "</g>\n",
       "<!-- BlackRed -->\n",
       "<g id=\"node6\" class=\"node\">\n",
       "<title>BlackRed</title>\n",
       "<ellipse fill=\"none\" stroke=\"black\" cx=\"335.48\" cy=\"-396\" rx=\"46.29\" ry=\"18\"/>\n",
       "<text text-anchor=\"middle\" x=\"335.48\" y=\"-392.3\" font-family=\"Times New Roman,serif\" font-size=\"14.00\">BlackRed</text>\n",
       "</g>\n",
       "<!-- Black&#45;&gt;BlackRed -->\n",
       "<g id=\"edge5\" class=\"edge\">\n",
       "<title>Black-&gt;BlackRed</title>\n",
       "<path fill=\"none\" stroke=\"black\" d=\"M211.36,-374.14C231.64,-377.74 259.3,-382.65 283.26,-386.91\"/>\n",
       "<polygon fill=\"black\" stroke=\"black\" points=\"282.81,-390.38 293.27,-388.68 284.04,-383.49 282.81,-390.38\"/>\n",
       "<text text-anchor=\"middle\" x=\"247.39\" y=\"-385.8\" font-family=\"Times New Roman,serif\" font-size=\"14.00\">18/38</text>\n",
       "</g>\n",
       "<!-- BlackGreen -->\n",
       "<g id=\"node7\" class=\"node\">\n",
       "<title>BlackGreen</title>\n",
       "<ellipse fill=\"none\" stroke=\"black\" cx=\"335.48\" cy=\"-342\" rx=\"53.09\" ry=\"18\"/>\n",
       "<text text-anchor=\"middle\" x=\"335.48\" y=\"-338.3\" font-family=\"Times New Roman,serif\" font-size=\"14.00\">BlackGreen</text>\n",
       "</g>\n",
       "<!-- Black&#45;&gt;BlackGreen -->\n",
       "<g id=\"edge6\" class=\"edge\">\n",
       "<title>Black-&gt;BlackGreen</title>\n",
       "<path fill=\"none\" stroke=\"black\" d=\"M210.89,-363.06C217.75,-361.68 225.08,-360.25 231.89,-359 246.46,-356.32 262.23,-353.61 276.94,-351.17\"/>\n",
       "<polygon fill=\"black\" stroke=\"black\" points=\"277.62,-354.6 286.92,-349.52 276.48,-347.7 277.62,-354.6\"/>\n",
       "<text text-anchor=\"middle\" x=\"247.39\" y=\"-362.8\" font-family=\"Times New Roman,serif\" font-size=\"14.00\">2/38</text>\n",
       "</g>\n",
       "<!-- RedBlack -->\n",
       "<g id=\"node8\" class=\"node\">\n",
       "<title>RedBlack</title>\n",
       "<ellipse fill=\"none\" stroke=\"black\" cx=\"335.48\" cy=\"-288\" rx=\"46.29\" ry=\"18\"/>\n",
       "<text text-anchor=\"middle\" x=\"335.48\" y=\"-284.3\" font-family=\"Times New Roman,serif\" font-size=\"14.00\">RedBlack</text>\n",
       "</g>\n",
       "<!-- Red&#45;&gt;RedBlack -->\n",
       "<g id=\"edge7\" class=\"edge\">\n",
       "<title>Red-&gt;RedBlack</title>\n",
       "<path fill=\"none\" stroke=\"black\" d=\"M204.99,-242.88C213.41,-246.14 223.06,-249.8 231.89,-253 250.85,-259.87 271.91,-267.12 289.99,-273.23\"/>\n",
       "<polygon fill=\"black\" stroke=\"black\" points=\"289.11,-276.63 299.7,-276.5 291.34,-269.99 289.11,-276.63\"/>\n",
       "<text text-anchor=\"middle\" x=\"247.39\" y=\"-266.8\" font-family=\"Times New Roman,serif\" font-size=\"14.00\">18/38</text>\n",
       "</g>\n",
       "<!-- RedRed -->\n",
       "<g id=\"node9\" class=\"node\">\n",
       "<title>RedRed</title>\n",
       "<ellipse fill=\"none\" stroke=\"black\" cx=\"335.48\" cy=\"-234\" rx=\"40.89\" ry=\"18\"/>\n",
       "<text text-anchor=\"middle\" x=\"335.48\" y=\"-230.3\" font-family=\"Times New Roman,serif\" font-size=\"14.00\">RedRed</text>\n",
       "</g>\n",
       "<!-- Red&#45;&gt;RedRed -->\n",
       "<g id=\"edge8\" class=\"edge\">\n",
       "<title>Red-&gt;RedRed</title>\n",
       "<path fill=\"none\" stroke=\"black\" d=\"M208.54,-234C229.29,-234 258.92,-234 284.22,-234\"/>\n",
       "<polygon fill=\"black\" stroke=\"black\" points=\"284.4,-237.5 294.4,-234 284.4,-230.5 284.4,-237.5\"/>\n",
       "<text text-anchor=\"middle\" x=\"247.39\" y=\"-237.8\" font-family=\"Times New Roman,serif\" font-size=\"14.00\">18/38</text>\n",
       "</g>\n",
       "<!-- RedGreen -->\n",
       "<g id=\"node10\" class=\"node\">\n",
       "<title>RedGreen</title>\n",
       "<ellipse fill=\"none\" stroke=\"black\" cx=\"335.48\" cy=\"-180\" rx=\"48.19\" ry=\"18\"/>\n",
       "<text text-anchor=\"middle\" x=\"335.48\" y=\"-176.3\" font-family=\"Times New Roman,serif\" font-size=\"14.00\">RedGreen</text>\n",
       "</g>\n",
       "<!-- Red&#45;&gt;RedGreen -->\n",
       "<g id=\"edge9\" class=\"edge\">\n",
       "<title>Red-&gt;RedGreen</title>\n",
       "<path fill=\"none\" stroke=\"black\" d=\"M204.99,-225.12C213.41,-221.86 223.06,-218.2 231.89,-215 250.55,-208.24 271.25,-201.11 289.14,-195.06\"/>\n",
       "<polygon fill=\"black\" stroke=\"black\" points=\"290.4,-198.33 298.76,-191.82 288.16,-191.69 290.4,-198.33\"/>\n",
       "<text text-anchor=\"middle\" x=\"247.39\" y=\"-218.8\" font-family=\"Times New Roman,serif\" font-size=\"14.00\">2/38</text>\n",
       "</g>\n",
       "<!-- GreenBlack -->\n",
       "<g id=\"node11\" class=\"node\">\n",
       "<title>GreenBlack</title>\n",
       "<ellipse fill=\"none\" stroke=\"black\" cx=\"335.48\" cy=\"-126\" rx=\"53.09\" ry=\"18\"/>\n",
       "<text text-anchor=\"middle\" x=\"335.48\" y=\"-122.3\" font-family=\"Times New Roman,serif\" font-size=\"14.00\">GreenBlack</text>\n",
       "</g>\n",
       "<!-- Green&#45;&gt;GreenBlack -->\n",
       "<g id=\"edge10\" class=\"edge\">\n",
       "<title>Green-&gt;GreenBlack</title>\n",
       "<path fill=\"none\" stroke=\"black\" d=\"M212.44,-104.33C231.13,-107.65 255.76,-112.03 278,-115.97\"/>\n",
       "<polygon fill=\"black\" stroke=\"black\" points=\"277.56,-119.45 288.02,-117.75 278.79,-112.56 277.56,-119.45\"/>\n",
       "<text text-anchor=\"middle\" x=\"247.39\" y=\"-115.8\" font-family=\"Times New Roman,serif\" font-size=\"14.00\">18/38</text>\n",
       "</g>\n",
       "<!-- GreenRed -->\n",
       "<g id=\"node12\" class=\"node\">\n",
       "<title>GreenRed</title>\n",
       "<ellipse fill=\"none\" stroke=\"black\" cx=\"335.48\" cy=\"-72\" rx=\"48.19\" ry=\"18\"/>\n",
       "<text text-anchor=\"middle\" x=\"335.48\" y=\"-68.3\" font-family=\"Times New Roman,serif\" font-size=\"14.00\">GreenRed</text>\n",
       "</g>\n",
       "<!-- Green&#45;&gt;GreenRed -->\n",
       "<g id=\"edge11\" class=\"edge\">\n",
       "<title>Green-&gt;GreenRed</title>\n",
       "<path fill=\"none\" stroke=\"black\" d=\"M212.2,-92.8C218.68,-91.5 225.51,-90.17 231.89,-89 247.76,-86.08 265.07,-83.13 280.86,-80.52\"/>\n",
       "<polygon fill=\"black\" stroke=\"black\" points=\"281.69,-83.93 290.99,-78.86 280.56,-77.02 281.69,-83.93\"/>\n",
       "<text text-anchor=\"middle\" x=\"247.39\" y=\"-92.8\" font-family=\"Times New Roman,serif\" font-size=\"14.00\">18/38</text>\n",
       "</g>\n",
       "<!-- GreenGreen -->\n",
       "<g id=\"node13\" class=\"node\">\n",
       "<title>GreenGreen</title>\n",
       "<ellipse fill=\"none\" stroke=\"black\" cx=\"335.48\" cy=\"-18\" rx=\"54.69\" ry=\"18\"/>\n",
       "<text text-anchor=\"middle\" x=\"335.48\" y=\"-14.3\" font-family=\"Times New Roman,serif\" font-size=\"14.00\">GreenGreen</text>\n",
       "</g>\n",
       "<!-- Green&#45;&gt;GreenGreen -->\n",
       "<g id=\"edge12\" class=\"edge\">\n",
       "<title>Green-&gt;GreenGreen</title>\n",
       "<path fill=\"none\" stroke=\"black\" d=\"M201.09,-84.47C210.13,-77.8 221.28,-70.05 231.89,-64 250.37,-53.46 271.71,-43.55 290.13,-35.65\"/>\n",
       "<polygon fill=\"black\" stroke=\"black\" points=\"291.61,-38.83 299.46,-31.71 288.89,-32.38 291.61,-38.83\"/>\n",
       "<text text-anchor=\"middle\" x=\"247.39\" y=\"-67.8\" font-family=\"Times New Roman,serif\" font-size=\"14.00\">2/38</text>\n",
       "</g>\n",
       "</g>\n",
       "</svg>"
      ],
      "text/plain": [
       "<IPython.core.display.SVG object>"
      ]
     },
     "execution_count": 8,
     "metadata": {},
     "output_type": "execute_result"
    }
   ],
   "source": [
    "graph = gv.Graph(rankdir='LR')\n",
    "graph.add_node(gv.Node('Roulette'))\n",
    "graph.add_node(gv.Node('Black'))\n",
    "graph.add_node(gv.Node('Red'))\n",
    "graph.add_node(gv.Node('Green'))\n",
    "graph.add_edge(gv.Edge('Roulette', 'Black', label = '18/38'))\n",
    "graph.add_edge(gv.Edge('Roulette', 'Red', label='18/38'))\n",
    "graph.add_edge(gv.Edge('Roulette', 'Green', label='2/38'))\n",
    "\n",
    "graph.add_node(gv.Node('BlackBlack'))\n",
    "graph.add_node(gv.Node('BlackRed'))\n",
    "graph.add_node(gv.Node('BlackGreen'))\n",
    "graph.add_edge(gv.Edge('Black', 'BlackBlack', label = '18/38'))\n",
    "graph.add_edge(gv.Edge('Black', 'BlackRed', label='18/38'))\n",
    "graph.add_edge(gv.Edge('Black', 'BlackGreen', label='2/38'))\n",
    "\n",
    "\n",
    "graph.add_node(gv.Node('RedBlack'))\n",
    "graph.add_node(gv.Node('RedRed'))\n",
    "graph.add_node(gv.Node('RedGreen'))\n",
    "graph.add_edge(gv.Edge('Red', 'RedBlack', label = '18/38'))\n",
    "graph.add_edge(gv.Edge('Red', 'RedRed', label='18/38'))\n",
    "graph.add_edge(gv.Edge('Red', 'RedGreen', label='2/38'))\n",
    "\n",
    "graph.add_node(gv.Node('GreenBlack'))\n",
    "graph.add_node(gv.Node('GreenRed'))\n",
    "graph.add_node(gv.Node('GreenGreen'))\n",
    "graph.add_edge(gv.Edge('Green', 'GreenBlack', label = '18/38'))\n",
    "graph.add_edge(gv.Edge('Green', 'GreenRed', label='18/38'))\n",
    "graph.add_edge(gv.Edge('Green', 'GreenGreen', label='2/38'))\n",
    "\n",
    "\n",
    "t = gv.graph_from_dot_data(graph.to_string())\n",
    "filename = 'roulette_dependent.svg'\n",
    "t.write_svg(filename)\n",
    "SVG(filename)"
   ]
  },
  {
   "cell_type": "markdown",
   "id": "b60b7ebf",
   "metadata": {},
   "source": [
    "* If events affect each other, they are <u>dependent</u>\n",
    "    * $P(Even | Black) = 10/18$\n",
    "    * $P(Even) = 18/38$\n",
    "    * The knowledge that we have that the pocket is black changes the probability. These two events are __dependent__\n",
    "* If events do not affect each other, they are <u>independent</u>\n",
    "    * $P(Black) = 18/38$\n",
    "    * $P(Black | Black) = 18/38$\n",
    "    * These two probabilities have the same value. The probability of getting a black pocket in this game has no bearing on the probability of of getting black in the next game. These events are __independent__\n",
    "    * In other words $P(A | B) = P(A)$ for independent events\n",
    "    \n",
    "Therefore, for independent events:\n",
    "\n",
    "$$\n",
    "P(A) = \\frac{P(A \\cap B)}{P(B)}\n",
    "$$\n",
    "\n",
    "and\n",
    "\n",
    "$$\n",
    "P(A \\cap B) = P(A) \\times P(B)\n",
    "$$\n",
    "\n",
    "* If $A$ and $B$ are exclusive, they can't be independent, and if they are independent, they can't be mutually exclusive!"
   ]
  },
  {
   "cell_type": "code",
   "execution_count": 107,
   "id": "93ec4b4b",
   "metadata": {},
   "outputs": [
    {
     "name": "stdout",
     "output_type": "stream",
     "text": [
      "P(Black ∩ Black) = 0.22437673130193903\n"
     ]
    }
   ],
   "source": [
    "p_black = 18/38\n",
    "p_black_and_black = p_black * p_black\n",
    "print(f'P(Black ∩ Black) = {p_black_and_black}')"
   ]
  },
  {
   "cell_type": "code",
   "execution_count": 123,
   "id": "d9578eed",
   "metadata": {},
   "outputs": [
    {
     "data": {
      "image/png": "[encoded data removed]",
      "text/plain": [
       "<Figure size 432x288 with 1 Axes>"
      ]
     },
     "metadata": {},
     "output_type": "display_data"
    }
   ],
   "source": [
    "participants = 96\n",
    "yoga = 32\n",
    "swimming = 72\n",
    "both = 24\n",
    "\n",
    "venn2(subsets=(yoga, swimming, both), set_labels=('Yoga', 'Swimming'));"
   ]
  },
  {
   "cell_type": "code",
   "execution_count": 131,
   "id": "94f7de53",
   "metadata": {},
   "outputs": [
    {
     "name": "stdout",
     "output_type": "stream",
     "text": [
      "Yoga and Swimming: 0.25\n",
      "Yoga and swimming 2: 0.25\n",
      "Both: 0.25\n"
     ]
    },
    {
     "data": {
      "image/svg+xml": [
       "<svg xmlns=\"http://www.w3.org/2000/svg\" xmlns:xlink=\"http://www.w3.org/1999/xlink\" width=\"265pt\" height=\"98pt\" viewBox=\"0.00 0.00 264.78 98.00\">\n",
       "<g id=\"graph0\" class=\"graph\" transform=\"scale(1 1) rotate(0) translate(4 94)\">\n",
       "<title>G</title>\n",
       "<polygon fill=\"white\" stroke=\"transparent\" points=\"-4,4 -4,-94 260.78,-94 260.78,4 -4,4\"/>\n",
       "<!-- Health Club -->\n",
       "<g id=\"node1\" class=\"node\">\n",
       "<title>Health Club</title>\n",
       "<ellipse fill=\"none\" stroke=\"black\" cx=\"53.95\" cy=\"-45\" rx=\"53.89\" ry=\"18\"/>\n",
       "<text text-anchor=\"middle\" x=\"53.95\" y=\"-41.3\" font-family=\"Times New Roman,serif\" font-size=\"14.00\">Health Club</text>\n",
       "</g>\n",
       "<!-- swimming -->\n",
       "<g id=\"node2\" class=\"node\">\n",
       "<title>swimming</title>\n",
       "<ellipse fill=\"none\" stroke=\"black\" cx=\"209.34\" cy=\"-72\" rx=\"47.39\" ry=\"18\"/>\n",
       "<text text-anchor=\"middle\" x=\"209.34\" y=\"-68.3\" font-family=\"Times New Roman,serif\" font-size=\"14.00\">swimming</text>\n",
       "</g>\n",
       "<!-- Health Club&#45;&gt;swimming -->\n",
       "<g id=\"edge1\" class=\"edge\">\n",
       "<title>Health Club-&gt;swimming</title>\n",
       "<path fill=\"none\" stroke=\"black\" d=\"M102.22,-53.32C119.22,-56.31 138.49,-59.71 155.9,-62.77\"/>\n",
       "<polygon fill=\"black\" stroke=\"black\" points=\"155.45,-66.24 165.9,-64.53 156.66,-59.35 155.45,-66.24\"/>\n",
       "<text text-anchor=\"middle\" x=\"134.89\" y=\"-63.8\" font-family=\"Times New Roman,serif\" font-size=\"14.00\">3/4</text>\n",
       "</g>\n",
       "<!-- yoga -->\n",
       "<g id=\"node3\" class=\"node\">\n",
       "<title>yoga</title>\n",
       "<ellipse fill=\"none\" stroke=\"black\" cx=\"209.34\" cy=\"-18\" rx=\"28.7\" ry=\"18\"/>\n",
       "<text text-anchor=\"middle\" x=\"209.34\" y=\"-14.3\" font-family=\"Times New Roman,serif\" font-size=\"14.00\">yoga</text>\n",
       "</g>\n",
       "<!-- Health Club&#45;&gt;yoga -->\n",
       "<g id=\"edge2\" class=\"edge\">\n",
       "<title>Health Club-&gt;yoga</title>\n",
       "<path fill=\"none\" stroke=\"black\" d=\"M102.22,-36.68C124.51,-32.76 150.71,-28.14 171.5,-24.48\"/>\n",
       "<polygon fill=\"black\" stroke=\"black\" points=\"172.28,-27.9 181.52,-22.72 171.07,-21.01 172.28,-27.9\"/>\n",
       "<text text-anchor=\"middle\" x=\"134.89\" y=\"-35.8\" font-family=\"Times New Roman,serif\" font-size=\"14.00\">1/3</text>\n",
       "</g>\n",
       "</g>\n",
       "</svg>"
      ],
      "text/plain": [
       "<IPython.core.display.SVG object>"
      ]
     },
     "execution_count": 131,
     "metadata": {},
     "output_type": "execute_result"
    }
   ],
   "source": [
    "p_yoga = yoga / 96\n",
    "p_swimming = swimming / 96\n",
    "\n",
    "p_yoga_and_swimming = p_yoga * p_swimming\n",
    "p_yoga_and_swimming\n",
    "\n",
    "p_yoga_and_swimming2 = p_swimming * (both / 96)\n",
    "\n",
    "print(f\"Yoga and Swimming: {p_yoga_and_swimming}\")\n",
    "# print(f\"Yoga and swimming 2: {p_yoga_and_swimming2 / p_swimming}\")\n",
    "\n",
    "print(f\"Both: {both / 96}\")\n",
    "\n",
    "\n",
    "# $P(Yoga|Swimming) = \\frac{P(Yoga \\cap Swimming)}{P(Swimming)}$\n",
    "\n",
    "\n",
    "graph = gv.Graph(rankdir='LR')\n",
    "club = 'Health Club'\n",
    "graph.add_node(gv.Node(club))\n",
    "\n",
    "swim = 'swimming'\n",
    "yo = 'yoga'\n",
    "graph.add_node(gv.Node(swim))\n",
    "graph.add_node(gv.Node(yo))\n",
    "graph.add_edge(gv.Edge(club, swim, label=f\"{num_to_frac(p_swimming)}\"))\n",
    "graph.add_edge(gv.Edge(club, yo, label=f\"{num_to_frac(p_yoga)}\"))\n",
    "\n",
    "t = gv.graph_from_dot_data(graph.to_string())\n",
    "filename = 'health_club.svg'\n",
    "t.write_svg(filename)\n",
    "SVG(filename)"
   ]
  },
  {
   "cell_type": "markdown",
   "id": "3c045fa1",
   "metadata": {},
   "source": [
    "* P(Yoga) * P(Swimming) = P(Both)\n",
    "\n",
    "So they're independent"
   ]
  },
  {
   "cell_type": "markdown",
   "id": "152558f8",
   "metadata": {},
   "source": [
    "* Throwing a coin and getting heads twice in a row: Independent\n",
    "* Removing socks from a drawer until you find a matching pair: Dependent\n",
    "* Choosing chocolates at random from a box and picking dark chocolates twice in a row: Dependent\n",
    "* Choosing a card from a deck of cards, then choosing another one: Dependent\n",
    "* Choosing a card from a deck of cards, putting the card back in the dec, and then choosing another one: Independent\n",
    "* The eveng of getting rain given it's a Thursday: Independent"
   ]
  },
  {
   "cell_type": "code",
   "execution_count": 20,
   "id": "abe5bb77",
   "metadata": {},
   "outputs": [
    {
     "data": {
      "image/svg+xml": [
       "<svg xmlns=\"http://www.w3.org/2000/svg\" xmlns:xlink=\"http://www.w3.org/1999/xlink\" width=\"640pt\" height=\"206pt\" viewBox=\"0.00 0.00 640.46 206.00\">\n",
       "<g id=\"graph0\" class=\"graph\" transform=\"scale(1 1) rotate(0) translate(4 202)\">\n",
       "<title>G</title>\n",
       "<polygon fill=\"white\" stroke=\"transparent\" points=\"-4,4 -4,-202 636.46,-202 636.46,4 -4,4\"/>\n",
       "<!-- Fred -->\n",
       "<g id=\"node1\" class=\"node\">\n",
       "<title>Fred</title>\n",
       "<ellipse fill=\"none\" stroke=\"black\" cx=\"27.95\" cy=\"-99\" rx=\"27.9\" ry=\"18\"/>\n",
       "<text text-anchor=\"middle\" x=\"27.95\" y=\"-95.3\" font-family=\"Times New Roman,serif\" font-size=\"14.00\">Fred</text>\n",
       "</g>\n",
       "<!-- Heads -->\n",
       "<g id=\"node2\" class=\"node\">\n",
       "<title>Heads</title>\n",
       "<ellipse fill=\"none\" stroke=\"black\" cx=\"143.69\" cy=\"-126\" rx=\"33.6\" ry=\"18\"/>\n",
       "<text text-anchor=\"middle\" x=\"143.69\" y=\"-122.3\" font-family=\"Times New Roman,serif\" font-size=\"14.00\">Heads</text>\n",
       "</g>\n",
       "<!-- Fred&#45;&gt;Heads -->\n",
       "<g id=\"edge1\" class=\"edge\">\n",
       "<title>Fred-&gt;Heads</title>\n",
       "<path fill=\"none\" stroke=\"black\" d=\"M54.47,-105.06C68.55,-108.4 86.35,-112.63 102.28,-116.41\"/>\n",
       "<polygon fill=\"black\" stroke=\"black\" points=\"101.87,-119.91 112.41,-118.81 103.49,-113.1 101.87,-119.91\"/>\n",
       "<text text-anchor=\"middle\" x=\"82.9\" y=\"-116.8\" font-family=\"Times New Roman,serif\" font-size=\"14.00\">0.5</text>\n",
       "</g>\n",
       "<!-- Tails -->\n",
       "<g id=\"node3\" class=\"node\">\n",
       "<title>Tails</title>\n",
       "<ellipse fill=\"none\" stroke=\"black\" cx=\"143.69\" cy=\"-72\" rx=\"28.7\" ry=\"18\"/>\n",
       "<text text-anchor=\"middle\" x=\"143.69\" y=\"-68.3\" font-family=\"Times New Roman,serif\" font-size=\"14.00\">Tails</text>\n",
       "</g>\n",
       "<!-- Fred&#45;&gt;Tails -->\n",
       "<g id=\"edge2\" class=\"edge\">\n",
       "<title>Fred-&gt;Tails</title>\n",
       "<path fill=\"none\" stroke=\"black\" d=\"M54.47,-92.94C69.77,-89.31 89.47,-84.63 106.37,-80.62\"/>\n",
       "<polygon fill=\"black\" stroke=\"black\" points=\"107.54,-83.94 116.46,-78.23 105.92,-77.13 107.54,-83.94\"/>\n",
       "<text text-anchor=\"middle\" x=\"82.9\" y=\"-90.8\" font-family=\"Times New Roman,serif\" font-size=\"14.00\">0.5</text>\n",
       "</g>\n",
       "<!-- Heads&#45;&gt; George Heads -->\n",
       "<g id=\"node4\" class=\"node\">\n",
       "<title>Heads-&gt; George Heads</title>\n",
       "<ellipse fill=\"none\" stroke=\"black\" cx=\"328.33\" cy=\"-180\" rx=\"96.68\" ry=\"18\"/>\n",
       "<text text-anchor=\"middle\" x=\"328.33\" y=\"-176.3\" font-family=\"Times New Roman,serif\" font-size=\"14.00\">Heads-&gt; George Heads</text>\n",
       "</g>\n",
       "<!-- Heads&#45;&gt;Heads&#45;&gt; George Heads -->\n",
       "<g id=\"edge3\" class=\"edge\">\n",
       "<title>Heads-&gt;Heads-&gt; George Heads</title>\n",
       "<path fill=\"none\" stroke=\"black\" d=\"M171.41,-136.56C179.13,-139.45 187.59,-142.48 195.49,-145 215.85,-151.49 238.24,-157.76 258.69,-163.15\"/>\n",
       "<polygon fill=\"black\" stroke=\"black\" points=\"258,-166.58 268.56,-165.72 259.77,-159.81 258,-166.58\"/>\n",
       "<text text-anchor=\"middle\" x=\"204.49\" y=\"-153.8\" font-family=\"Times New Roman,serif\" font-size=\"14.00\">0.5</text>\n",
       "</g>\n",
       "<!-- Heads&#45;&gt; George Tails -->\n",
       "<g id=\"node5\" class=\"node\">\n",
       "<title>Heads-&gt; George Tails</title>\n",
       "<ellipse fill=\"none\" stroke=\"black\" cx=\"328.33\" cy=\"-126\" rx=\"90.98\" ry=\"18\"/>\n",
       "<text text-anchor=\"middle\" x=\"328.33\" y=\"-122.3\" font-family=\"Times New Roman,serif\" font-size=\"14.00\">Heads-&gt; George Tails</text>\n",
       "</g>\n",
       "<!-- Heads&#45;&gt;Heads&#45;&gt; George Tails -->\n",
       "<g id=\"edge4\" class=\"edge\">\n",
       "<title>Heads-&gt;Heads-&gt; George Tails</title>\n",
       "<path fill=\"none\" stroke=\"black\" d=\"M177.77,-126C191.86,-126 209.13,-126 226.86,-126\"/>\n",
       "<polygon fill=\"black\" stroke=\"black\" points=\"227.34,-129.5 237.34,-126 227.34,-122.5 227.34,-129.5\"/>\n",
       "<text text-anchor=\"middle\" x=\"204.49\" y=\"-129.8\" font-family=\"Times New Roman,serif\" font-size=\"14.00\">0.5</text>\n",
       "</g>\n",
       "<!-- Tails&#45;&gt; George Heads -->\n",
       "<g id=\"node6\" class=\"node\">\n",
       "<title>Tails-&gt; George Heads</title>\n",
       "<ellipse fill=\"none\" stroke=\"black\" cx=\"328.33\" cy=\"-72\" rx=\"90.98\" ry=\"18\"/>\n",
       "<text text-anchor=\"middle\" x=\"328.33\" y=\"-68.3\" font-family=\"Times New Roman,serif\" font-size=\"14.00\">Tails-&gt; George Heads</text>\n",
       "</g>\n",
       "<!-- Tails&#45;&gt;Tails&#45;&gt; George Heads -->\n",
       "<g id=\"edge5\" class=\"edge\">\n",
       "<title>Tails-&gt;Tails-&gt; George Heads</title>\n",
       "<path fill=\"none\" stroke=\"black\" d=\"M172.43,-72C187.37,-72 206.82,-72 226.86,-72\"/>\n",
       "<polygon fill=\"black\" stroke=\"black\" points=\"227.05,-75.5 237.05,-72 227.05,-68.5 227.05,-75.5\"/>\n",
       "<text text-anchor=\"middle\" x=\"204.49\" y=\"-75.8\" font-family=\"Times New Roman,serif\" font-size=\"14.00\">0.5</text>\n",
       "</g>\n",
       "<!-- Tails&#45;&gt; George Tails -->\n",
       "<g id=\"node7\" class=\"node\">\n",
       "<title>Tails-&gt; George Tails</title>\n",
       "<ellipse fill=\"none\" stroke=\"black\" cx=\"328.33\" cy=\"-18\" rx=\"85.59\" ry=\"18\"/>\n",
       "<text text-anchor=\"middle\" x=\"328.33\" y=\"-14.3\" font-family=\"Times New Roman,serif\" font-size=\"14.00\">Tails-&gt; George Tails</text>\n",
       "</g>\n",
       "<!-- Tails&#45;&gt;Tails&#45;&gt; George Tails -->\n",
       "<g id=\"edge6\" class=\"edge\">\n",
       "<title>Tails-&gt;Tails-&gt; George Tails</title>\n",
       "<path fill=\"none\" stroke=\"black\" d=\"M168.3,-62.62C176.81,-59.39 186.52,-55.86 195.49,-53 216.82,-46.2 240.37,-39.65 261.6,-34.09\"/>\n",
       "<polygon fill=\"black\" stroke=\"black\" points=\"262.69,-37.42 271.49,-31.53 260.93,-30.65 262.69,-37.42\"/>\n",
       "<text text-anchor=\"middle\" x=\"204.49\" y=\"-56.8\" font-family=\"Times New Roman,serif\" font-size=\"14.00\">0.5</text>\n",
       "</g>\n",
       "<!-- Fred Eats Alone -->\n",
       "<g id=\"node8\" class=\"node\">\n",
       "<title>Fred Eats Alone</title>\n",
       "<ellipse fill=\"none\" stroke=\"black\" cx=\"547.31\" cy=\"-180\" rx=\"69.59\" ry=\"18\"/>\n",
       "<text text-anchor=\"middle\" x=\"547.31\" y=\"-176.3\" font-family=\"Times New Roman,serif\" font-size=\"14.00\">Fred Eats Alone</text>\n",
       "</g>\n",
       "<!-- Heads&#45;&gt; George Heads&#45;&gt;Fred Eats Alone -->\n",
       "<g id=\"edge7\" class=\"edge\">\n",
       "<title>Heads-&gt; George Heads-&gt;Fred Eats Alone</title>\n",
       "<path fill=\"none\" stroke=\"black\" d=\"M425.45,-180C439.45,-180 453.73,-180 467.34,-180\"/>\n",
       "<polygon fill=\"black\" stroke=\"black\" points=\"467.6,-183.5 477.6,-180 467.6,-176.5 467.6,-183.5\"/>\n",
       "</g>\n",
       "<!-- Ron Eats Alone -->\n",
       "<g id=\"node9\" class=\"node\">\n",
       "<title>Ron Eats Alone</title>\n",
       "<ellipse fill=\"none\" stroke=\"black\" cx=\"547.31\" cy=\"-126\" rx=\"68.49\" ry=\"18\"/>\n",
       "<text text-anchor=\"middle\" x=\"547.31\" y=\"-122.3\" font-family=\"Times New Roman,serif\" font-size=\"14.00\">Ron Eats Alone</text>\n",
       "</g>\n",
       "<!-- Heads&#45;&gt; George Tails&#45;&gt;Ron Eats Alone -->\n",
       "<g id=\"edge8\" class=\"edge\">\n",
       "<title>Heads-&gt; George Tails-&gt;Ron Eats Alone</title>\n",
       "<path fill=\"none\" stroke=\"black\" d=\"M419.47,-126C435.8,-126 452.7,-126 468.64,-126\"/>\n",
       "<polygon fill=\"black\" stroke=\"black\" points=\"468.96,-129.5 478.96,-126 468.96,-122.5 468.96,-129.5\"/>\n",
       "</g>\n",
       "<!-- Everyone eats Italian -->\n",
       "<g id=\"node10\" class=\"node\">\n",
       "<title>Everyone eats Italian</title>\n",
       "<ellipse fill=\"none\" stroke=\"black\" cx=\"547.31\" cy=\"-72\" rx=\"85.29\" ry=\"18\"/>\n",
       "<text text-anchor=\"middle\" x=\"547.31\" y=\"-68.3\" font-family=\"Times New Roman,serif\" font-size=\"14.00\">Everyone eats Italian</text>\n",
       "</g>\n",
       "<!-- Tails&#45;&gt; George Heads&#45;&gt;Everyone eats Italian -->\n",
       "<g id=\"edge9\" class=\"edge\">\n",
       "<title>Tails-&gt; George Heads-&gt;Everyone eats Italian</title>\n",
       "<path fill=\"none\" stroke=\"black\" d=\"M419.47,-72C430.14,-72 441.06,-72 451.8,-72\"/>\n",
       "<polygon fill=\"black\" stroke=\"black\" points=\"452.02,-75.5 462.02,-72 452.02,-68.5 452.02,-75.5\"/>\n",
       "</g>\n",
       "<!-- George Eats Alone -->\n",
       "<g id=\"node11\" class=\"node\">\n",
       "<title>George Eats Alone</title>\n",
       "<ellipse fill=\"none\" stroke=\"black\" cx=\"547.31\" cy=\"-18\" rx=\"79.09\" ry=\"18\"/>\n",
       "<text text-anchor=\"middle\" x=\"547.31\" y=\"-14.3\" font-family=\"Times New Roman,serif\" font-size=\"14.00\">George Eats Alone</text>\n",
       "</g>\n",
       "<!-- Tails&#45;&gt; George Tails&#45;&gt;George Eats Alone -->\n",
       "<g id=\"edge10\" class=\"edge\">\n",
       "<title>Tails-&gt; George Tails-&gt;George Eats Alone</title>\n",
       "<path fill=\"none\" stroke=\"black\" d=\"M414.15,-18C428.41,-18 443.23,-18 457.58,-18\"/>\n",
       "<polygon fill=\"black\" stroke=\"black\" points=\"457.92,-21.5 467.92,-18 457.92,-14.5 457.92,-21.5\"/>\n",
       "</g>\n",
       "</g>\n",
       "</svg>"
      ],
      "text/plain": [
       "<IPython.core.display.SVG object>"
      ]
     },
     "execution_count": 20,
     "metadata": {},
     "output_type": "execute_result"
    }
   ],
   "source": [
    "# fred -> heads -> diner, tails -> italian\n",
    "# george -> heads -> italian, tails -> diner\n",
    "# ron -> italian\n",
    "\n",
    "graph = gv.Graph(rankdir='LR')\n",
    "food = 'Food'\n",
    "fred = 'Fred'\n",
    "graph.add_node(gv.Node(fred))\n",
    "\n",
    "heads = 'Heads'\n",
    "tails = 'Tails'\n",
    "\n",
    "graph.add_node(gv.Node(heads))\n",
    "graph.add_node(gv.Node(tails))\n",
    "graph.add_edge(gv.Edge(fred, heads, label='0.5'))\n",
    "graph.add_edge(gv.Edge(fred, tails, label='0.5'))\n",
    "\n",
    "\n",
    "graph.add_edge(gv.Edge(heads, 'Heads-> George Heads', label='0.5'))\n",
    "graph.add_edge(gv.Edge(heads, 'Heads-> George Tails', label='0.5'))\n",
    "graph.add_edge(gv.Edge(tails, 'Tails-> George Heads', label='0.5'))\n",
    "graph.add_edge(gv.Edge(tails, 'Tails-> George Tails', label='0.5'))\n",
    "\n",
    "graph.add_edge(gv.Edge('Heads-> George Heads', 'Fred Eats Alone'))\n",
    "graph.add_edge(gv.Edge('Heads-> George Tails', 'Ron Eats Alone'))\n",
    "graph.add_edge(gv.Edge('Tails-> George Heads', 'Everyone eats Italian'))\n",
    "graph.add_edge(gv.Edge('Tails-> George Tails', 'George Eats Alone'))\n",
    "\n",
    "t = gv.graph_from_dot_data(graph.to_string())\n",
    "filename = 'food.svg'\n",
    "t.write_svg(filename)\n",
    "SVG(filename)"
   ]
  },
  {
   "cell_type": "code",
   "execution_count": 31,
   "id": "047eda5d",
   "metadata": {},
   "outputs": [
    {
     "name": "stdout",
     "output_type": "stream",
     "text": [
      "P(Ron Italian ∩ Fred Italian ∩ George Italian) = 0.25\n",
      "P(Someone Eats Alone) = 0.75\n"
     ]
    }
   ],
   "source": [
    "p_ron_italian_fred_italian_george_italian = 1 * 0.5 * 0.5\n",
    "print(f'P(Ron Italian ∩ Fred Italian ∩ George Italian) = {p_ron_italian_fred_italian_george_italian}')\n",
    "p_someone_eats_alone = (0.5 * 0.5) + (0.5 * 0.5) + (0.5 * 0.5)\n",
    "print(f'P(Someone Eats Alone) = {p_someone_eats_alone}')"
   ]
  },
  {
   "cell_type": "code",
   "execution_count": 33,
   "id": "5c8ff7f6",
   "metadata": {},
   "outputs": [
    {
     "name": "stdout",
     "output_type": "stream",
     "text": [
      "P(17|Black) = 1/18\n",
      "P(22|22) = 1/1444\n",
      "P(n>4|red) = 8/9\n",
      "P(1,2,3,4) = 2/19\n"
     ]
    }
   ],
   "source": [
    "# p_black = 18/38\n",
    "# p_17 = 1/18\n",
    "p_17_given_black = 1/18\n",
    "print(f'P(17|Black) = {num_to_frac(p_17_given_black)}')\n",
    "p_22 = 1/38\n",
    "p_22_twice = p_22 * p_22\n",
    "print(f'P(22|22) = {num_to_frac(p_22_twice)}')\n",
    "p_red = 18/38\n",
    "p_red_greater_than_4 = 1 - (1/18 + 1/18)\n",
    "print(f'P(n>4|red) = {num_to_frac(p_red_greater_than_4)}')\n",
    "p_1_2_3_4 = 4 * 1/38\n",
    "print(f'P(1,2,3,4) = {num_to_frac(p_1_2_3_4)}')"
   ]
  },
  {
   "cell_type": "code",
   "execution_count": null,
   "id": "9104cfbb",
   "metadata": {},
   "outputs": [],
   "source": []
  }
 ],
 "metadata": {
  "kernelspec": {
   "display_name": "Python 3",
   "language": "python",
   "name": "python3"
  },
  "language_info": {
   "codemirror_mode": {
    "name": "ipython",
    "version": 3
   },
   "file_extension": ".py",
   "mimetype": "text/x-python",
   "name": "python",
   "nbconvert_exporter": "python",
   "pygments_lexer": "ipython3",
   "version": "3.8.8"
  }
 },
 "nbformat": 4,
 "nbformat_minor": 5
}
