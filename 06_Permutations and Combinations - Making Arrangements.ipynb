{
 "cells": [
  {
   "cell_type": "code",
   "execution_count": 49,
   "id": "1e206440",
   "metadata": {},
   "outputs": [],
   "source": [
    "import numpy as np\n",
    "import pandas as pd\n",
    "from fractions import Fraction\n",
    "\n",
    "def num_to_frac(i):\n",
    "    return Fraction(i).limit_denominator()"
   ]
  },
  {
   "cell_type": "markdown",
   "id": "abaa848c",
   "metadata": {},
   "source": [
    "* All possible ways of counting\n",
    "* Possibilities"
   ]
  },
  {
   "cell_type": "code",
   "execution_count": 24,
   "id": "69ccc1f7",
   "metadata": {},
   "outputs": [
    {
     "data": {
      "text/html": [
       "<div>\n",
       "<style scoped>\n",
       "    .dataframe tbody tr th:only-of-type {\n",
       "        vertical-align: middle;\n",
       "    }\n",
       "\n",
       "    .dataframe tbody tr th {\n",
       "        vertical-align: top;\n",
       "    }\n",
       "\n",
       "    .dataframe thead th {\n",
       "        text-align: right;\n",
       "    }\n",
       "</style>\n",
       "<table border=\"1\" class=\"dataframe\">\n",
       "  <thead>\n",
       "    <tr style=\"text-align: right;\">\n",
       "      <th></th>\n",
       "      <th>Probability</th>\n",
       "      <th>Gains</th>\n",
       "    </tr>\n",
       "    <tr>\n",
       "      <th>Combination</th>\n",
       "      <th></th>\n",
       "      <th></th>\n",
       "    </tr>\n",
       "  </thead>\n",
       "  <tbody>\n",
       "    <tr>\n",
       "      <th>Correct</th>\n",
       "      <td>0.166667</td>\n",
       "      <td>3500</td>\n",
       "    </tr>\n",
       "    <tr>\n",
       "      <th>Incorrect</th>\n",
       "      <td>0.833333</td>\n",
       "      <td>-500</td>\n",
       "    </tr>\n",
       "  </tbody>\n",
       "</table>\n",
       "</div>"
      ],
      "text/plain": [
       "             Probability  Gains\n",
       "Combination                    \n",
       "Correct         0.166667   3500\n",
       "Incorrect       0.833333   -500"
      ]
     },
     "execution_count": 24,
     "metadata": {},
     "output_type": "execute_result"
    }
   ],
   "source": [
    "horses = [\n",
    "    'Cheeky Sherbet',\n",
    "    'Ruby Toupee',\n",
    "    'Frisky Funboy'\n",
    "]\n",
    "\n",
    "cost_of_bet = 500\n",
    "potential_winnings = cost_of_bet * 7\n",
    "comb = 1/6\n",
    "\n",
    "horse_prob_dist = pd.DataFrame(dict(\n",
    "    Combination = [\n",
    "        'Correct',\n",
    "        'Incorrect'\n",
    "    ],\n",
    "    Probability = [\n",
    "        comb,\n",
    "        5/6\n",
    "    ],\n",
    "    Gains = [\n",
    "        potential_winnings,\n",
    "        cost_of_bet * -1\n",
    "    ]\n",
    "))\n",
    "horse_prob_dist.set_index('Combination', inplace=True)\n",
    "horse_prob_dist"
   ]
  },
  {
   "cell_type": "code",
   "execution_count": 25,
   "id": "6a8b7c17",
   "metadata": {},
   "outputs": [
    {
     "name": "stdout",
     "output_type": "stream",
     "text": [
      "E(X) = 166.66666666666657\n"
     ]
    }
   ],
   "source": [
    "horse_expectation = (horse_prob_dist['Gains'] * horse_prob_dist['Probability']).sum()\n",
    "print(f'E(X) = {horse_expectation}')"
   ]
  },
  {
   "cell_type": "markdown",
   "id": "b5e06cf1",
   "metadata": {},
   "source": [
    "## Calculate the number of arrangements\n",
    "\n",
    "With three horses of equal probability:\n",
    "* 3 ways of filling the first position\n",
    "* 2 ways of filling the second position\n",
    "* 1 way of filling the third position\n",
    "* $3 \\times 2 \\times 1 = 6$\n",
    "\n",
    "For $n$ horses:\n",
    "$$\n",
    "n \\times (n - 1) \\times (n - 2) \\times \\dots \\times 3 \\times 2 \\times 1\n",
    "$$\n",
    "\n",
    "This is called the __factorial__, represented by $!$, so:\n",
    "\n",
    "$$\n",
    "n! = n \\times (n - 1) \\times (n - 2) \\times \\dots \\times 3 \\times 2 \\times 1\n",
    "$$\n",
    "\n",
    "In other words, multiply together all the numbers down from $n$ to 1\n",
    "\n",
    "So, if $n = 4$, then:\n",
    "$$\n",
    "4! = 4 \\times 3 \\times 2 \\times 1\n",
    "$$\n",
    "$$\n",
    "4! = 24\n",
    "$$\n",
    "\n",
    "### If the arrangement is a circle...\n",
    "The key is to fix one element in place, and then arrange the remaing elements. This is how you get it without any duplicates. In other words...\n",
    "\n",
    "$$\n",
    "(n - 1)!\n",
    "$$\n",
    "\n",
    "If clockwise and counterclockwise arrangements are considered the same...\n",
    "\n",
    "$$\n",
    "\\frac{(n-1)!}{2}\n",
    "$$\n",
    "\n",
    "* Factorials are almost always even, because any number multiplied by 2 is even\n",
    "    * The obvious exceptions then, are $0!$ and $1!$, which are both 1"
   ]
  },
  {
   "cell_type": "code",
   "execution_count": 26,
   "id": "b4a40b97",
   "metadata": {},
   "outputs": [],
   "source": [
    "from scipy.special import factorial"
   ]
  },
  {
   "cell_type": "code",
   "execution_count": 40,
   "id": "91e5c36d",
   "metadata": {},
   "outputs": [
    {
     "name": "stdout",
     "output_type": "stream",
     "text": [
      "Probability of guessing a phone number: 0.0001984126984126984%\n"
     ]
    }
   ],
   "source": [
    "print(f'Probability of guessing a phone number: {1/factorial(7)}')"
   ]
  },
  {
   "cell_type": "code",
   "execution_count": 41,
   "id": "c9e857dd",
   "metadata": {},
   "outputs": [
    {
     "name": "stdout",
     "output_type": "stream",
     "text": [
      "Probability with smaller options: 0.006944444444444444\n"
     ]
    }
   ],
   "source": [
    "three, four = factorial([3, 4])\n",
    "print(f'Probability with smaller options: {1 / (three * four)}')"
   ]
  },
  {
   "cell_type": "code",
   "execution_count": 42,
   "id": "d3d524d6",
   "metadata": {},
   "outputs": [
    {
     "name": "stdout",
     "output_type": "stream",
     "text": [
      "Probability of guessing exact horse circle order = 2.7557319223985893e-06\n"
     ]
    }
   ],
   "source": [
    "print(f'Probability of guessing exact horse circle order = {1/factorial(10 - 1)}')"
   ]
  },
  {
   "cell_type": "markdown",
   "id": "28e9f751",
   "metadata": {},
   "source": [
    "For the horse v zebra possibility, where 3 are zebras and 3 are horses, and we want to know the type order, it still seems like the answer would be 6!, since each animal takes a position... BUT I guess there are duplicates in this case\n",
    "\n",
    "## Arranging duplicates\n",
    "\n",
    "When there are $n$ objects total, and $k$ of those objects are alike:\n",
    "\n",
    "$$\n",
    "\\frac{n!}{k!}\n",
    "$$\n",
    "\n",
    "Or, if there are $n$ objects, where $k$ of one type is alike and $j$ of another type are alike:\n",
    "\n",
    "$$\n",
    "\\frac{n!}{j!k!}\n",
    "$$\n",
    "\n",
    "This can be expanded for each type\n",
    "\n",
    "So for the horse v zebra, there are 6 total objects, but 3 are zebras and 3 are horses, so:\n",
    "\n",
    "$$\n",
    "\\frac{6!}{3!3!} = \\frac{720}{6 \\times 6} = \\frac{720}{36} = 20\n",
    "$$"
   ]
  },
  {
   "cell_type": "code",
   "execution_count": 56,
   "id": "819a0d07",
   "metadata": {},
   "outputs": [
    {
     "name": "stdout",
     "output_type": "stream",
     "text": [
      "Winning combinations by indidivudal animal = 3628800.0\n",
      "Winning combinations by species in each position = 2520.0\n",
      "Probability of all camels finishing race consecutively = 1/42\n"
     ]
    }
   ],
   "source": [
    "n_horses = 3\n",
    "n_zebras = 2\n",
    "n_camels = 5\n",
    "n_total = n_horses + n_zebras + n_camels\n",
    "\n",
    "print(f'Winning combinations by indidivudal animal = {factorial(n_total)}')\n",
    "species_permutations = factorial(n_total) / (factorial(n_horses) * factorial(n_camels) * factorial(n_zebras))\n",
    "print(f'Winning combinations by species in each position = {species_permutations}')\n",
    "camels_as_one_object = 1\n",
    "n_arrangements = camels_as_one_object + n_horses + n_zebras\n",
    "camels_consecutively = factorial(n_arrangements) / (factorial(n_horses) * factorial(n_zebras))\n",
    "print(f'Probability of all camels finishing race consecutively = {num_to_frac(camels_consecutively/species_permutations)}')"
   ]
  },
  {
   "cell_type": "markdown",
   "id": "47d04a82",
   "metadata": {},
   "source": [
    "Twenty horse race, how many ways can you pick 3 horses out of 20?\n",
    "\n",
    "Picking one out of 20 would be 1/20\n",
    "Picking 3 out of 20 would be (1/2) ** 3, right?"
   ]
  },
  {
   "cell_type": "code",
   "execution_count": 51,
   "id": "e1640177",
   "metadata": {},
   "outputs": [
    {
     "data": {
      "text/plain": [
       "0.000125"
      ]
     },
     "execution_count": 51,
     "metadata": {},
     "output_type": "execute_result"
    }
   ],
   "source": [
    "1/20 ** 3"
   ]
  },
  {
   "cell_type": "markdown",
   "id": "3e9bdeaa",
   "metadata": {},
   "source": [
    "No, because as one horse finishes, the number of possibilities decreases, so:"
   ]
  },
  {
   "cell_type": "code",
   "execution_count": 55,
   "id": "0252c122",
   "metadata": {},
   "outputs": [
    {
     "data": {
      "text/plain": [
       "0.00014619883040935673"
      ]
     },
     "execution_count": 55,
     "metadata": {},
     "output_type": "execute_result"
    }
   ],
   "source": [
    "1 / (20 * 19 * 18)"
   ]
  },
  {
   "cell_type": "markdown",
   "id": "c5bf578a",
   "metadata": {},
   "source": [
    "## Permutations\n",
    "\n",
    "$$\n",
    "20 \\times 19 \\times 18 = \\frac{20 \\times 19 \\times 18 \\times (17 \\times 16 \\times \\dots \\times 3 \\times 2 \\times 1)}{(17 \\times 16 \\times \\dots \\times 3 \\times 2 \\times 1)}\n",
    "$$\n",
    "\n",
    "__Permutations__ give the total number of ways you can order a certain number of object($r$), drawn from a larger pool ($n$)\n",
    "\n",
    "\n",
    "### $$\n",
    "{}^{n}\\!P_{r} = \\frac{n!}{(n - r)!}\n",
    "$$\n",
    "\n",
    "So, for example above\n",
    "\n",
    "$$\n",
    "\\frac{20!}{(20-3)!} = \\frac{2432902008176640000}{355687428096000} = 6840\n",
    "$$\n",
    "\n",
    "## Combinations\n",
    "\n",
    "Now, if the order of the top 3 doesn't matter (that is, you're just selecting which 3 finish first, not which order they finish), then you can divide out the arrangements for those 3:\n",
    "\n",
    "$$\n",
    "\\frac{6840}{3!} = 1140\n",
    "$$\n",
    "\n",
    "More generally:\n",
    "\n",
    "### $$\n",
    "{}^{n}C_{r} = \\frac{n!}{r!(n - r)!}\n",
    "$$\n",
    "\n",
    "So essentially, you divide by an extra $r!$ if it's a combintation\n",
    "\n",
    "## Permutation vs. Combination\n",
    "\n",
    "A __permutation__ is the number of ways in which you can choose objects from a pool, where the order in which you choose them counts. It's a lot more specific than a combination as you want to count the number of ways in which you fill each position\n",
    "\n",
    "### Permutation: order matters\n",
    "\n",
    "A __combination__ is the number of ways in which you can choose objects from a pool, without caring about the exact order in which you choose them. It's a lot more general than a permutation as you don't need to know how each position has been filled. It's enough to know which objects have been chosen\n",
    "\n",
    "### Combination: order doesn't matter\n",
    "\n",
    "a _choose_ function is just another term for combination\n",
    "\n",
    "Combination can also be written as: $\\binom nr$"
   ]
  },
  {
   "cell_type": "code",
   "execution_count": 75,
   "id": "4dbdb6a8",
   "metadata": {},
   "outputs": [
    {
     "name": "stdout",
     "output_type": "stream",
     "text": [
      "792.0\n",
      "1/22\n"
     ]
    }
   ],
   "source": [
    "n_players = 12\n",
    "n_on_court = 5\n",
    "\n",
    "totals = factorial(n_players) / (factorial(n_on_court) * (factorial(n_players - n_on_court)))\n",
    "print(totals)\n",
    "\n",
    "n_expert_shooters = 3\n",
    "n_remaining_players = n_players - n_expert_shooters\n",
    "n_to_choose = n_on_court - n_expert_shooters\n",
    "\n",
    "combinations = factorial(n_remaining_players) / (factorial(n_to_choose) * (factorial(n_remaining_players - n_to_choose)))\n",
    "print(num_to_frac(combinations / totals))"
   ]
  },
  {
   "cell_type": "code",
   "execution_count": 91,
   "id": "058be430",
   "metadata": {},
   "outputs": [
    {
     "name": "stdout",
     "output_type": "stream",
     "text": [
      "Num of possible hands: 2598960.0\n",
      "P(Royal Flush): 1.5390771693292702e-06\n",
      "P(Four of a Kind): 0.00024009603841536616\n",
      "P(Flush): 0.0019807923169267707\n"
     ]
    }
   ],
   "source": [
    "n_poker_cards = 52\n",
    "n_poker_hand = 5\n",
    "\n",
    "possible_hands = factorial(n_poker_cards) / (factorial(n_poker_hand) * factorial(n_poker_cards - n_poker_hand))\n",
    "print(f'Num of possible hands: {possible_hands}')\n",
    "\n",
    "# Royal Flush\n",
    "# There's one way of getting this combination for each suit, and there are 4 suits\n",
    "# This means that there number of ways of getting a royal flush is 4\n",
    "n_card_of_same_denomination = 4\n",
    "\n",
    "royal_flush = n_card_of_same_denomination / possible_hands\n",
    "print(f'P(Royal Flush): {royal_flush}')\n",
    "\n",
    "# Four of a Kind\n",
    "# There are 4 cards of each denomination\n",
    "# There are 13 denominations in total\n",
    "# Which means there are 13 ways of combining these 4 cards\n",
    "# Once these 4 cards have been chosen, there are 48 cards left\n",
    "# The means that the number of ways of getting this hand are 13 x 48, 624\n",
    "n_denominations = 13\n",
    "n_cards_left = n_poker_cards - n_card_of_same_denomination\n",
    "four_of_a_kind = n_denominations * n_cards_left\n",
    "\n",
    "print(f'P(Four of a Kind): {four_of_a_kind / possible_hands}')\n",
    "\n",
    "# Flush\n",
    "# Find the number of ways of choosing a suit\n",
    "# Choose 5 cards from the suit\n",
    "# There are 13 cards in each suit\n",
    "# That means the number of combinations 4 x 13𝐶5\n",
    "flush = n_card_of_same_denomination * factorial(n_denominations) / (factorial(n_denominations - n_poker_hand) * factorial(n_poker_hand))\n",
    "print(f'P(Flush): {flush / possible_hands}')"
   ]
  },
  {
   "cell_type": "code",
   "execution_count": null,
   "id": "164a07b0",
   "metadata": {},
   "outputs": [],
   "source": []
  }
 ],
 "metadata": {
  "kernelspec": {
   "display_name": "Python 3",
   "language": "python",
   "name": "python3"
  },
  "language_info": {
   "codemirror_mode": {
    "name": "ipython",
    "version": 3
   },
   "file_extension": ".py",
   "mimetype": "text/x-python",
   "name": "python",
   "nbconvert_exporter": "python",
   "pygments_lexer": "ipython3",
   "version": "3.8.8"
  }
 },
 "nbformat": 4,
 "nbformat_minor": 5
}
