{
 "cells": [
  {
   "cell_type": "code",
   "execution_count": 40,
   "id": "8992bc4a",
   "metadata": {},
   "outputs": [],
   "source": [
    "import pandas as pd\n",
    "import numpy as np\n",
    "import matplotlib.pyplot as plt"
   ]
  },
  {
   "cell_type": "markdown",
   "id": "e8be61da",
   "metadata": {},
   "source": [
    "# Mean\n",
    "\n",
    "* <u>Specific</u> ages of class attendees: $19\\,20\\,20\\,20\\,21$\n",
    "* <u>General</u> ages of class attendeees: $x_1\\,x_2\\,x_3\\,x_4\\,x_5$\n",
    "* $Sum = x_1 + x_2 + x_3 + x_4 + x_5 + \\dots + x_n = \\sum_x$\n",
    "* $Mean = \\frac{\\sum_x}{n} = \\mu$"
   ]
  },
  {
   "cell_type": "code",
   "execution_count": 8,
   "id": "e72758c4",
   "metadata": {},
   "outputs": [
    {
     "data": {
      "text/plain": [
       "20.0"
      ]
     },
     "execution_count": 8,
     "metadata": {},
     "output_type": "execute_result"
    }
   ],
   "source": [
    "age = [19, 20, 21]\n",
    "frequency = [1, 3, 1]\n",
    "\n",
    "def mean(nums, frequencies):\n",
    "    return sum([f * x for (x, f) in zip(nums, frequencies)]) / sum(frequencies)\n",
    "    \n",
    "mean(age, frequency)"
   ]
  },
  {
   "cell_type": "markdown",
   "id": "8c505d3c",
   "metadata": {},
   "source": [
    "To include frequency in mean calculation:\n",
    "* $\\mu = \\frac{\\sum_{fx}}{\\sum_f}$\n",
    "\n",
    "Where $f$ is frequency"
   ]
  },
  {
   "cell_type": "code",
   "execution_count": 17,
   "id": "9560fc15",
   "metadata": {},
   "outputs": [
    {
     "data": {
      "image/png": "[encoded data removed]",
      "text/plain": [
       "<Figure size 432x288 with 1 Axes>"
      ]
     },
     "metadata": {
      "needs_background": "light"
     },
     "output_type": "display_data"
    }
   ],
   "source": [
    "power_workout_class = pd.DataFrame([19, 20, 20, 20, 21], columns=['Age'])\n",
    "power_workout_class.plot(kind='hist', bins=[19, 20, 21, 22], density=True);"
   ]
  },
  {
   "cell_type": "code",
   "execution_count": 19,
   "id": "696af528",
   "metadata": {},
   "outputs": [
    {
     "data": {
      "image/png": "[encoded data removed]",
      "text/plain": [
       "<Figure size 432x288 with 1 Axes>"
      ]
     },
     "metadata": {
      "needs_background": "light"
     },
     "output_type": "display_data"
    }
   ],
   "source": [
    "kung_foo_ages = np.concatenate((np.repeat(19, 3), np.repeat(20, 6), np.repeat(21, 3), [145, 147]))\n",
    "kung_foo_class = pd.DataFrame(kung_foo_ages, columns=['Age'])\n",
    "kung_foo_class.plot(kind='hist', bins=[19, 20, 21, 145, 147, 148], density=True);"
   ]
  },
  {
   "cell_type": "markdown",
   "id": "0101386c",
   "metadata": {},
   "source": [
    "* __outlier__ - an extreme high or low value that stands out from the rest of the data\n",
    "* __skewed data__ - when outliers \"pull\" the data to the left or right"
   ]
  },
  {
   "cell_type": "code",
   "execution_count": 24,
   "id": "d6f08df9",
   "metadata": {},
   "outputs": [
    {
     "name": "stdout",
     "output_type": "stream",
     "text": [
      "Mean with Ancient Masters: 38.0\n",
      "Mean without Ancient Masters: 20.0\n"
     ]
    }
   ],
   "source": [
    "print(f'Mean with Ancient Masters: {sum(kung_foo_ages) / len(kung_foo_ages)}')\n",
    "ages_without_ancient_masters = kung_foo_ages[:-2]\n",
    "print(f'Mean without Ancient Masters: {sum(ages_without_ancient_masters) / len(ages_without_ancient_masters)}')"
   ]
  },
  {
   "cell_type": "markdown",
   "id": "845d5882",
   "metadata": {},
   "source": [
    "In this case, the Ancient Masters being in the class makes the class data __skewed to the right__"
   ]
  },
  {
   "cell_type": "markdown",
   "id": "55382b0e",
   "metadata": {},
   "source": [
    "# Median\n",
    "\n",
    "1. Line up your numbers in order, from smallest to largest\n",
    "2. If you have an odd number of values, the median is the one in the middle. If you have _n_ numbers, the middle number is at position $\\frac{(n + 1)}{2}$\n",
    "3. If you have an even number of values, get the median by adding the two middle ones together and dividing by 2. You can find the midpoint by calculating $\\frac{(n + 1)}{2}$. The two middle numbers are on either side of this point"
   ]
  },
  {
   "cell_type": "code",
   "execution_count": 78,
   "id": "b088f6cc",
   "metadata": {},
   "outputs": [
    {
     "name": "stdout",
     "output_type": "stream",
     "text": [
      "odd\n",
      "Median: 3\n",
      "Mean: 3.44\n"
     ]
    },
    {
     "data": {
      "image/png": "[encoded data removed]",
      "text/plain": [
       "<Figure size 432x288 with 1 Axes>"
      ]
     },
     "metadata": {
      "needs_background": "light"
     },
     "output_type": "display_data"
    }
   ],
   "source": [
    "from math import ceil, floor\n",
    "\n",
    "values = np.concatenate((\n",
    "    np.repeat(1, 4),\n",
    "    np.repeat(2, 6),\n",
    "    np.repeat(3, 4),\n",
    "    np.repeat(4, 4),\n",
    "    np.repeat(5, 3),\n",
    "    np.repeat(6, 2),\n",
    "    np.repeat(7, 1),\n",
    "    np.repeat(8, 1)\n",
    "))\n",
    "def median(vals):\n",
    "    length = len(vals)\n",
    "    if length % 2 == 1:\n",
    "        print('odd')\n",
    "        return vals[ceil(length / 2)]\n",
    "    else:\n",
    "        val1 = vals[ceil(length / 2)]\n",
    "        val2 = vals[ceil(length / 2) - 1]\n",
    "        return (val1 + val2) / 2\n",
    "\n",
    "def mean2(vals):\n",
    "    return sum(vals) / len(vals)\n",
    "\n",
    "print(f'Median: {median(values)}')\n",
    "print(f'Mean: {mean2(values)}')\n",
    "\n",
    "plt.hist(values, bins=[0,1,2,3,4,5,6,7,8,9], density=True);"
   ]
  },
  {
   "cell_type": "markdown",
   "id": "6b6f6dea",
   "metadata": {},
   "source": [
    "The values are slightly skewed to the right since the mean is higher than the median"
   ]
  },
  {
   "cell_type": "code",
   "execution_count": 51,
   "id": "6cbc0805",
   "metadata": {},
   "outputs": [
    {
     "name": "stdout",
     "output_type": "stream",
     "text": [
      "Median: 10\n",
      "Mean: 9.28\n"
     ]
    },
    {
     "data": {
      "image/png": "[encoded data removed]",
      "text/plain": [
       "<Figure size 432x288 with 1 Axes>"
      ]
     },
     "metadata": {
      "needs_background": "light"
     },
     "output_type": "display_data"
    }
   ],
   "source": [
    "values = np.concatenate((\n",
    "    np.repeat(1, 1),\n",
    "    np.repeat(4, 1),\n",
    "    np.repeat(6, 2),\n",
    "    np.repeat(8, 3),\n",
    "    np.repeat(9, 4),\n",
    "    np.repeat(10, 4),\n",
    "    np.repeat(11, 5),\n",
    "    np.repeat(12, 5)\n",
    "))\n",
    "\n",
    "print(f'Median: {median(values)}')\n",
    "print(f'Mean: {mean2(values)}')\n",
    "\n",
    "plt.hist(values, bins=[0,1,4,6,8,9,10,11,12,13], density=True);"
   ]
  },
  {
   "cell_type": "markdown",
   "id": "c17fcdfc",
   "metadata": {},
   "source": [
    "The values are slightly skewed to the left since the mean is lower than the median"
   ]
  },
  {
   "cell_type": "code",
   "execution_count": 89,
   "id": "b09be49e",
   "metadata": {},
   "outputs": [
    {
     "name": "stdout",
     "output_type": "stream",
     "text": [
      "Median: 17.0\n",
      "Mean: 17.0\n"
     ]
    },
    {
     "data": {
      "image/png": "[encoded data removed]",
      "text/plain": [
       "<Figure size 432x288 with 1 Axes>"
      ]
     },
     "metadata": {
      "needs_background": "light"
     },
     "output_type": "display_data"
    }
   ],
   "source": [
    "little_ducklings = np.concatenate((\n",
    "    np.repeat(1, 3),\n",
    "    np.repeat(2, 4),\n",
    "    np.repeat(3, 2),\n",
    "    np.repeat(31, 2),\n",
    "    np.repeat(32, 4),\n",
    "    np.repeat(33, 3)\n",
    "))\n",
    "\n",
    "print(f'Median: {median(little_ducklings)}')\n",
    "print(f'Mean: {mean2(little_ducklings)}')\n",
    "\n",
    "plt.hist(little_ducklings, bins=[0,1,2,3,4,31,32,33,34], density=True);\n"
   ]
  },
  {
   "cell_type": "markdown",
   "id": "edb25612",
   "metadata": {},
   "source": [
    "In this case, mean and median both failed this data, since neither one is a value that is present in the data set. The mean is 17 since it is the average. The mean is 17 because the data is evenly split, so it averages the two middle numbers (4 and 31)\n",
    "\n",
    "If I were forced to select a single age to represent this group, it would be 2, since this is a class for kids that parents happen to attend, but that is still inaccurate\n",
    "\n",
    "If I could pick __two__ ages, it would be 2 and 32, since those are the two largest frequencies in the set"
   ]
  },
  {
   "cell_type": "markdown",
   "id": "8be45749",
   "metadata": {},
   "source": [
    "# Mode\n",
    "\n",
    "* __mode__ - the most popular value in the value set\n",
    "* __bimodal__ - when there is more than one value with highest frequency, _or_ if the data looks like it's representing more than one trend\n",
    "* __modal class__ - when working with categorical data, the category or group with the highest frequency\n",
    "\n",
    "Unlike _mean_ and _median_, mode has to be in the data set. It is the only average that works with categorical data\n",
    "\n",
    "### How to Find Mode\n",
    "1. Find all the distinct categories or values in your set of data\n",
    "2. Write down the frequency of each value or category\n",
    "3. Pick out the one(s) with the highest frequency to get the mode"
   ]
  },
  {
   "cell_type": "code",
   "execution_count": 112,
   "id": "9f480065",
   "metadata": {},
   "outputs": [
    {
     "name": "stdout",
     "output_type": "stream",
     "text": [
      "Mode: 2\n",
      "Mode: Green\n"
     ]
    }
   ],
   "source": [
    "values = np.concatenate((\n",
    "    np.repeat(1, 4),\n",
    "    np.repeat(2, 6),\n",
    "    np.repeat(3, 4),\n",
    "    np.repeat(4, 4),\n",
    "    np.repeat(5, 3),\n",
    "    np.repeat(6, 2),\n",
    "    np.repeat(7, 1),\n",
    "    np.repeat(8, 1)\n",
    "))\n",
    "\n",
    "def mode(vals):\n",
    "    unique, counts = np.unique(vals, return_counts=True)\n",
    "    max_index = np.argmax(counts)\n",
    "    return unique[max_index]\n",
    "\n",
    "print(f'Mode: {mode(values)}')\n",
    "\n",
    "df = pd.DataFrame(data={'Frequency': [4, 5, 8, 1, 3]}, index=['Blue', 'Red', 'Green', 'Pink', 'Yellow'])\n",
    "print(f'Mode: {df.idxmax()[0]}')"
   ]
  },
  {
   "cell_type": "markdown",
   "id": "15b839d4",
   "metadata": {},
   "source": [
    "Mode is most useful when you have a high frequency of one or two values, or when the data is categorical instead of numerical\n",
    "\n",
    "Mode is least useful when all or most of the values occur at the same frequency"
   ]
  },
  {
   "cell_type": "markdown",
   "id": "3bde2694",
   "metadata": {},
   "source": [
    "# Summary\n",
    "\n",
    "* Use __mean__ when the data is fairly symmetric and shows just one trend\n",
    "* Use __median__ when the data is skewed because of outliers\n",
    "* Use __mode__ when:\n",
    "    * You're working with categorical data\n",
    "    * When the data shows two or more clusters of data"
   ]
  },
  {
   "cell_type": "code",
   "execution_count": 114,
   "id": "200f2ce0",
   "metadata": {},
   "outputs": [],
   "source": [
    "raise1 = 2000\n",
    "rais2 = 1.1\n",
    "\n",
    "mean = 50000\n",
    "median = 20000\n",
    "mode = 10000"
   ]
  },
  {
   "cell_type": "markdown",
   "id": "bb26bbef",
   "metadata": {},
   "source": [
    "If everyone is given a 2000 pay raise, the mean, median and mode will all increase by 2000, so:\n",
    "* Mean = 5000 + 2000 = 52000\n",
    "* Median = 20000 + 2000 = 22000\n",
    "* Mode = 10000 + 2000 = 12000\n",
    "\n",
    "If everyone is given a 10% pay raise:\n",
    "* Mean = 50000 * 1.1 = 55000\n",
    "* Median = 20000 * 1.1 = 22000\n",
    "* Mode = 10000 * 1.1 = 11000\n",
    "\n",
    "If I were earning the mean wage, I'd definitely want the 10% raise\n",
    "\n",
    "If I were earning the mode wage, I'd want the flat 2000"
   ]
  },
  {
   "cell_type": "code",
   "execution_count": null,
   "id": "0f0b2773",
   "metadata": {},
   "outputs": [],
   "source": []
  }
 ],
 "metadata": {
  "kernelspec": {
   "display_name": "Python 3",
   "language": "python",
   "name": "python3"
  },
  "language_info": {
   "codemirror_mode": {
    "name": "ipython",
    "version": 3
   },
   "file_extension": ".py",
   "mimetype": "text/x-python",
   "name": "python",
   "nbconvert_exporter": "python",
   "pygments_lexer": "ipython3",
   "version": "3.8.8"
  }
 },
 "nbformat": 4,
 "nbformat_minor": 5
}
