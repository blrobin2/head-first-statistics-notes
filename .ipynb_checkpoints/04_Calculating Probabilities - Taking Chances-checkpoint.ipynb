{
 "cells": [
  {
   "cell_type": "code",
   "execution_count": 21,
   "id": "934178d5",
   "metadata": {},
   "outputs": [],
   "source": [
    "from matplotlib_venn import venn2, venn3\n",
    "import matplotlib.pyplot as plt"
   ]
  },
  {
   "cell_type": "markdown",
   "id": "68a30d3f",
   "metadata": {},
   "source": [
    "* __event__ - an outcome or occurence that has a probability assigned to it\n",
    "    * Any outcome where you can say how likely it is to occur"
   ]
  },
  {
   "cell_type": "code",
   "execution_count": 6,
   "id": "b7c95aa5",
   "metadata": {},
   "outputs": [
    {
     "name": "stdout",
     "output_type": "stream",
     "text": [
      "Likelihood of getting 7: 0.02631578947368421\n"
     ]
    }
   ],
   "source": [
    "roulette_slots = 38\n",
    "seven_pockets = 1\n",
    "print(f'Likelihood of getting 7: {seven_pockets/roulette_slots}')"
   ]
  },
  {
   "cell_type": "markdown",
   "id": "561ec55b",
   "metadata": {},
   "source": [
    "On a scale of 0 to 1, the probability of getting 7 on a routelle wheel is 0.026. Not impossible, but not very likely\n",
    "\n",
    "$Probability = \\frac{number\\,of\\,ways\\,of\\,winning}{number\\,of\\,possible\\,outcomes}$\n",
    "\n",
    "For the probability of some event $A$: $P(A) = \\frac{n(A)}{n(S)}$\n",
    "\n",
    "* __$S$__ - possibility space / sample space. All possible outcomes. $A$ is a subset of $S$\n",
    "* __$A'$__ - complementary event. The event that does not occur\n",
    "\n",
    "\n",
    "$P(A) + P(A') = 1$\n",
    "\n",
    "Therefore...\n",
    "\n",
    "$P(A') = 1 - P(A)$"
   ]
  },
  {
   "cell_type": "code",
   "execution_count": 7,
   "id": "ab74019a",
   "metadata": {},
   "outputs": [
    {
     "name": "stdout",
     "output_type": "stream",
     "text": [
      "Getting 9: 0.02631578947368421\n",
      "Getting Green: 0.05263157894736842\n",
      "Getting Black: 0.47368421052631576\n",
      "Getting 38: 0.0\n"
     ]
    }
   ],
   "source": [
    "nine_pockets = 1\n",
    "print(f'Getting 9: {nine_pockets/roulette_slots}')\n",
    "green_pockets = 2\n",
    "print(f'Getting Green: {green_pockets/roulette_slots}')\n",
    "black_pockets = (roulette_slots - green_pockets) / 2\n",
    "print(f'Getting Black: {black_pockets/roulette_slots}')\n",
    "thirtyeight_pockets = 0\n",
    "print(f'Getting 38: {thirtyeight_pockets/roulette_slots}')"
   ]
  },
  {
   "cell_type": "markdown",
   "id": "4e19f248",
   "metadata": {},
   "source": [
    "### No matter how unlikely an event is, if it's not impossible, it can still happen\n",
    "\n",
    "$P(Black or Red) = P(Green')$\n"
   ]
  },
  {
   "cell_type": "code",
   "execution_count": 9,
   "id": "d4b5e7ed",
   "metadata": {},
   "outputs": [
    {
     "name": "stdout",
     "output_type": "stream",
     "text": [
      "Getting Red or Black: 0.9473684210526316\n",
      "See?:0.9473684210526315\n"
     ]
    }
   ],
   "source": [
    "p_green = green_pockets/roulette_slots\n",
    "p_black_or_red = 1 - p_green\n",
    "print(f'Getting Red or Black: {p_black_or_red}')\n",
    "red_or_black = 36\n",
    "print(f'See?:{red_or_black/roulette_slots}')"
   ]
  },
  {
   "cell_type": "markdown",
   "id": "12d26b10",
   "metadata": {},
   "source": [
    "$P(Black\\,or\\,Red) = P(Black) + P(Red)$"
   ]
  },
  {
   "cell_type": "code",
   "execution_count": 11,
   "id": "75c273a9",
   "metadata": {},
   "outputs": [
    {
     "name": "stdout",
     "output_type": "stream",
     "text": [
      "Getting Red or Black: 0.9473684210526315\n"
     ]
    }
   ],
   "source": [
    "red_pockets = 18\n",
    "p_black_or_red = (black_pockets/roulette_slots) + (red_pockets/roulette_slots)\n",
    "print(f'Getting Red or Black: {p_black_or_red}')"
   ]
  },
  {
   "cell_type": "markdown",
   "id": "b8219873",
   "metadata": {},
   "source": [
    "## Summary So Far\n",
    "\n",
    "* __Probability__: to find the probability of an event $A$, use $P(A) = \\frac{n(A)}{n(S)}$\n",
    "* __A'__: $A'$ is the complementary event of $A$. It's the probability that event $A$ does not occur: $P(A') = 1 - P(A)$\n",
    "\n",
    "You can't always add together two probabilities to get the new probability\n",
    "\n",
    "$P(Black\\,or\\,Even) = ?$"
   ]
  },
  {
   "cell_type": "code",
   "execution_count": 15,
   "id": "40efd752",
   "metadata": {},
   "outputs": [
    {
     "name": "stdout",
     "output_type": "stream",
     "text": [
      "Getting Black: 0.47368421052631576\n",
      "Getting Even: 0.47368421052631576\n",
      "If I add them together... 0.9473684210526315\n",
      "Black or Even: 0.6842105263157895\n"
     ]
    }
   ],
   "source": [
    "p_black = black_pockets / roulette_slots\n",
    "black_pockets = 18\n",
    "print(f'Getting Black: {p_black}')\n",
    "even_slots = 18\n",
    "p_even = even_slots / roulette_slots\n",
    "print(f'Getting Even: {p_even}')\n",
    "print(f'If I add them together... {p_black + p_even}')\n",
    "\n",
    "# manually counting...\n",
    "black_or_even_slots = 26\n",
    "print(f'Black or Even: {black_or_even_slots / roulette_slots}')"
   ]
  },
  {
   "cell_type": "markdown",
   "id": "e69c5ec3",
   "metadata": {},
   "source": [
    "* when events are __mutually exclusive__ only one of the two can occur. These types of events can be added together\n",
    "* when events __intersect__, it's possible they can occur simultaneously."
   ]
  },
  {
   "cell_type": "code",
   "execution_count": 16,
   "id": "3d6c3d80",
   "metadata": {},
   "outputs": [
    {
     "data": {
      "image/png": "[encoded data removed]",
      "text/plain": [
       "<Figure size 432x288 with 1 Axes>"
      ]
     },
     "metadata": {},
     "output_type": "display_data"
    }
   ],
   "source": [
    "venn2(subsets=(black_pockets, red_pockets, 0), set_labels=('Black', 'Red'));"
   ]
  },
  {
   "cell_type": "code",
   "execution_count": 27,
   "id": "3e733b9c",
   "metadata": {},
   "outputs": [
    {
     "data": {
      "image/png": "[encoded data removed]",
      "text/plain": [
       "<Figure size 432x288 with 1 Axes>"
      ]
     },
     "metadata": {},
     "output_type": "display_data"
    }
   ],
   "source": [
    "venn2(subsets=(8, 8, 10), set_labels=('Black', 'Even'));"
   ]
  },
  {
   "cell_type": "markdown",
   "id": "0bcb5e18",
   "metadata": {},
   "source": [
    "$P(Black \\cup Even) = P(Black) + P(Even) - P(Black \\cap Even)$\n",
    "\n",
    "* $\\cap = intersection$ - and\n",
    "* $\\cup = union$ - or - __exhaustive__\n",
    "\n",
    "More generally:\n",
    "\n",
    "$P(A \\cup B) = P(A) + P(B) - P(A \\cap B)$"
   ]
  },
  {
   "cell_type": "code",
   "execution_count": 20,
   "id": "b7d44395",
   "metadata": {},
   "outputs": [
    {
     "name": "stdout",
     "output_type": "stream",
     "text": [
      "Black or Even: 0.6842105263157894\n"
     ]
    }
   ],
   "source": [
    "p_black_or_even = p_black + p_even - (10/roulette_slots)\n",
    "print(f'Black or Even: {p_black_or_even}')"
   ]
  },
  {
   "cell_type": "markdown",
   "id": "a054f23a",
   "metadata": {},
   "source": [
    "* If $A$ and $B$ are __exclusive__, then $P(A \\cap B) = 0$\n",
    "* If $A$ and $B$ are __exhaustive__, then $P(A \\cup B) = 1$"
   ]
  },
  {
   "cell_type": "code",
   "execution_count": 26,
   "id": "c0eb926a",
   "metadata": {},
   "outputs": [
    {
     "data": {
      "image/png": "[encoded data removed]",
      "text/plain": [
       "<Figure size 432x288 with 1 Axes>"
      ]
     },
     "metadata": {},
     "output_type": "display_data"
    }
   ],
   "source": [
    "sports_enthusiasts = 50\n",
    "baseball_only = 10\n",
    "football_only = 12\n",
    "basketball_only = 18\n",
    "baseball_and_basketball = 6\n",
    "football_and_basketball = 4\n",
    "football_and_baseball = 0\n",
    "all_sports = 0\n",
    "\n",
    "venn3(\n",
    "    subsets=(baseball_only, basketball_only, baseball_and_basketball, football_only, football_and_baseball, football_and_basketball, all_sports),\n",
    "    set_labels=('Baseball', 'Basketball', 'Football')\n",
    ");"
   ]
  },
  {
   "cell_type": "markdown",
   "id": "4b7d0b1d",
   "metadata": {},
   "source": [
    "total_baseball_players = 16\n",
    "total_basketball_players = 28\n",
    "total_football_players = 16\n",
    "\n",
    "Football and Baseball are mutally exclusive\n",
    "\n",
    "Football, Basketball, and Baseball are exhaustive"
   ]
  },
  {
   "cell_type": "markdown",
   "id": "82f9b344",
   "metadata": {},
   "source": [
    "## Conditional Probabilities\n",
    "\n",
    "\n",
    "### $P(Even\\,given\\,black) = \\frac{Black\\,and\\,even}{Black}$"
   ]
  },
  {
   "cell_type": "code",
   "execution_count": 28,
   "id": "c3a6d4cc",
   "metadata": {},
   "outputs": [
    {
     "data": {
      "image/png": "[encoded data removed]",
      "text/plain": [
       "<Figure size 432x288 with 1 Axes>"
      ]
     },
     "metadata": {},
     "output_type": "display_data"
    }
   ],
   "source": [
    "venn2(subsets=(8, 8, 10), set_labels=('Black', 'Even'));"
   ]
  },
  {
   "cell_type": "code",
   "execution_count": 29,
   "id": "1a8e9563",
   "metadata": {},
   "outputs": [
    {
     "name": "stdout",
     "output_type": "stream",
     "text": [
      "Even given black: 0.5555555555555556\n"
     ]
    }
   ],
   "source": [
    "num_black = 18\n",
    "num_even_and_black = 10\n",
    "p_even_given_black = num_even_and_black / num_black\n",
    "print(f'Even given black: {p_even_given_black}')"
   ]
  },
  {
   "cell_type": "markdown",
   "id": "2d82c275",
   "metadata": {},
   "source": [
    "* __conditional probabilities__ - the probability of one even occurring relative to another occurring\n",
    "    * $|$ - 'given'\n",
    "\n",
    "### $P(A | B) = \\frac{P(A \\cap B)}{P(B)}$\n",
    "\n",
    "We can use this equation to find $P(A \\cap B)$\n",
    "\n",
    "$P(A \\cap B) = P(A | B) \\times P(B)$\n",
    "\n",
    "Or even\n",
    "\n",
    "$P(B \\cap A) = P(B | A) \\times P(A)$\n",
    "\n",
    "## Probability Tree"
   ]
  },
  {
   "cell_type": "code",
   "execution_count": 31,
   "id": "323920de",
   "metadata": {},
   "outputs": [],
   "source": [
    "from graphviz import Digraph"
   ]
  },
  {
   "cell_type": "code",
   "execution_count": 36,
   "id": "db0aab4c",
   "metadata": {},
   "outputs": [
    {
     "data": {
      "text/plain": [
       "'test.dot'"
      ]
     },
     "execution_count": 36,
     "metadata": {},
     "output_type": "execute_result"
    }
   ],
   "source": [
    "dot = Digraph(comment = 'Roulette Wheel')\n",
    "dot.node('A', 'Board')\n",
    "# dot.view()\n",
    "dot.save('test.dot')"
   ]
  },
  {
   "cell_type": "code",
   "execution_count": null,
   "id": "09d62a91",
   "metadata": {},
   "outputs": [],
   "source": []
  }
 ],
 "metadata": {
  "kernelspec": {
   "display_name": "Python 3",
   "language": "python",
   "name": "python3"
  },
  "language_info": {
   "codemirror_mode": {
    "name": "ipython",
    "version": 3
   },
   "file_extension": ".py",
   "mimetype": "text/x-python",
   "name": "python",
   "nbconvert_exporter": "python",
   "pygments_lexer": "ipython3",
   "version": "3.8.8"
  }
 },
 "nbformat": 4,
 "nbformat_minor": 5
}
