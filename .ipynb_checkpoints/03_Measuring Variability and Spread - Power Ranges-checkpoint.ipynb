{
 "cells": [
  {
   "cell_type": "code",
   "execution_count": 82,
   "id": "85dd9c0d",
   "metadata": {},
   "outputs": [],
   "source": [
    "import numpy as np\n",
    "import pandas as pd\n",
    "import matplotlib.pyplot as plt\n",
    "from math import ceil, sqrt"
   ]
  },
  {
   "cell_type": "markdown",
   "id": "266ab247",
   "metadata": {},
   "source": [
    "We can measure the center of the data by looking at averages\n",
    "\n",
    "The mean tells us nothing about how spread out the data is, so we need some other measure to tell us this\n",
    "\n",
    "# Range\n",
    "\n",
    "* __range__ - a way of measuring how spread out a set of values are. It's given by upper bound - lower bound\n",
    "    * __lower bound__ - the smallest value\n",
    "    * __upper bound__ - the largest value"
   ]
  },
  {
   "cell_type": "code",
   "execution_count": 5,
   "id": "de1dd9be",
   "metadata": {},
   "outputs": [
    {
     "data": {
      "text/plain": [
       "6"
      ]
     },
     "execution_count": 5,
     "metadata": {},
     "output_type": "execute_result"
    }
   ],
   "source": [
    "values = [7, 8, 9, 9, 10, 10, 11, 12, 13]\n",
    "upper_bound = max(values)\n",
    "lower_bound = min(values)\n",
    "r = upper_bound - lower_bound\n",
    "r"
   ]
  },
  {
   "cell_type": "code",
   "execution_count": 19,
   "id": "e3b316f3",
   "metadata": {},
   "outputs": [
    {
     "name": "stdout",
     "output_type": "stream",
     "text": [
      "Mean 10.0\n",
      "Lower Bound: 8\n",
      "Upper Bound: 12\n",
      "Range: 4\n"
     ]
    },
    {
     "data": {
      "image/png": "[encoded data removed]",
      "text/plain": [
       "<Figure size 432x288 with 1 Axes>"
      ]
     },
     "metadata": {
      "needs_background": "light"
     },
     "output_type": "display_data"
    }
   ],
   "source": [
    "values = np.concatenate((\n",
    "    np.repeat(8, 1),\n",
    "    np.repeat(9, 2),\n",
    "    np.repeat(10, 3),\n",
    "    np.repeat(11, 2),\n",
    "    np.repeat(12, 1)\n",
    "))\n",
    "\n",
    "def print_stats(values):\n",
    "    print(f\"Mean {values.mean()}\")\n",
    "    print(f\"Lower Bound: {values.min()}\")\n",
    "    print(f\"Upper Bound: {values.max()}\")\n",
    "    print(f\"Range: {values.max() - values.min()}\")\n",
    "\n",
    "print_stats(values)\n",
    "plt.hist(values, bins=[8,9,10,11,12,13]);"
   ]
  },
  {
   "cell_type": "code",
   "execution_count": 21,
   "id": "e6343d41",
   "metadata": {},
   "outputs": [
    {
     "name": "stdout",
     "output_type": "stream",
     "text": [
      "Mean 10.0\n",
      "Lower Bound: 8\n",
      "Upper Bound: 12\n",
      "Range: 4\n"
     ]
    },
    {
     "data": {
      "image/png": "[encoded data removed]",
      "text/plain": [
       "<Figure size 432x288 with 1 Axes>"
      ]
     },
     "metadata": {
      "needs_background": "light"
     },
     "output_type": "display_data"
    }
   ],
   "source": [
    "values = np.concatenate((\n",
    "    np.repeat(8, 1),\n",
    "    np.repeat(9, 0),\n",
    "    np.repeat(10, 8),\n",
    "    np.repeat(11, 0),\n",
    "    np.repeat(12, 1)\n",
    "))\n",
    "\n",
    "print_stats(values)\n",
    "plt.hist(values, bins=[8,9,10,11,12,13]);"
   ]
  },
  {
   "cell_type": "markdown",
   "id": "d2a48f40",
   "metadata": {},
   "source": [
    "Even though both data sets have the same mean, lower, upper, and range, the values are distributed differently. In this case, the range doesn't really help us describe these differences\n",
    "\n",
    "* __outliers__ - extreme high and low values\n",
    "\n",
    "__The range only describes the width of the data, not how it's dispersed between the bounds__\n",
    "\n",
    "# Quartiles\n",
    "\n",
    "* __quartiles__ - Values that split your data into quarters\n",
    "* __lower quartile__ - the lowest quartile (Q1)\n",
    "* __upper quartile__ - the highest quartile (Q3)\n",
    "* __interquartile range__ - a \"mini range\" that is less sensitive to outliers. upper quartile - lower quartiles"
   ]
  },
  {
   "cell_type": "code",
   "execution_count": 42,
   "id": "a7152a52",
   "metadata": {},
   "outputs": [
    {
     "data": {
      "text/plain": [
       "2"
      ]
     },
     "execution_count": 42,
     "metadata": {},
     "output_type": "execute_result"
    }
   ],
   "source": [
    "values = [1,1,1,2,2,2,2,3,3,3,3,3,4,4,4,4,5,5,5,10]\n",
    "\n",
    "# How to do with numpy instead of manual\n",
    "# Q1 = np.percentile(values, 25, interpolation = 'midpoint')\n",
    "# Q2 = np.median(values)\n",
    "# Q3 = np.percentile(values, 75, interpolation = 'midpoint')\n",
    "# iqr = Q3 - Q1\n",
    "# iqr\n",
    "\n",
    "def lower_quartile(values):\n",
    "    index = len(values) / 4\n",
    "    if (isinstance(index, int)):\n",
    "        val1 = values[index - 1]\n",
    "        val2 = values[index]\n",
    "        return (val1 + val2) / 2\n",
    "    else:\n",
    "        return values[ceil(index) - 1]\n",
    "    \n",
    "def upper_quartile(values):\n",
    "    index = 3 * len(values) / 4\n",
    "    if (isinstance(index, int)):\n",
    "        val1 = values[index - 1]\n",
    "        val2 = values[index]\n",
    "        return (val1 + val2) / 2\n",
    "    else:\n",
    "        return values[ceil(index) - 1]\n",
    "    \n",
    "Q1 = lower_quartile(values)\n",
    "Q3 = upper_quartile(values)\n",
    "Q3 - Q1"
   ]
  },
  {
   "cell_type": "code",
   "execution_count": 43,
   "id": "dd34d2c3",
   "metadata": {},
   "outputs": [
    {
     "name": "stdout",
     "output_type": "stream",
     "text": [
      "Range: 27\n",
      "Lower Quartile: 6\n",
      "Upper Quartile: 11\n",
      "Interquartile Range: 5\n"
     ]
    }
   ],
   "source": [
    "scores = np.concatenate((\n",
    "    np.repeat(3, 2),\n",
    "    np.repeat(6, 1),\n",
    "    np.repeat(7, 2),\n",
    "    np.repeat(10, 3),\n",
    "    np.repeat(11, 1),\n",
    "    np.repeat(13, 1),\n",
    "    np.repeat(30, 1)\n",
    "))\n",
    "\n",
    "print(f\"Range: {scores.max() - scores.min()}\")\n",
    "l = lower_quartile(scores)\n",
    "u = upper_quartile(scores)\n",
    "print(f\"Lower Quartile: {l}\")\n",
    "print(f\"Upper Quartile: {u}\")\n",
    "print(f\"Interquartile Range: {u - l}\")"
   ]
  },
  {
   "cell_type": "markdown",
   "id": "7b03f1ec",
   "metadata": {},
   "source": [
    "## Summary So Far\n",
    "\n",
    "* The __upper__ and __lower bounds__ of the data are the highest and lowest values in the data set\n",
    "* The __range__ is a simple way of measuring how values are dispersed:\n",
    "    * $range = upper\\,bound - lower\\,bound$\n",
    "* The range is very sensitive to outliers\n",
    "* The interquartile range is less sensitive to outliers than the range\n",
    "* __Quartiles__ are values that split your data into quarters\n",
    "    * The highest quartile is called the upper quartile\n",
    "    * The lowest quartile is called the lower quartile\n",
    "    * The middle quartile is the median\n",
    "* The __interquartile range__ is the range of the central 50% of the data:\n",
    "    * $iqr = upper\\,quartile - lower\\,quartile$\n",
    "    \n",
    "# Percentiles\n",
    "\n",
    "* __percentile__ - the $k^{th}$ is the value that is $k$% of the way through the data, denotated by $P_k$\n",
    "* __interpercentile range__ - the range from the chosen percentile\n",
    "\n",
    "* For example, the 10<sup>th</sup> percentile is the value that is 10% of the way through the data\n",
    "* The lower quartile is $P_{25}$\n",
    "* The upper quartile is $P_{75}$\n",
    "* The median is $P_{50}$"
   ]
  },
  {
   "cell_type": "code",
   "execution_count": 46,
   "id": "24e185e4",
   "metadata": {},
   "outputs": [
    {
     "data": {
      "text/plain": [
       "6"
      ]
     },
     "execution_count": 46,
     "metadata": {},
     "output_type": "execute_result"
    }
   ],
   "source": [
    "def nth_percentile(n, values):\n",
    "    index = n * (len(values) / 100)\n",
    "    if (isinstance(index, int)):\n",
    "        val1 = values[index - 1]\n",
    "        val2 = values[index]\n",
    "        return (val1 + val2) / 2\n",
    "    else:\n",
    "        return values[ceil(index) - 1]\n",
    "    \n",
    "nth_percentile(25, scores)"
   ]
  },
  {
   "cell_type": "markdown",
   "id": "d6b992af",
   "metadata": {},
   "source": [
    "# Box and Whisker Plots\n",
    "\n",
    "* Shows range, interquartile range, median of a set of data\n",
    "* More than one set can be represented, so it's a great way of comparing sets"
   ]
  },
  {
   "cell_type": "code",
   "execution_count": 62,
   "id": "d5c2d00d",
   "metadata": {},
   "outputs": [
    {
     "data": {
      "image/png": "[encoded data removed]",
      "text/plain": [
       "<Figure size 432x288 with 1 Axes>"
      ]
     },
     "metadata": {
      "needs_background": "light"
     },
     "output_type": "display_data"
    }
   ],
   "source": [
    "plt.boxplot(scores, vert=False, showmeans=True, labels=['Player']);"
   ]
  },
  {
   "cell_type": "markdown",
   "id": "1af5c9e9",
   "metadata": {},
   "source": [
    "Matplotlib is a bit smarter and separates true outliers from the remaining dataset\n",
    "\n",
    "## Summary So Far\n",
    "* __percentiles__ split your data into percentages. They're useful for benchmarking\n",
    "* The _k_<sup>th</sup> percentile is _k_% of the way through your data. It's denoted by $P_k$\n",
    "* An __interpercentile range__ is the like the interquartile range but between two percentiles\n",
    "* __Box and whisker diagrams__, or box plots, are useful ways of showing ranges and quartiles on a chart\n",
    "    * A box shows where the quartiles and the interquartile range are\n",
    "    * The whiskers give the upper and lower bounds\n",
    "    * Optionally, dots/stars denote outliers\n",
    "    * More than one data set can be show on the same chart, so they're useful for comparisons"
   ]
  },
  {
   "cell_type": "markdown",
   "id": "ce1ff2df",
   "metadata": {},
   "source": [
    "# Variability\n",
    "\n",
    "* Average distances - distance from the mean\n",
    "* The positive and negative distances from the mean <u>cancel each other out</u>"
   ]
  },
  {
   "cell_type": "code",
   "execution_count": 81,
   "id": "dd846c29",
   "metadata": {},
   "outputs": [
    {
     "name": "stdout",
     "output_type": "stream",
     "text": [
      "0.0\n",
      "12.666666666666666\n"
     ]
    }
   ],
   "source": [
    "values = np.array([1, 2, 9])\n",
    "\n",
    "def average_distance(values):\n",
    "    mean = values.mean()\n",
    "    return (mean - values).sum() / len(values)\n",
    "\n",
    "print(average_distance(values))\n",
    "average_distance(scores)\n",
    "\n",
    "def average_distance_squared(values):\n",
    "    mean = values.mean()\n",
    "    return ((mean - values) ** 2).sum() / len(values)\n",
    "\n",
    "print(average_distance_squared(values))"
   ]
  },
  {
   "cell_type": "markdown",
   "id": "8000d705",
   "metadata": {},
   "source": [
    "## Variance\n",
    "\n",
    "$Variance = \\frac{\\sum{(x - \\mu)^2}}{n}$\n",
    "\n",
    "a way of measuring spread, and it is the average of the distances from the mean squared\n",
    "\n",
    "## Standard Deviation\n",
    "\n",
    "The square root of the variance, how far values are from the mean on average\n",
    "\n",
    "$\\sigma = Standard\\,Deviation$\n",
    "\n",
    "$\\sigma = \\sqrt{Variance} \\longleftrightarrow \\sigma^2 = Variance$"
   ]
  },
  {
   "cell_type": "code",
   "execution_count": 90,
   "id": "8b73dc1d",
   "metadata": {},
   "outputs": [
    {
     "name": "stdout",
     "output_type": "stream",
     "text": [
      "𝜇: 4.0\n",
      "𝜎: 2.0\n",
      "𝜇: 3.5\n",
      "𝜎: 1.707825127659933\n"
     ]
    }
   ],
   "source": [
    "def standard_deviation(values):\n",
    "    return sqrt(average_distance_squared(values))\n",
    "\n",
    "standard_deviation(values)\n",
    "# or using numpy\n",
    "values.std()\n",
    "\n",
    "arr1 = np.array([1, 2, 3, 4, 5, 6, 7])\n",
    "print(f'𝜇: {arr1.mean()}')\n",
    "print(f'𝜎: {arr1.std()}')\n",
    "\n",
    "arr2 = np.array([1, 2, 3, 4, 5, 6])\n",
    "print(f'𝜇: {arr2.mean()}')\n",
    "print(f'𝜎: {arr2.std()}')"
   ]
  },
  {
   "cell_type": "markdown",
   "id": "3075d0d8",
   "metadata": {},
   "source": [
    "## A quicker calculation for variance\n",
    "\n",
    "$Variance = \\frac{\\sum{x^2 - \\mu^2}}{n}$"
   ]
  },
  {
   "cell_type": "code",
   "execution_count": 95,
   "id": "930d0cbc",
   "metadata": {},
   "outputs": [],
   "source": [
    "def variance(values):\n",
    "    mean = values.mean()\n",
    "    return (values**2 - mean**2).sum() / len(values)"
   ]
  },
  {
   "cell_type": "code",
   "execution_count": 96,
   "id": "4b9d3545",
   "metadata": {},
   "outputs": [
    {
     "data": {
      "text/plain": [
       "12.666666666666666"
      ]
     },
     "execution_count": 96,
     "metadata": {},
     "output_type": "execute_result"
    }
   ],
   "source": [
    "variance(values)"
   ]
  },
  {
   "cell_type": "code",
   "execution_count": 103,
   "id": "1febec33",
   "metadata": {},
   "outputs": [
    {
     "name": "stdout",
     "output_type": "stream",
     "text": [
      "Player 1 Mean: 10.0\n",
      "Player 1 Standard Deviation: 1.4832396974191326\n",
      "Player 2 Mean: 10.0\n",
      "Player 2 Standard Deviation: 1.7320508075688772\n",
      "Player 3 Mean: 10.0\n",
      "Player 3 Standard Deviation: 7.019453488180349\n"
     ]
    }
   ],
   "source": [
    "player1 = np.concatenate((\n",
    "    np.repeat(7, 1),\n",
    "    np.repeat(9, 2),\n",
    "    np.repeat(10, 4),\n",
    "    np.repeat(11, 2),\n",
    "    np.repeat(13, 1)\n",
    "))\n",
    "\n",
    "print(f'Player 1 Mean: {player1.mean()}')\n",
    "print(f'Player 1 Standard Deviation: {player1.std()}')\n",
    "\n",
    "player2 = np.concatenate((\n",
    "    np.repeat(7, 1),\n",
    "    np.repeat(8, 1),\n",
    "    np.repeat(9, 2),\n",
    "    np.repeat(10, 2),\n",
    "    np.repeat(11, 2),\n",
    "    np.repeat(12, 1),\n",
    "    np.repeat(13, 1)\n",
    "))\n",
    "\n",
    "print(f'Player 2 Mean: {player2.mean()}')\n",
    "print(f'Player 2 Standard Deviation: {player2.std()}')\n",
    "\n",
    "player3 = np.concatenate((\n",
    "    np.repeat(3, 2),\n",
    "    np.repeat(6, 1),\n",
    "    np.repeat(7, 2),\n",
    "    np.repeat(10, 3),\n",
    "    np.repeat(11, 1),\n",
    "    np.repeat(13, 1),\n",
    "    np.repeat(30, 1)\n",
    "))\n",
    "\n",
    "print(f'Player 3 Mean: {player3.mean()}')\n",
    "print(f'Player 3 Standard Deviation: {player3.std()}')"
   ]
  },
  {
   "cell_type": "markdown",
   "id": "b216c6bc",
   "metadata": {},
   "source": [
    "Based on these, Player 1 seems like a more reliable player since their scores deviate less from the average\n",
    "\n",
    "If everyone gets a $2000 pay raise, then the standard deviation remains the same\n",
    "\n",
    "If everyone gets a 10\\% raise, then the standard deviation increases as the spread between highest and lowest paid increases"
   ]
  },
  {
   "cell_type": "markdown",
   "id": "fc558894",
   "metadata": {},
   "source": [
    "# Standard Score / Z-Score\n",
    "\n",
    "## $z = \\frac{x - \\mu}{\\sigma}$\n",
    "\n",
    "This gives us a way of comparing values across different data sets even when those sets have different means and standard deviations\n",
    "\n",
    "In other words, __z-score is a way of comparing values as if thery came from the same set of data or distribution__\n",
    "\n",
    "Standard score = number of standard deviations from the mean\n",
    "\n",
    "## Summary So Far\n",
    "\n",
    "* The __variance__ and __standard deviation__ measure how values are dispersed by looking at how ar values are from the mean\n",
    "* The variances is calculated using: $\\frac{\\sum{(x - \\mu)^2}}{n}$ or $\\frac{\\sum{x^2 - \\mu^2}}{n}$\n",
    "* The standard deviation is equal to the square root of the variance, and the variance is the standard deviation squared\n",
    "* __Stanard scores__, or __z-scores__ are a way of comparing values across different sets of data where the means and standard deviations are different\n",
    "    * To find the standard score of value $x$, use: $z = \\frac{x - \\mu}{\\sigma}$\n",
    "    * it is the number of standard deviations by which the value of a raw score (i.e., an observed value or data point) is above or below the mean value of what is being observed or measured"
   ]
  },
  {
   "cell_type": "code",
   "execution_count": null,
   "id": "16920e11",
   "metadata": {},
   "outputs": [],
   "source": []
  }
 ],
 "metadata": {
  "kernelspec": {
   "display_name": "Python 3",
   "language": "python",
   "name": "python3"
  },
  "language_info": {
   "codemirror_mode": {
    "name": "ipython",
    "version": 3
   },
   "file_extension": ".py",
   "mimetype": "text/x-python",
   "name": "python",
   "nbconvert_exporter": "python",
   "pygments_lexer": "ipython3",
   "version": "3.8.8"
  }
 },
 "nbformat": 4,
 "nbformat_minor": 5
}
